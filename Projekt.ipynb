{
 "cells": [
  {
   "cell_type": "markdown",
   "id": "3343f13f",
   "metadata": {},
   "source": [
    "# Projekt PRIAD"
   ]
  },
  {
   "cell_type": "markdown",
   "id": "4b553490",
   "metadata": {},
   "source": [
    "## Rozpoznawanie autora utworu literackiego na podstawie treści utworu z wykorzystaniem worka słów."
   ]
  },
  {
   "cell_type": "markdown",
   "id": "1536703a",
   "metadata": {},
   "source": [
    "### Stanisław Maliński, Jan Stachurski"
   ]
  },
  {
   "cell_type": "markdown",
   "id": "3ffebd88",
   "metadata": {},
   "source": [
    "___"
   ]
  },
  {
   "cell_type": "markdown",
   "id": "c325b8c9",
   "metadata": {},
   "source": [
    "Importy"
   ]
  },
  {
   "cell_type": "code",
   "execution_count": 58,
   "id": "e83dca69",
   "metadata": {},
   "outputs": [],
   "source": [
    "import os\n",
    "import pandas as pd\n",
    "import numpy as np\n",
    "from math import log\n",
    "\n",
    "pd.options.display.float_format = \"{:.8f}\".format "
   ]
  },
  {
   "cell_type": "code",
   "execution_count": 59,
   "id": "1f5e80a9",
   "metadata": {},
   "outputs": [],
   "source": [
    "import warnings\n",
    "warnings.filterwarnings(\"ignore\")"
   ]
  },
  {
   "cell_type": "markdown",
   "id": "fe4ca9ad",
   "metadata": {},
   "source": [
    "Wczytywanie danych"
   ]
  },
  {
   "cell_type": "code",
   "execution_count": 60,
   "id": "760dae10",
   "metadata": {},
   "outputs": [],
   "source": [
    "data_path = \"./data/\"\n",
    "file_list = os.listdir(data_path)\n",
    "func = lambda  a : a.replace(\".txt\", \"\").split(\"-\")\n",
    "count_size = lambda a : os.stat(a).st_size\n",
    "data = [[func(title)[0], func(title)[1], data_path + title, count_size(data_path + title)] for title in file_list]\n",
    "files = pd.DataFrame(data, columns=['Author', 'Name of The work', 'FilePath', 'FileSize'])"
   ]
  },
  {
   "cell_type": "markdown",
   "id": "51f26f45",
   "metadata": {},
   "source": [
    "Przedstawiam zestaw uczący. Mamy tutaj pozycję kilku Polskich autorów."
   ]
  },
  {
   "cell_type": "code",
   "execution_count": 61,
   "id": "47b560c6",
   "metadata": {
    "scrolled": true
   },
   "outputs": [
    {
     "name": "stdout",
     "output_type": "stream",
     "text": [
      "                   Book Count\n",
      "Author                       \n",
      "AdamMickiewicz              7\n",
      "HenrykSienkiewicz          11\n",
      "Juliusz Słowacki            8\n"
     ]
    }
   ],
   "source": [
    "tmp = files.drop(columns=['Name of The work', 'FilePath', 'FileSize'])\n",
    "tmp = pd.concat([tmp, pd.Series(np.where(tmp['Author']!=None,1,1))], axis=1).groupby('Author').sum()\n",
    "tmp.columns = ['Book Count']\n",
    "print(tmp.groupby('Author').sum())"
   ]
  },
  {
   "cell_type": "code",
   "execution_count": 62,
   "id": "d5443ff3",
   "metadata": {},
   "outputs": [
    {
     "data": {
      "text/html": [
       "<div>\n",
       "<style scoped>\n",
       "    .dataframe tbody tr th:only-of-type {\n",
       "        vertical-align: middle;\n",
       "    }\n",
       "\n",
       "    .dataframe tbody tr th {\n",
       "        vertical-align: top;\n",
       "    }\n",
       "\n",
       "    .dataframe thead th {\n",
       "        text-align: right;\n",
       "    }\n",
       "</style>\n",
       "<table border=\"1\" class=\"dataframe\">\n",
       "  <thead>\n",
       "    <tr style=\"text-align: right;\">\n",
       "      <th></th>\n",
       "      <th>Author</th>\n",
       "      <th>Name of The work</th>\n",
       "      <th>FilePath</th>\n",
       "      <th>FileSize</th>\n",
       "    </tr>\n",
       "  </thead>\n",
       "  <tbody>\n",
       "    <tr>\n",
       "      <th>0</th>\n",
       "      <td>AdamMickiewicz</td>\n",
       "      <td>DziadyII</td>\n",
       "      <td>./data/AdamMickiewicz-DziadyII.txt</td>\n",
       "      <td>24897</td>\n",
       "    </tr>\n",
       "    <tr>\n",
       "      <th>1</th>\n",
       "      <td>AdamMickiewicz</td>\n",
       "      <td>DziadyIII</td>\n",
       "      <td>./data/AdamMickiewicz-DziadyIII.txt</td>\n",
       "      <td>152297</td>\n",
       "    </tr>\n",
       "    <tr>\n",
       "      <th>2</th>\n",
       "      <td>AdamMickiewicz</td>\n",
       "      <td>DziadyIV</td>\n",
       "      <td>./data/AdamMickiewicz-DziadyIV.txt</td>\n",
       "      <td>65206</td>\n",
       "    </tr>\n",
       "    <tr>\n",
       "      <th>3</th>\n",
       "      <td>AdamMickiewicz</td>\n",
       "      <td>Grażyna</td>\n",
       "      <td>./data/AdamMickiewicz-Grażyna.txt</td>\n",
       "      <td>50418</td>\n",
       "    </tr>\n",
       "    <tr>\n",
       "      <th>4</th>\n",
       "      <td>AdamMickiewicz</td>\n",
       "      <td>KonradWallendrod</td>\n",
       "      <td>./data/AdamMickiewicz-KonradWallendrod.txt</td>\n",
       "      <td>89271</td>\n",
       "    </tr>\n",
       "    <tr>\n",
       "      <th>5</th>\n",
       "      <td>AdamMickiewicz</td>\n",
       "      <td>PanTadeusz</td>\n",
       "      <td>./data/AdamMickiewicz-PanTadeusz.txt</td>\n",
       "      <td>492037</td>\n",
       "    </tr>\n",
       "    <tr>\n",
       "      <th>6</th>\n",
       "      <td>AdamMickiewicz</td>\n",
       "      <td>Żywila</td>\n",
       "      <td>./data/AdamMickiewicz-Żywila.txt</td>\n",
       "      <td>12387</td>\n",
       "    </tr>\n",
       "    <tr>\n",
       "      <th>7</th>\n",
       "      <td>HenrykSienkiewicz</td>\n",
       "      <td>Bez dogmatu</td>\n",
       "      <td>./data/HenrykSienkiewicz-Bez dogmatu.txt</td>\n",
       "      <td>894478</td>\n",
       "    </tr>\n",
       "    <tr>\n",
       "      <th>8</th>\n",
       "      <td>HenrykSienkiewicz</td>\n",
       "      <td>Co się raz stało w Sydonie</td>\n",
       "      <td>./data/HenrykSienkiewicz-Co się raz stało w Sy...</td>\n",
       "      <td>26358</td>\n",
       "    </tr>\n",
       "    <tr>\n",
       "      <th>9</th>\n",
       "      <td>HenrykSienkiewicz</td>\n",
       "      <td>Krzyżacy Tom I</td>\n",
       "      <td>./data/HenrykSienkiewicz-Krzyżacy Tom I.txt</td>\n",
       "      <td>738692</td>\n",
       "    </tr>\n",
       "    <tr>\n",
       "      <th>10</th>\n",
       "      <td>HenrykSienkiewicz</td>\n",
       "      <td>Krzyżacy Tom II</td>\n",
       "      <td>./data/HenrykSienkiewicz-Krzyżacy Tom II.txt</td>\n",
       "      <td>839563</td>\n",
       "    </tr>\n",
       "    <tr>\n",
       "      <th>11</th>\n",
       "      <td>HenrykSienkiewicz</td>\n",
       "      <td>OgniemIMieczemTom1</td>\n",
       "      <td>./data/HenrykSienkiewicz-OgniemIMieczemTom1.txt</td>\n",
       "      <td>867390</td>\n",
       "    </tr>\n",
       "    <tr>\n",
       "      <th>12</th>\n",
       "      <td>HenrykSienkiewicz</td>\n",
       "      <td>Pan Wołodyjowski</td>\n",
       "      <td>./data/HenrykSienkiewicz-Pan Wołodyjowski.txt</td>\n",
       "      <td>1134182</td>\n",
       "    </tr>\n",
       "    <tr>\n",
       "      <th>13</th>\n",
       "      <td>HenrykSienkiewicz</td>\n",
       "      <td>Potop Tom I</td>\n",
       "      <td>./data/HenrykSienkiewicz-Potop Tom I.txt</td>\n",
       "      <td>876117</td>\n",
       "    </tr>\n",
       "    <tr>\n",
       "      <th>14</th>\n",
       "      <td>HenrykSienkiewicz</td>\n",
       "      <td>Potop Tom II</td>\n",
       "      <td>./data/HenrykSienkiewicz-Potop Tom II.txt</td>\n",
       "      <td>1086104</td>\n",
       "    </tr>\n",
       "    <tr>\n",
       "      <th>15</th>\n",
       "      <td>HenrykSienkiewicz</td>\n",
       "      <td>Potop Tom III</td>\n",
       "      <td>./data/HenrykSienkiewicz-Potop Tom III.txt</td>\n",
       "      <td>786509</td>\n",
       "    </tr>\n",
       "    <tr>\n",
       "      <th>16</th>\n",
       "      <td>HenrykSienkiewicz</td>\n",
       "      <td>Quo vadis</td>\n",
       "      <td>./data/HenrykSienkiewicz-Quo vadis.txt</td>\n",
       "      <td>1187958</td>\n",
       "    </tr>\n",
       "    <tr>\n",
       "      <th>17</th>\n",
       "      <td>HenrykSienkiewicz</td>\n",
       "      <td>W pustyni i w puszczy</td>\n",
       "      <td>./data/HenrykSienkiewicz-W pustyni i w puszczy...</td>\n",
       "      <td>698061</td>\n",
       "    </tr>\n",
       "    <tr>\n",
       "      <th>18</th>\n",
       "      <td>Juliusz Słowacki</td>\n",
       "      <td>Anhelli</td>\n",
       "      <td>./data/Juliusz Słowacki-Anhelli.txt</td>\n",
       "      <td>60964</td>\n",
       "    </tr>\n",
       "    <tr>\n",
       "      <th>19</th>\n",
       "      <td>Juliusz Słowacki</td>\n",
       "      <td>Balladyna</td>\n",
       "      <td>./data/Juliusz Słowacki-Balladyna.txt</td>\n",
       "      <td>50418</td>\n",
       "    </tr>\n",
       "    <tr>\n",
       "      <th>20</th>\n",
       "      <td>Juliusz Słowacki</td>\n",
       "      <td>Beniowski dalsze pieśni</td>\n",
       "      <td>./data/Juliusz Słowacki-Beniowski dalsze pieśn...</td>\n",
       "      <td>215898</td>\n",
       "    </tr>\n",
       "    <tr>\n",
       "      <th>21</th>\n",
       "      <td>Juliusz Słowacki</td>\n",
       "      <td>Beniowski pięć pierwszych pieśni</td>\n",
       "      <td>./data/Juliusz Słowacki-Beniowski pięć pierwsz...</td>\n",
       "      <td>147354</td>\n",
       "    </tr>\n",
       "    <tr>\n",
       "      <th>22</th>\n",
       "      <td>Juliusz Słowacki</td>\n",
       "      <td>Hugo</td>\n",
       "      <td>./data/Juliusz Słowacki-Hugo.txt</td>\n",
       "      <td>12138</td>\n",
       "    </tr>\n",
       "    <tr>\n",
       "      <th>23</th>\n",
       "      <td>Juliusz Słowacki</td>\n",
       "      <td>Kordian</td>\n",
       "      <td>./data/Juliusz Słowacki-Kordian.txt</td>\n",
       "      <td>143952</td>\n",
       "    </tr>\n",
       "    <tr>\n",
       "      <th>24</th>\n",
       "      <td>Juliusz Słowacki</td>\n",
       "      <td>Król Duch</td>\n",
       "      <td>./data/Juliusz Słowacki-Król Duch.txt</td>\n",
       "      <td>63915</td>\n",
       "    </tr>\n",
       "    <tr>\n",
       "      <th>25</th>\n",
       "      <td>Juliusz Słowacki</td>\n",
       "      <td>Maria Stuart</td>\n",
       "      <td>./data/Juliusz Słowacki-Maria Stuart.txt</td>\n",
       "      <td>104145</td>\n",
       "    </tr>\n",
       "  </tbody>\n",
       "</table>\n",
       "</div>"
      ],
      "text/plain": [
       "               Author                  Name of The work  \\\n",
       "0      AdamMickiewicz                          DziadyII   \n",
       "1      AdamMickiewicz                         DziadyIII   \n",
       "2      AdamMickiewicz                          DziadyIV   \n",
       "3      AdamMickiewicz                           Grażyna   \n",
       "4      AdamMickiewicz                  KonradWallendrod   \n",
       "5      AdamMickiewicz                        PanTadeusz   \n",
       "6      AdamMickiewicz                            Żywila   \n",
       "7   HenrykSienkiewicz                       Bez dogmatu   \n",
       "8   HenrykSienkiewicz        Co się raz stało w Sydonie   \n",
       "9   HenrykSienkiewicz                    Krzyżacy Tom I   \n",
       "10  HenrykSienkiewicz                   Krzyżacy Tom II   \n",
       "11  HenrykSienkiewicz                OgniemIMieczemTom1   \n",
       "12  HenrykSienkiewicz                  Pan Wołodyjowski   \n",
       "13  HenrykSienkiewicz                       Potop Tom I   \n",
       "14  HenrykSienkiewicz                      Potop Tom II   \n",
       "15  HenrykSienkiewicz                     Potop Tom III   \n",
       "16  HenrykSienkiewicz                         Quo vadis   \n",
       "17  HenrykSienkiewicz             W pustyni i w puszczy   \n",
       "18   Juliusz Słowacki                           Anhelli   \n",
       "19   Juliusz Słowacki                         Balladyna   \n",
       "20   Juliusz Słowacki           Beniowski dalsze pieśni   \n",
       "21   Juliusz Słowacki  Beniowski pięć pierwszych pieśni   \n",
       "22   Juliusz Słowacki                              Hugo   \n",
       "23   Juliusz Słowacki                           Kordian   \n",
       "24   Juliusz Słowacki                         Król Duch   \n",
       "25   Juliusz Słowacki                      Maria Stuart   \n",
       "\n",
       "                                             FilePath  FileSize  \n",
       "0                  ./data/AdamMickiewicz-DziadyII.txt     24897  \n",
       "1                 ./data/AdamMickiewicz-DziadyIII.txt    152297  \n",
       "2                  ./data/AdamMickiewicz-DziadyIV.txt     65206  \n",
       "3                   ./data/AdamMickiewicz-Grażyna.txt     50418  \n",
       "4          ./data/AdamMickiewicz-KonradWallendrod.txt     89271  \n",
       "5                ./data/AdamMickiewicz-PanTadeusz.txt    492037  \n",
       "6                    ./data/AdamMickiewicz-Żywila.txt     12387  \n",
       "7            ./data/HenrykSienkiewicz-Bez dogmatu.txt    894478  \n",
       "8   ./data/HenrykSienkiewicz-Co się raz stało w Sy...     26358  \n",
       "9         ./data/HenrykSienkiewicz-Krzyżacy Tom I.txt    738692  \n",
       "10       ./data/HenrykSienkiewicz-Krzyżacy Tom II.txt    839563  \n",
       "11    ./data/HenrykSienkiewicz-OgniemIMieczemTom1.txt    867390  \n",
       "12      ./data/HenrykSienkiewicz-Pan Wołodyjowski.txt   1134182  \n",
       "13           ./data/HenrykSienkiewicz-Potop Tom I.txt    876117  \n",
       "14          ./data/HenrykSienkiewicz-Potop Tom II.txt   1086104  \n",
       "15         ./data/HenrykSienkiewicz-Potop Tom III.txt    786509  \n",
       "16             ./data/HenrykSienkiewicz-Quo vadis.txt   1187958  \n",
       "17  ./data/HenrykSienkiewicz-W pustyni i w puszczy...    698061  \n",
       "18                ./data/Juliusz Słowacki-Anhelli.txt     60964  \n",
       "19              ./data/Juliusz Słowacki-Balladyna.txt     50418  \n",
       "20  ./data/Juliusz Słowacki-Beniowski dalsze pieśn...    215898  \n",
       "21  ./data/Juliusz Słowacki-Beniowski pięć pierwsz...    147354  \n",
       "22                   ./data/Juliusz Słowacki-Hugo.txt     12138  \n",
       "23                ./data/Juliusz Słowacki-Kordian.txt    143952  \n",
       "24              ./data/Juliusz Słowacki-Król Duch.txt     63915  \n",
       "25           ./data/Juliusz Słowacki-Maria Stuart.txt    104145  "
      ]
     },
     "execution_count": 62,
     "metadata": {},
     "output_type": "execute_result"
    }
   ],
   "source": [
    "files"
   ]
  },
  {
   "cell_type": "markdown",
   "id": "57f33f82",
   "metadata": {},
   "source": [
    "Wczytanie stop-słów:"
   ]
  },
  {
   "cell_type": "code",
   "execution_count": 5,
   "id": "bd973fe1",
   "metadata": {},
   "outputs": [],
   "source": [
    "delimeters = [\"\\\\n\", \"'\"]\n",
    "stop_word = set()\n",
    "with open(\"./stopyPL.txt\", encoding=\"utf8\") as f:\n",
    "    for line in f:\n",
    "        word = repr(line)\n",
    "        for c in delimeters:\n",
    "            word = word.replace(c, \"\")\n",
    "        stop_word.add(word)"
   ]
  },
  {
   "cell_type": "markdown",
   "id": "093f8afd",
   "metadata": {},
   "source": [
    "Projekt ten używa worka słów, który to przechowuje informacje na temat częstości występowania słów w danym dokumencie. Celem tego projektu jest sprawdzenie jak dobry klasyfikator autora dla danego dzieła można wykonać, przy pomocy właśnie tego podejścia. Następująca część notbook'a służy do tworzenia funkcji pomocniczych, które ułatwią nam to zadanie."
   ]
  },
  {
   "cell_type": "markdown",
   "id": "1697429a",
   "metadata": {},
   "source": [
    "___"
   ]
  },
  {
   "cell_type": "markdown",
   "id": "90987c17",
   "metadata": {},
   "source": [
    "Funckje do standaryzacji słów tzn. usunięcia ewentualnych znaków graficznych takich jak kropka czy przecinek oraz ustawienie wielkości liter na małe aby słowa \"Który?\" oraz \"który\" były zliczane jako to same słowo."
   ]
  },
  {
   "cell_type": "code",
   "execution_count": 6,
   "id": "016f7a24",
   "metadata": {},
   "outputs": [],
   "source": [
    "special_chars = \".,-?()!\\\\\\\":;*…0123456789\"\n",
    "def normalize_text(word):\n",
    "    for char in special_chars:\n",
    "        word = word.replace(char, \"\")\n",
    "    word = word.lower()\n",
    "    return word"
   ]
  },
  {
   "cell_type": "markdown",
   "id": "15c82834",
   "metadata": {},
   "source": [
    "Funkcja do wczytywania tekstu z plików oraz wczytywanie go do pamięci podręcznej"
   ]
  },
  {
   "cell_type": "code",
   "execution_count": 7,
   "id": "83b50c6f",
   "metadata": {},
   "outputs": [],
   "source": [
    "def get_text(FileName):\n",
    "    out = \"\"\n",
    "    n = 0\n",
    "    with open(FileName, \"r\", encoding=\"utf8\") as f:\n",
    "        for line in f:\n",
    "            out += line\n",
    "            n += 1\n",
    "        f.close()\n",
    "    return out"
   ]
  },
  {
   "cell_type": "markdown",
   "id": "c3a0164b",
   "metadata": {},
   "source": [
    "Funkcja, która służy do tworzenia worków słów, działającach w 3 trybach:\n",
    "* 0 - Tworzenie worka słów ze wszystkich słów.   \n",
    "* 1 - Tworzenie worka słów bez stop słów.   \n",
    "* 2 - Tworzenie wokra słów na stop słowach.   \n",
    "\n",
    "Wprowadziliśmy tu pojęcie stop słów, pod pojęciem tym kryją się słowa, które nie dostarczają nam informacji na temat samej akcji, a raczej strukturyzują zdanie, są to słowa takie jak 'i' lub 'lub'."
   ]
  },
  {
   "cell_type": "code",
   "execution_count": 8,
   "id": "acc39f4e",
   "metadata": {
    "scrolled": true
   },
   "outputs": [],
   "source": [
    "# 0 - generete bag with all words, 1 - bag without stopwords, 2 - bag with only stopwords\n",
    "def generate_word_bag(text, mode=0, nwords=None):\n",
    "    word_bag = {}\n",
    "    words_in_bag = 0\n",
    "    if isinstance(text, str):\n",
    "        text = text.split(\"\\n\")\n",
    "    for line in text:\n",
    "        word = word.split()\n",
    "        if nwords is not None and words_in_bag >= nwords:\n",
    "            break\n",
    "        if word == '':\n",
    "            continue\n",
    "        if (mode==0) or (mode==1 and not word in stop_word) or (mode==2 and word in stop_word):\n",
    "            words_in_bag += 1\n",
    "            if word in word_bag:\n",
    "                word_bag[word] += 1\n",
    "            else:\n",
    "                word_bag[word] = 1\n",
    "    return word_bag"
   ]
  },
  {
   "cell_type": "markdown",
   "id": "370ee410",
   "metadata": {},
   "source": [
    "Mamy już mały warsztat narzędzi do tworzenia wektorów cech dla utworów. Stworzymy teraz parę funckji, które pozwolą nam zgrabnie manipulować macierzą danych. \n",
    "merge_dics_to_df - łączy worki słów w ramkę danych, którą później wykorzystamy do nauki klasyfikatora."
   ]
  },
  {
   "cell_type": "code",
   "execution_count": 10,
   "id": "b7dc3536",
   "metadata": {},
   "outputs": [],
   "source": [
    "def merge_dics_to_df(dics, labels=None):\n",
    "    tab = []\n",
    "    word_found = set()\n",
    "    index = []\n",
    "    for dic in dics:\n",
    "        words = list(dic.keys())\n",
    "        for word in words:\n",
    "            if not word in word_found:\n",
    "                word_found.add(word)\n",
    "                index.append(word)\n",
    "                rec = []\n",
    "                for dictionary in dics:\n",
    "                    if word in dictionary:\n",
    "                        rec.append(dictionary[word])\n",
    "                        del dictionary[word]\n",
    "                    else:\n",
    "                        rec.append(0)\n",
    "                tab.append(rec)\n",
    "   \n",
    "    df = pd.DataFrame(tab, columns=labels, index=index)   \n",
    "    return df.T"
   ]
  },
  {
   "cell_type": "markdown",
   "id": "3de48e6a",
   "metadata": {},
   "source": [
    "No i oczywiście funkcja do tworzenia macierzy danych ze wszystkich dostarczonych dzieł."
   ]
  },
  {
   "cell_type": "code",
   "execution_count": 11,
   "id": "6b755729",
   "metadata": {},
   "outputs": [],
   "source": [
    "def load(files, mode=2):\n",
    "    word_bags = []\n",
    "    index = []\n",
    "    labels = []\n",
    "\n",
    "    for path, name, label in zip(files['FilePath'], files['Name of The work'], files['Author']):\n",
    "        cont = get_text(path)\n",
    "        cont = normalize_text(cont)\n",
    "        word_bags.append(generate_word_bag(cont, mode=mode))\n",
    "        index.append(name)\n",
    "        labels.append(label)\n",
    "        \n",
    "    df = merge_dics_to_df(word_bags)\n",
    "    df['labels'] = labels\n",
    "    df['Name'] = index\n",
    "    df = df.set_index('Name')\n",
    "    return df   "
   ]
  },
  {
   "cell_type": "markdown",
   "id": "5124b9f4",
   "metadata": {},
   "source": [
    "Funkcja obliczająca częstotliwość wystąpienia danego słowa w worku słów.   (Nie bierzemy tu pod uwagę częstości występowania w całym dziele a jedynie w worku słów)"
   ]
  },
  {
   "cell_type": "code",
   "execution_count": 12,
   "id": "522177c1",
   "metadata": {},
   "outputs": [],
   "source": [
    "def frequency(data):\n",
    "    df = data.copy()\n",
    "    w_l = False\n",
    "    if 'labels' in df.columns:\n",
    "        labels = df['labels']\n",
    "        df = df.drop(columns='labels')\n",
    "        w_l = True\n",
    "    nwords = df.shape[1]\n",
    "    nbooks = df.shape[0]\n",
    "    tf = np.empty((nbooks, nwords))\n",
    "    sm = df.sum(axis=1)\n",
    "    for i in range(nbooks):\n",
    "        tf[i,:] = np.array(df.iloc[i,: ] / sm[i])\n",
    "    fdf = pd.DataFrame(tf, columns=df.columns)\n",
    "    if w_l:\n",
    "        fdf['labels'] =  pd.Series.tolist(labels)\n",
    "    return fdf"
   ]
  },
  {
   "cell_type": "markdown",
   "id": "82412f80",
   "metadata": {},
   "source": [
    "Funkcja do usuwania słów z worka jeżeli nie wstępuje ono dostatecznie dużo razy."
   ]
  },
  {
   "cell_type": "code",
   "execution_count": 13,
   "id": "0187ffbf",
   "metadata": {},
   "outputs": [],
   "source": [
    "def drop_threshold(df, threshold):\n",
    "    to_drop = []\n",
    "    w_l = False\n",
    "    if 'labels' in df.columns:\n",
    "        labels = df['labels']\n",
    "        df = df.drop(columns='labels')\n",
    "        w_l = True\n",
    "    for col in df.columns:\n",
    "        if (df[col] < threshold).all():\n",
    "            to_drop.append(col)\n",
    "    df = df.drop(columns=to_drop)\n",
    "    if w_l:\n",
    "        df['labels'] = pd.Series.tolist(labels)\n",
    "    return df"
   ]
  },
  {
   "cell_type": "markdown",
   "id": "11331428",
   "metadata": {},
   "source": [
    "tfidf - Jest to metryka częstości, którą oblicza się w taki sposób:\n",
    "    \n",
    "    tfij = nij/sum(nkj)\\[po j\\]\n",
    "    \n",
    "nij -  jest liczbą wystąpień termu ti w dokumencie dj\n",
    "    \n",
    "    idfi = log(|D|/|{d: istnieje conajmniej jedno wystąpienie ti w d}|)\n",
    "    \n",
    "D - jest liczbą dzieł w macierzy danych\n",
    "    \n",
    "    tfidf(i,j) = tfij * idfi"
   ]
  },
  {
   "cell_type": "code",
   "execution_count": 14,
   "id": "b97c61bc",
   "metadata": {},
   "outputs": [],
   "source": [
    "def tfidf(data):\n",
    "    df = data.copy()\n",
    "    w_l = False\n",
    "    if 'labels' in df.columns:\n",
    "        labels = df['labels']\n",
    "        df = df.drop(columns='labels')\n",
    "        w_l = True\n",
    "    nwords = df.shape[1]\n",
    "    nbooks = df.shape[0]\n",
    "    tf = np.empty((nbooks, nwords))\n",
    "    sm = df.sum(axis=1)\n",
    "    for i in range(nbooks):\n",
    "        tf[i,:] = np.array(df.iloc[i,: ] / sm[i])\n",
    "    inbooks = np.array((df > 0)*1).sum(axis=0)\n",
    "    idf = [log(nbooks / val, 10) for val in inbooks]\n",
    "    tfidf = pd.DataFrame((tf*np.array([idf,]*nbooks)*100), columns=df.columns)\n",
    "    if w_l:\n",
    "        tfidf['labels'] = pd.Series.tolist(labels)\n",
    "    tfidf.replace([np.nan, np.inf, -np.inf], 0, inplace=True)\n",
    "    return tfidf"
   ]
  },
  {
   "cell_type": "markdown",
   "id": "6dc9424c",
   "metadata": {},
   "source": [
    "Połączenie wszystkich dzieł jednego autora w jeden wiersz w tabeli. W celu stworzenia pewnego prototypu autora od którego będziemy liczyć odległość w przestrzeni utworów."
   ]
  },
  {
   "cell_type": "code",
   "execution_count": 15,
   "id": "9b7abc9e",
   "metadata": {},
   "outputs": [],
   "source": [
    "def merge_author(df):\n",
    "    d = pd.concat([df['opis_ucz'], df['dec_ucz']], axis=1)\n",
    "    d.groupby('labels').sum()\n",
    "    df['dec_ucz'] = d.loc[:,'labels']\n",
    "    df['opis_ucz'] = d.drop(columns=['labels'])\n",
    "    return df"
   ]
  },
  {
   "cell_type": "markdown",
   "id": "6c7489b2",
   "metadata": {},
   "source": [
    "Jak widzimy mamy już ramkę danych, w której każdym obiektem jest dzieło a wektorem atrybutów jest częstość wystąpień poszczególnych słów w każdym z dzieł. Dodaliśmy również atrybuty decyzyjny czyli nazwisko autora danego dzieła."
   ]
  },
  {
   "cell_type": "markdown",
   "id": "cae2bbf0",
   "metadata": {},
   "source": [
    "___"
   ]
  },
  {
   "cell_type": "markdown",
   "id": "7c2e535a",
   "metadata": {},
   "source": [
    "Przeprowadzimy teraz krótką analizę zbioru uczącego."
   ]
  },
  {
   "cell_type": "code",
   "execution_count": 16,
   "id": "e9a14d2b",
   "metadata": {},
   "outputs": [],
   "source": [
    "data1 = load(files, mode=1)\n",
    "data1 = drop_threshold(data1, 50)\n",
    "data2 = load(files, mode=2)\n",
    "data2 = drop_threshold(data2, 50)\n",
    "data3 = pd.concat([data1.drop(columns=['labels']), data2], axis=1)\n",
    "data3 = drop_threshold(data3, 50)"
   ]
  },
  {
   "cell_type": "code",
   "execution_count": 17,
   "id": "9cfacd84",
   "metadata": {},
   "outputs": [
    {
     "data": {
      "text/html": [
       "<div>\n",
       "<style scoped>\n",
       "    .dataframe tbody tr th:only-of-type {\n",
       "        vertical-align: middle;\n",
       "    }\n",
       "\n",
       "    .dataframe tbody tr th {\n",
       "        vertical-align: top;\n",
       "    }\n",
       "\n",
       "    .dataframe thead th {\n",
       "        text-align: right;\n",
       "    }\n",
       "</style>\n",
       "<table border=\"1\" class=\"dataframe\">\n",
       "  <thead>\n",
       "    <tr style=\"text-align: right;\">\n",
       "      <th></th>\n",
       "      <th>dotąd</th>\n",
       "      <th>razem</th>\n",
       "      <th>zdaje</th>\n",
       "      <th>świata</th>\n",
       "      <th>zwłaszcza</th>\n",
       "      <th>dzień</th>\n",
       "      <th>czasu</th>\n",
       "      <th>czas</th>\n",
       "      <th>mojej</th>\n",
       "      <th>/</th>\n",
       "      <th>...</th>\n",
       "      <th>kalego</th>\n",
       "      <th>słoń</th>\n",
       "      <th>mzimu</th>\n",
       "      <th>beniowski</th>\n",
       "      <th>anhelli</th>\n",
       "      <th>szaman</th>\n",
       "      <th>kordian</th>\n",
       "      <th>rizzio</th>\n",
       "      <th>botwel</th>\n",
       "      <th>nick</th>\n",
       "    </tr>\n",
       "    <tr>\n",
       "      <th>labels</th>\n",
       "      <th></th>\n",
       "      <th></th>\n",
       "      <th></th>\n",
       "      <th></th>\n",
       "      <th></th>\n",
       "      <th></th>\n",
       "      <th></th>\n",
       "      <th></th>\n",
       "      <th></th>\n",
       "      <th></th>\n",
       "      <th></th>\n",
       "      <th></th>\n",
       "      <th></th>\n",
       "      <th></th>\n",
       "      <th></th>\n",
       "      <th></th>\n",
       "      <th></th>\n",
       "      <th></th>\n",
       "      <th></th>\n",
       "      <th></th>\n",
       "      <th></th>\n",
       "    </tr>\n",
       "  </thead>\n",
       "  <tbody>\n",
       "    <tr>\n",
       "      <th>AdamMickiewicz</th>\n",
       "      <td>79</td>\n",
       "      <td>78</td>\n",
       "      <td>15</td>\n",
       "      <td>43</td>\n",
       "      <td>10</td>\n",
       "      <td>58</td>\n",
       "      <td>29</td>\n",
       "      <td>65</td>\n",
       "      <td>32</td>\n",
       "      <td>978</td>\n",
       "      <td>...</td>\n",
       "      <td>0</td>\n",
       "      <td>0</td>\n",
       "      <td>0</td>\n",
       "      <td>0</td>\n",
       "      <td>0</td>\n",
       "      <td>0</td>\n",
       "      <td>0</td>\n",
       "      <td>0</td>\n",
       "      <td>0</td>\n",
       "      <td>0</td>\n",
       "    </tr>\n",
       "    <tr>\n",
       "      <th>HenrykSienkiewicz</th>\n",
       "      <td>350</td>\n",
       "      <td>591</td>\n",
       "      <td>117</td>\n",
       "      <td>200</td>\n",
       "      <td>410</td>\n",
       "      <td>689</td>\n",
       "      <td>697</td>\n",
       "      <td>814</td>\n",
       "      <td>297</td>\n",
       "      <td>0</td>\n",
       "      <td>...</td>\n",
       "      <td>87</td>\n",
       "      <td>51</td>\n",
       "      <td>88</td>\n",
       "      <td>1</td>\n",
       "      <td>0</td>\n",
       "      <td>0</td>\n",
       "      <td>0</td>\n",
       "      <td>0</td>\n",
       "      <td>0</td>\n",
       "      <td>0</td>\n",
       "    </tr>\n",
       "    <tr>\n",
       "      <th>Juliusz Słowacki</th>\n",
       "      <td>27</td>\n",
       "      <td>35</td>\n",
       "      <td>16</td>\n",
       "      <td>34</td>\n",
       "      <td>13</td>\n",
       "      <td>48</td>\n",
       "      <td>14</td>\n",
       "      <td>46</td>\n",
       "      <td>51</td>\n",
       "      <td>784</td>\n",
       "      <td>...</td>\n",
       "      <td>0</td>\n",
       "      <td>0</td>\n",
       "      <td>0</td>\n",
       "      <td>81</td>\n",
       "      <td>53</td>\n",
       "      <td>52</td>\n",
       "      <td>176</td>\n",
       "      <td>83</td>\n",
       "      <td>99</td>\n",
       "      <td>60</td>\n",
       "    </tr>\n",
       "  </tbody>\n",
       "</table>\n",
       "<p>3 rows × 563 columns</p>\n",
       "</div>"
      ],
      "text/plain": [
       "                   dotąd  razem  zdaje  świata  zwłaszcza  dzień  czasu  czas  \\\n",
       "labels                                                                          \n",
       "AdamMickiewicz        79     78     15      43         10     58     29    65   \n",
       "HenrykSienkiewicz    350    591    117     200        410    689    697   814   \n",
       "Juliusz Słowacki      27     35     16      34         13     48     14    46   \n",
       "\n",
       "                   mojej    /  ...  kalego  słoń  mzimu  beniowski  anhelli  \\\n",
       "labels                         ...                                            \n",
       "AdamMickiewicz        32  978  ...       0     0      0          0        0   \n",
       "HenrykSienkiewicz    297    0  ...      87    51     88          1        0   \n",
       "Juliusz Słowacki      51  784  ...       0     0      0         81       53   \n",
       "\n",
       "                   szaman  kordian  rizzio  botwel  nick  \n",
       "labels                                                    \n",
       "AdamMickiewicz          0        0       0       0     0  \n",
       "HenrykSienkiewicz       0        0       0       0     0  \n",
       "Juliusz Słowacki       52      176      83      99    60  \n",
       "\n",
       "[3 rows x 563 columns]"
      ]
     },
     "execution_count": 17,
     "metadata": {},
     "output_type": "execute_result"
    }
   ],
   "source": [
    "grouped = data1.groupby('labels')\n",
    "grouped.sum()"
   ]
  },
  {
   "cell_type": "markdown",
   "id": "b34aee6e",
   "metadata": {},
   "source": [
    "Widzmy z pierwszej figury, że autor Słowacki używa jako jedyny słów takich jak \"Kalego\" czy \"Anheli\", na pierwszy rzut oka jest to dla nas dobra informacja, ponieważ znaleźliśmy słowo specyficzne dla jednego autora!"
   ]
  },
  {
   "cell_type": "code",
   "execution_count": 20,
   "id": "909c5211",
   "metadata": {},
   "outputs": [
    {
     "data": {
      "text/html": [
       "<div>\n",
       "<style scoped>\n",
       "    .dataframe tbody tr th:only-of-type {\n",
       "        vertical-align: middle;\n",
       "    }\n",
       "\n",
       "    .dataframe tbody tr th {\n",
       "        vertical-align: top;\n",
       "    }\n",
       "\n",
       "    .dataframe thead th {\n",
       "        text-align: right;\n",
       "    }\n",
       "</style>\n",
       "<table border=\"1\" class=\"dataframe\">\n",
       "  <thead>\n",
       "    <tr style=\"text-align: right;\">\n",
       "      <th></th>\n",
       "      <th>dotąd</th>\n",
       "      <th>razem</th>\n",
       "      <th>zdaje</th>\n",
       "      <th>świata</th>\n",
       "      <th>zwłaszcza</th>\n",
       "      <th>dzień</th>\n",
       "      <th>czasu</th>\n",
       "      <th>czas</th>\n",
       "      <th>mojej</th>\n",
       "      <th>/</th>\n",
       "      <th>...</th>\n",
       "      <th>słoń</th>\n",
       "      <th>mzimu</th>\n",
       "      <th>beniowski</th>\n",
       "      <th>anhelli</th>\n",
       "      <th>szaman</th>\n",
       "      <th>kordian</th>\n",
       "      <th>rizzio</th>\n",
       "      <th>botwel</th>\n",
       "      <th>nick</th>\n",
       "      <th>labels</th>\n",
       "    </tr>\n",
       "    <tr>\n",
       "      <th>Name</th>\n",
       "      <th></th>\n",
       "      <th></th>\n",
       "      <th></th>\n",
       "      <th></th>\n",
       "      <th></th>\n",
       "      <th></th>\n",
       "      <th></th>\n",
       "      <th></th>\n",
       "      <th></th>\n",
       "      <th></th>\n",
       "      <th></th>\n",
       "      <th></th>\n",
       "      <th></th>\n",
       "      <th></th>\n",
       "      <th></th>\n",
       "      <th></th>\n",
       "      <th></th>\n",
       "      <th></th>\n",
       "      <th></th>\n",
       "      <th></th>\n",
       "      <th></th>\n",
       "    </tr>\n",
       "  </thead>\n",
       "  <tbody>\n",
       "    <tr>\n",
       "      <th>Anhelli</th>\n",
       "      <td>0</td>\n",
       "      <td>3</td>\n",
       "      <td>3</td>\n",
       "      <td>0</td>\n",
       "      <td>0</td>\n",
       "      <td>8</td>\n",
       "      <td>2</td>\n",
       "      <td>3</td>\n",
       "      <td>0</td>\n",
       "      <td>0</td>\n",
       "      <td>...</td>\n",
       "      <td>0</td>\n",
       "      <td>0</td>\n",
       "      <td>0</td>\n",
       "      <td>52</td>\n",
       "      <td>52</td>\n",
       "      <td>0</td>\n",
       "      <td>0</td>\n",
       "      <td>0</td>\n",
       "      <td>0</td>\n",
       "      <td>Juliusz Słowacki</td>\n",
       "    </tr>\n",
       "    <tr>\n",
       "      <th>Balladyna</th>\n",
       "      <td>6</td>\n",
       "      <td>3</td>\n",
       "      <td>0</td>\n",
       "      <td>0</td>\n",
       "      <td>0</td>\n",
       "      <td>3</td>\n",
       "      <td>2</td>\n",
       "      <td>4</td>\n",
       "      <td>2</td>\n",
       "      <td>0</td>\n",
       "      <td>...</td>\n",
       "      <td>0</td>\n",
       "      <td>0</td>\n",
       "      <td>0</td>\n",
       "      <td>0</td>\n",
       "      <td>0</td>\n",
       "      <td>0</td>\n",
       "      <td>0</td>\n",
       "      <td>0</td>\n",
       "      <td>0</td>\n",
       "      <td>Juliusz Słowacki</td>\n",
       "    </tr>\n",
       "    <tr>\n",
       "      <th>Beniowski dalsze pieśni</th>\n",
       "      <td>7</td>\n",
       "      <td>13</td>\n",
       "      <td>8</td>\n",
       "      <td>12</td>\n",
       "      <td>2</td>\n",
       "      <td>10</td>\n",
       "      <td>5</td>\n",
       "      <td>10</td>\n",
       "      <td>6</td>\n",
       "      <td>0</td>\n",
       "      <td>...</td>\n",
       "      <td>0</td>\n",
       "      <td>0</td>\n",
       "      <td>51</td>\n",
       "      <td>0</td>\n",
       "      <td>0</td>\n",
       "      <td>0</td>\n",
       "      <td>0</td>\n",
       "      <td>0</td>\n",
       "      <td>0</td>\n",
       "      <td>Juliusz Słowacki</td>\n",
       "    </tr>\n",
       "    <tr>\n",
       "      <th>Beniowski pięć pierwszych pieśni</th>\n",
       "      <td>0</td>\n",
       "      <td>4</td>\n",
       "      <td>1</td>\n",
       "      <td>3</td>\n",
       "      <td>11</td>\n",
       "      <td>5</td>\n",
       "      <td>1</td>\n",
       "      <td>11</td>\n",
       "      <td>10</td>\n",
       "      <td>0</td>\n",
       "      <td>...</td>\n",
       "      <td>0</td>\n",
       "      <td>0</td>\n",
       "      <td>30</td>\n",
       "      <td>1</td>\n",
       "      <td>0</td>\n",
       "      <td>0</td>\n",
       "      <td>0</td>\n",
       "      <td>0</td>\n",
       "      <td>0</td>\n",
       "      <td>Juliusz Słowacki</td>\n",
       "    </tr>\n",
       "    <tr>\n",
       "      <th>Hugo</th>\n",
       "      <td>0</td>\n",
       "      <td>0</td>\n",
       "      <td>0</td>\n",
       "      <td>0</td>\n",
       "      <td>0</td>\n",
       "      <td>2</td>\n",
       "      <td>0</td>\n",
       "      <td>0</td>\n",
       "      <td>1</td>\n",
       "      <td>0</td>\n",
       "      <td>...</td>\n",
       "      <td>0</td>\n",
       "      <td>0</td>\n",
       "      <td>0</td>\n",
       "      <td>0</td>\n",
       "      <td>0</td>\n",
       "      <td>0</td>\n",
       "      <td>0</td>\n",
       "      <td>0</td>\n",
       "      <td>0</td>\n",
       "      <td>Juliusz Słowacki</td>\n",
       "    </tr>\n",
       "    <tr>\n",
       "      <th>Kordian</th>\n",
       "      <td>4</td>\n",
       "      <td>7</td>\n",
       "      <td>2</td>\n",
       "      <td>9</td>\n",
       "      <td>0</td>\n",
       "      <td>12</td>\n",
       "      <td>4</td>\n",
       "      <td>6</td>\n",
       "      <td>10</td>\n",
       "      <td>444</td>\n",
       "      <td>...</td>\n",
       "      <td>0</td>\n",
       "      <td>0</td>\n",
       "      <td>0</td>\n",
       "      <td>0</td>\n",
       "      <td>0</td>\n",
       "      <td>176</td>\n",
       "      <td>0</td>\n",
       "      <td>0</td>\n",
       "      <td>0</td>\n",
       "      <td>Juliusz Słowacki</td>\n",
       "    </tr>\n",
       "    <tr>\n",
       "      <th>Król Duch</th>\n",
       "      <td>0</td>\n",
       "      <td>2</td>\n",
       "      <td>1</td>\n",
       "      <td>6</td>\n",
       "      <td>0</td>\n",
       "      <td>5</td>\n",
       "      <td>0</td>\n",
       "      <td>1</td>\n",
       "      <td>4</td>\n",
       "      <td>0</td>\n",
       "      <td>...</td>\n",
       "      <td>0</td>\n",
       "      <td>0</td>\n",
       "      <td>0</td>\n",
       "      <td>0</td>\n",
       "      <td>0</td>\n",
       "      <td>0</td>\n",
       "      <td>0</td>\n",
       "      <td>0</td>\n",
       "      <td>0</td>\n",
       "      <td>Juliusz Słowacki</td>\n",
       "    </tr>\n",
       "    <tr>\n",
       "      <th>Maria Stuart</th>\n",
       "      <td>10</td>\n",
       "      <td>3</td>\n",
       "      <td>1</td>\n",
       "      <td>4</td>\n",
       "      <td>0</td>\n",
       "      <td>3</td>\n",
       "      <td>0</td>\n",
       "      <td>11</td>\n",
       "      <td>18</td>\n",
       "      <td>340</td>\n",
       "      <td>...</td>\n",
       "      <td>0</td>\n",
       "      <td>0</td>\n",
       "      <td>0</td>\n",
       "      <td>0</td>\n",
       "      <td>0</td>\n",
       "      <td>0</td>\n",
       "      <td>83</td>\n",
       "      <td>99</td>\n",
       "      <td>60</td>\n",
       "      <td>Juliusz Słowacki</td>\n",
       "    </tr>\n",
       "  </tbody>\n",
       "</table>\n",
       "<p>8 rows × 564 columns</p>\n",
       "</div>"
      ],
      "text/plain": [
       "                                  dotąd  razem  zdaje  świata  zwłaszcza  \\\n",
       "Name                                                                       \n",
       "Anhelli                               0      3      3       0          0   \n",
       "Balladyna                             6      3      0       0          0   \n",
       "Beniowski dalsze pieśni               7     13      8      12          2   \n",
       "Beniowski pięć pierwszych pieśni      0      4      1       3         11   \n",
       "Hugo                                  0      0      0       0          0   \n",
       "Kordian                               4      7      2       9          0   \n",
       "Król Duch                             0      2      1       6          0   \n",
       "Maria Stuart                         10      3      1       4          0   \n",
       "\n",
       "                                  dzień  czasu  czas  mojej    /  ...  słoń  \\\n",
       "Name                                                              ...         \n",
       "Anhelli                               8      2     3      0    0  ...     0   \n",
       "Balladyna                             3      2     4      2    0  ...     0   \n",
       "Beniowski dalsze pieśni              10      5    10      6    0  ...     0   \n",
       "Beniowski pięć pierwszych pieśni      5      1    11     10    0  ...     0   \n",
       "Hugo                                  2      0     0      1    0  ...     0   \n",
       "Kordian                              12      4     6     10  444  ...     0   \n",
       "Król Duch                             5      0     1      4    0  ...     0   \n",
       "Maria Stuart                          3      0    11     18  340  ...     0   \n",
       "\n",
       "                                  mzimu  beniowski  anhelli  szaman  kordian  \\\n",
       "Name                                                                           \n",
       "Anhelli                               0          0       52      52        0   \n",
       "Balladyna                             0          0        0       0        0   \n",
       "Beniowski dalsze pieśni               0         51        0       0        0   \n",
       "Beniowski pięć pierwszych pieśni      0         30        1       0        0   \n",
       "Hugo                                  0          0        0       0        0   \n",
       "Kordian                               0          0        0       0      176   \n",
       "Król Duch                             0          0        0       0        0   \n",
       "Maria Stuart                          0          0        0       0        0   \n",
       "\n",
       "                                  rizzio  botwel  nick            labels  \n",
       "Name                                                                      \n",
       "Anhelli                                0       0     0  Juliusz Słowacki  \n",
       "Balladyna                              0       0     0  Juliusz Słowacki  \n",
       "Beniowski dalsze pieśni                0       0     0  Juliusz Słowacki  \n",
       "Beniowski pięć pierwszych pieśni       0       0     0  Juliusz Słowacki  \n",
       "Hugo                                   0       0     0  Juliusz Słowacki  \n",
       "Kordian                                0       0     0  Juliusz Słowacki  \n",
       "Król Duch                              0       0     0  Juliusz Słowacki  \n",
       "Maria Stuart                          83      99    60  Juliusz Słowacki  \n",
       "\n",
       "[8 rows x 564 columns]"
      ]
     },
     "execution_count": 20,
     "metadata": {},
     "output_type": "execute_result"
    }
   ],
   "source": [
    "data1[data1['labels'] == \"Juliusz Słowacki\"]"
   ]
  },
  {
   "cell_type": "markdown",
   "id": "0e2d4409",
   "metadata": {},
   "source": [
    "Niestety już tu widzimy, że słowo charakterystyczne dla danego autora jest również charakterystyczne dla jego jednej książki. Co oznacza, że słowa te nie występują w innych jego dziełach. Fakt ten sprawia, że słowo to staje się nie tylko zbędne podczas klasyfikacji a i może utrudnić proces uczenia. A więc poszukujemy słów, które występuje stosunkowo często u pewnego autora i występuje ono w każdym z jego dzieł. A więc poszukujemy słów o wysokiej częstości oraz małej wariancji częstości dla danego autora."
   ]
  },
  {
   "cell_type": "code",
   "execution_count": 21,
   "id": "0e3654df",
   "metadata": {
    "scrolled": false
   },
   "outputs": [
    {
     "data": {
      "text/html": [
       "<div>\n",
       "<style scoped>\n",
       "    .dataframe tbody tr th:only-of-type {\n",
       "        vertical-align: middle;\n",
       "    }\n",
       "\n",
       "    .dataframe tbody tr th {\n",
       "        vertical-align: top;\n",
       "    }\n",
       "\n",
       "    .dataframe thead th {\n",
       "        text-align: right;\n",
       "    }\n",
       "</style>\n",
       "<table border=\"1\" class=\"dataframe\">\n",
       "  <thead>\n",
       "    <tr style=\"text-align: right;\">\n",
       "      <th></th>\n",
       "      <th>dotąd</th>\n",
       "      <th>razem</th>\n",
       "      <th>zdaje</th>\n",
       "      <th>świata</th>\n",
       "      <th>zwłaszcza</th>\n",
       "      <th>dzień</th>\n",
       "      <th>czasu</th>\n",
       "      <th>czas</th>\n",
       "      <th>mojej</th>\n",
       "      <th>/</th>\n",
       "      <th>...</th>\n",
       "      <th>kalego</th>\n",
       "      <th>słoń</th>\n",
       "      <th>mzimu</th>\n",
       "      <th>beniowski</th>\n",
       "      <th>anhelli</th>\n",
       "      <th>szaman</th>\n",
       "      <th>kordian</th>\n",
       "      <th>rizzio</th>\n",
       "      <th>botwel</th>\n",
       "      <th>nick</th>\n",
       "    </tr>\n",
       "    <tr>\n",
       "      <th>labels</th>\n",
       "      <th></th>\n",
       "      <th></th>\n",
       "      <th></th>\n",
       "      <th></th>\n",
       "      <th></th>\n",
       "      <th></th>\n",
       "      <th></th>\n",
       "      <th></th>\n",
       "      <th></th>\n",
       "      <th></th>\n",
       "      <th></th>\n",
       "      <th></th>\n",
       "      <th></th>\n",
       "      <th></th>\n",
       "      <th></th>\n",
       "      <th></th>\n",
       "      <th></th>\n",
       "      <th></th>\n",
       "      <th></th>\n",
       "      <th></th>\n",
       "      <th></th>\n",
       "    </tr>\n",
       "  </thead>\n",
       "  <tbody>\n",
       "    <tr>\n",
       "      <th>AdamMickiewicz</th>\n",
       "      <td>0.00724361</td>\n",
       "      <td>0.00458395</td>\n",
       "      <td>0.00115931</td>\n",
       "      <td>0.00467281</td>\n",
       "      <td>0.00079948</td>\n",
       "      <td>0.00591032</td>\n",
       "      <td>0.00339803</td>\n",
       "      <td>0.00726039</td>\n",
       "      <td>0.00311979</td>\n",
       "      <td>0.08352076</td>\n",
       "      <td>...</td>\n",
       "      <td>0.00000000</td>\n",
       "      <td>0.00000000</td>\n",
       "      <td>0.00000000</td>\n",
       "      <td>0.00000000</td>\n",
       "      <td>0.00000000</td>\n",
       "      <td>0.00000000</td>\n",
       "      <td>0.00000000</td>\n",
       "      <td>0.00000000</td>\n",
       "      <td>0.00000000</td>\n",
       "      <td>0.00000000</td>\n",
       "    </tr>\n",
       "    <tr>\n",
       "      <th>HenrykSienkiewicz</th>\n",
       "      <td>0.00134837</td>\n",
       "      <td>0.00299250</td>\n",
       "      <td>0.00052203</td>\n",
       "      <td>0.00095857</td>\n",
       "      <td>0.00175504</td>\n",
       "      <td>0.00311445</td>\n",
       "      <td>0.00307992</td>\n",
       "      <td>0.00400042</td>\n",
       "      <td>0.00207239</td>\n",
       "      <td>0.00000000</td>\n",
       "      <td>...</td>\n",
       "      <td>0.00052531</td>\n",
       "      <td>0.00030794</td>\n",
       "      <td>0.00053135</td>\n",
       "      <td>0.00000604</td>\n",
       "      <td>0.00000000</td>\n",
       "      <td>0.00000000</td>\n",
       "      <td>0.00000000</td>\n",
       "      <td>0.00000000</td>\n",
       "      <td>0.00000000</td>\n",
       "      <td>0.00000000</td>\n",
       "    </tr>\n",
       "    <tr>\n",
       "      <th>Juliusz Słowacki</th>\n",
       "      <td>0.00218229</td>\n",
       "      <td>0.00252706</td>\n",
       "      <td>0.00108285</td>\n",
       "      <td>0.00233043</td>\n",
       "      <td>0.00064361</td>\n",
       "      <td>0.00563872</td>\n",
       "      <td>0.00107270</td>\n",
       "      <td>0.00319985</td>\n",
       "      <td>0.00422503</td>\n",
       "      <td>0.04010351</td>\n",
       "      <td>...</td>\n",
       "      <td>0.00000000</td>\n",
       "      <td>0.00000000</td>\n",
       "      <td>0.00000000</td>\n",
       "      <td>0.00355809</td>\n",
       "      <td>0.00679405</td>\n",
       "      <td>0.00674274</td>\n",
       "      <td>0.00807932</td>\n",
       "      <td>0.00481439</td>\n",
       "      <td>0.00574246</td>\n",
       "      <td>0.00348028</td>\n",
       "    </tr>\n",
       "  </tbody>\n",
       "</table>\n",
       "<p>3 rows × 563 columns</p>\n",
       "</div>"
      ],
      "text/plain": [
       "                       dotąd      razem      zdaje     świata  zwłaszcza  \\\n",
       "labels                                                                     \n",
       "AdamMickiewicz    0.00724361 0.00458395 0.00115931 0.00467281 0.00079948   \n",
       "HenrykSienkiewicz 0.00134837 0.00299250 0.00052203 0.00095857 0.00175504   \n",
       "Juliusz Słowacki  0.00218229 0.00252706 0.00108285 0.00233043 0.00064361   \n",
       "\n",
       "                       dzień      czasu       czas      mojej          /  ...  \\\n",
       "labels                                                                    ...   \n",
       "AdamMickiewicz    0.00591032 0.00339803 0.00726039 0.00311979 0.08352076  ...   \n",
       "HenrykSienkiewicz 0.00311445 0.00307992 0.00400042 0.00207239 0.00000000  ...   \n",
       "Juliusz Słowacki  0.00563872 0.00107270 0.00319985 0.00422503 0.04010351  ...   \n",
       "\n",
       "                      kalego       słoń      mzimu  beniowski    anhelli  \\\n",
       "labels                                                                     \n",
       "AdamMickiewicz    0.00000000 0.00000000 0.00000000 0.00000000 0.00000000   \n",
       "HenrykSienkiewicz 0.00052531 0.00030794 0.00053135 0.00000604 0.00000000   \n",
       "Juliusz Słowacki  0.00000000 0.00000000 0.00000000 0.00355809 0.00679405   \n",
       "\n",
       "                      szaman    kordian     rizzio     botwel       nick  \n",
       "labels                                                                    \n",
       "AdamMickiewicz    0.00000000 0.00000000 0.00000000 0.00000000 0.00000000  \n",
       "HenrykSienkiewicz 0.00000000 0.00000000 0.00000000 0.00000000 0.00000000  \n",
       "Juliusz Słowacki  0.00674274 0.00807932 0.00481439 0.00574246 0.00348028  \n",
       "\n",
       "[3 rows x 563 columns]"
      ]
     },
     "execution_count": 21,
     "metadata": {},
     "output_type": "execute_result"
    }
   ],
   "source": [
    "data11 = frequency(data1).groupby('labels')\n",
    "data11.mean()"
   ]
  },
  {
   "cell_type": "code",
   "execution_count": 22,
   "id": "1132d797",
   "metadata": {},
   "outputs": [
    {
     "data": {
      "text/html": [
       "<div>\n",
       "<style scoped>\n",
       "    .dataframe tbody tr th:only-of-type {\n",
       "        vertical-align: middle;\n",
       "    }\n",
       "\n",
       "    .dataframe tbody tr th {\n",
       "        vertical-align: top;\n",
       "    }\n",
       "\n",
       "    .dataframe thead th {\n",
       "        text-align: right;\n",
       "    }\n",
       "</style>\n",
       "<table border=\"1\" class=\"dataframe\">\n",
       "  <thead>\n",
       "    <tr style=\"text-align: right;\">\n",
       "      <th></th>\n",
       "      <th>dotąd</th>\n",
       "      <th>razem</th>\n",
       "      <th>zdaje</th>\n",
       "      <th>świata</th>\n",
       "      <th>zwłaszcza</th>\n",
       "      <th>dzień</th>\n",
       "      <th>czasu</th>\n",
       "      <th>czas</th>\n",
       "      <th>mojej</th>\n",
       "      <th>/</th>\n",
       "      <th>...</th>\n",
       "      <th>kalego</th>\n",
       "      <th>słoń</th>\n",
       "      <th>mzimu</th>\n",
       "      <th>beniowski</th>\n",
       "      <th>anhelli</th>\n",
       "      <th>szaman</th>\n",
       "      <th>kordian</th>\n",
       "      <th>rizzio</th>\n",
       "      <th>botwel</th>\n",
       "      <th>nick</th>\n",
       "    </tr>\n",
       "    <tr>\n",
       "      <th>labels</th>\n",
       "      <th></th>\n",
       "      <th></th>\n",
       "      <th></th>\n",
       "      <th></th>\n",
       "      <th></th>\n",
       "      <th></th>\n",
       "      <th></th>\n",
       "      <th></th>\n",
       "      <th></th>\n",
       "      <th></th>\n",
       "      <th></th>\n",
       "      <th></th>\n",
       "      <th></th>\n",
       "      <th></th>\n",
       "      <th></th>\n",
       "      <th></th>\n",
       "      <th></th>\n",
       "      <th></th>\n",
       "      <th></th>\n",
       "      <th></th>\n",
       "      <th></th>\n",
       "    </tr>\n",
       "  </thead>\n",
       "  <tbody>\n",
       "    <tr>\n",
       "      <th>AdamMickiewicz</th>\n",
       "      <td>0.00003525</td>\n",
       "      <td>0.00000887</td>\n",
       "      <td>0.00000236</td>\n",
       "      <td>0.00003532</td>\n",
       "      <td>0.00000261</td>\n",
       "      <td>0.00002431</td>\n",
       "      <td>0.00001757</td>\n",
       "      <td>0.00003732</td>\n",
       "      <td>0.00000741</td>\n",
       "      <td>0.01383430</td>\n",
       "      <td>...</td>\n",
       "      <td>0.00000000</td>\n",
       "      <td>0.00000000</td>\n",
       "      <td>0.00000000</td>\n",
       "      <td>0.00000000</td>\n",
       "      <td>0.00000000</td>\n",
       "      <td>0.00000000</td>\n",
       "      <td>0.00000000</td>\n",
       "      <td>0.00000000</td>\n",
       "      <td>0.00000000</td>\n",
       "      <td>0.00000000</td>\n",
       "    </tr>\n",
       "    <tr>\n",
       "      <th>HenrykSienkiewicz</th>\n",
       "      <td>0.00000124</td>\n",
       "      <td>0.00000108</td>\n",
       "      <td>0.00000119</td>\n",
       "      <td>0.00000030</td>\n",
       "      <td>0.00000057</td>\n",
       "      <td>0.00000130</td>\n",
       "      <td>0.00000051</td>\n",
       "      <td>0.00000153</td>\n",
       "      <td>0.00000695</td>\n",
       "      <td>0.00000000</td>\n",
       "      <td>...</td>\n",
       "      <td>0.00000304</td>\n",
       "      <td>0.00000104</td>\n",
       "      <td>0.00000311</td>\n",
       "      <td>0.00000000</td>\n",
       "      <td>0.00000000</td>\n",
       "      <td>0.00000000</td>\n",
       "      <td>0.00000000</td>\n",
       "      <td>0.00000000</td>\n",
       "      <td>0.00000000</td>\n",
       "      <td>0.00000000</td>\n",
       "    </tr>\n",
       "    <tr>\n",
       "      <th>Juliusz Słowacki</th>\n",
       "      <td>0.00001056</td>\n",
       "      <td>0.00000222</td>\n",
       "      <td>0.00000138</td>\n",
       "      <td>0.00000833</td>\n",
       "      <td>0.00000250</td>\n",
       "      <td>0.00001739</td>\n",
       "      <td>0.00000131</td>\n",
       "      <td>0.00000402</td>\n",
       "      <td>0.00000746</td>\n",
       "      <td>0.00551614</td>\n",
       "      <td>...</td>\n",
       "      <td>0.00000000</td>\n",
       "      <td>0.00000000</td>\n",
       "      <td>0.00000000</td>\n",
       "      <td>0.00004446</td>\n",
       "      <td>0.00036295</td>\n",
       "      <td>0.00036372</td>\n",
       "      <td>0.00052220</td>\n",
       "      <td>0.00018543</td>\n",
       "      <td>0.00026381</td>\n",
       "      <td>0.00009690</td>\n",
       "    </tr>\n",
       "  </tbody>\n",
       "</table>\n",
       "<p>3 rows × 563 columns</p>\n",
       "</div>"
      ],
      "text/plain": [
       "                       dotąd      razem      zdaje     świata  zwłaszcza  \\\n",
       "labels                                                                     \n",
       "AdamMickiewicz    0.00003525 0.00000887 0.00000236 0.00003532 0.00000261   \n",
       "HenrykSienkiewicz 0.00000124 0.00000108 0.00000119 0.00000030 0.00000057   \n",
       "Juliusz Słowacki  0.00001056 0.00000222 0.00000138 0.00000833 0.00000250   \n",
       "\n",
       "                       dzień      czasu       czas      mojej          /  ...  \\\n",
       "labels                                                                    ...   \n",
       "AdamMickiewicz    0.00002431 0.00001757 0.00003732 0.00000741 0.01383430  ...   \n",
       "HenrykSienkiewicz 0.00000130 0.00000051 0.00000153 0.00000695 0.00000000  ...   \n",
       "Juliusz Słowacki  0.00001739 0.00000131 0.00000402 0.00000746 0.00551614  ...   \n",
       "\n",
       "                      kalego       słoń      mzimu  beniowski    anhelli  \\\n",
       "labels                                                                     \n",
       "AdamMickiewicz    0.00000000 0.00000000 0.00000000 0.00000000 0.00000000   \n",
       "HenrykSienkiewicz 0.00000304 0.00000104 0.00000311 0.00000000 0.00000000   \n",
       "Juliusz Słowacki  0.00000000 0.00000000 0.00000000 0.00004446 0.00036295   \n",
       "\n",
       "                      szaman    kordian     rizzio     botwel       nick  \n",
       "labels                                                                    \n",
       "AdamMickiewicz    0.00000000 0.00000000 0.00000000 0.00000000 0.00000000  \n",
       "HenrykSienkiewicz 0.00000000 0.00000000 0.00000000 0.00000000 0.00000000  \n",
       "Juliusz Słowacki  0.00036372 0.00052220 0.00018543 0.00026381 0.00009690  \n",
       "\n",
       "[3 rows x 563 columns]"
      ]
     },
     "execution_count": 22,
     "metadata": {},
     "output_type": "execute_result"
    }
   ],
   "source": [
    "data11.var()"
   ]
  },
  {
   "cell_type": "markdown",
   "id": "514c3b79",
   "metadata": {},
   "source": [
    "W celu usunięcia słów, które pojawiają się wyłącznie w pojedyńczych dziełach możemy przyjąć pewne założenie, iż klasyfikacje będziemy przeprowadzać jedynie na stop słowach. Słowa te nie będą charakterystyczne dla pojedyńczego autora czy dzieła, ponieważ pojawiają sie one w języku każdego człowieka, za to częstość ich występowania, może (i najprawdopodobnie jest) uzależniona od przyzwyczajenia do pewnej maniery w jakiej pewna osoba mówi. Dodatkową korzyścią takiego rozwiązania jest zdecydowanie oszczędności obliczeniowe."
   ]
  },
  {
   "cell_type": "code",
   "execution_count": 23,
   "id": "c6c61448",
   "metadata": {},
   "outputs": [
    {
     "data": {
      "text/html": [
       "<div>\n",
       "<style scoped>\n",
       "    .dataframe tbody tr th:only-of-type {\n",
       "        vertical-align: middle;\n",
       "    }\n",
       "\n",
       "    .dataframe tbody tr th {\n",
       "        vertical-align: top;\n",
       "    }\n",
       "\n",
       "    .dataframe thead th {\n",
       "        text-align: right;\n",
       "    }\n",
       "</style>\n",
       "<table border=\"1\" class=\"dataframe\">\n",
       "  <thead>\n",
       "    <tr style=\"text-align: right;\">\n",
       "      <th></th>\n",
       "      <th>jest</th>\n",
       "      <th>to</th>\n",
       "      <th>między</th>\n",
       "      <th>w</th>\n",
       "      <th>i</th>\n",
       "      <th>na</th>\n",
       "      <th>ta</th>\n",
       "      <th>się</th>\n",
       "      <th>której</th>\n",
       "      <th>ponieważ</th>\n",
       "      <th>...</th>\n",
       "      <th>dlatego</th>\n",
       "      <th>jednak</th>\n",
       "      <th>jakkolwiek</th>\n",
       "      <th>bardziej</th>\n",
       "      <th>również</th>\n",
       "      <th>bowiem</th>\n",
       "      <th>znów</th>\n",
       "      <th>gdyż</th>\n",
       "      <th>natomiast</th>\n",
       "      <th>jednakże</th>\n",
       "    </tr>\n",
       "    <tr>\n",
       "      <th>labels</th>\n",
       "      <th></th>\n",
       "      <th></th>\n",
       "      <th></th>\n",
       "      <th></th>\n",
       "      <th></th>\n",
       "      <th></th>\n",
       "      <th></th>\n",
       "      <th></th>\n",
       "      <th></th>\n",
       "      <th></th>\n",
       "      <th></th>\n",
       "      <th></th>\n",
       "      <th></th>\n",
       "      <th></th>\n",
       "      <th></th>\n",
       "      <th></th>\n",
       "      <th></th>\n",
       "      <th></th>\n",
       "      <th></th>\n",
       "      <th></th>\n",
       "      <th></th>\n",
       "    </tr>\n",
       "  </thead>\n",
       "  <tbody>\n",
       "    <tr>\n",
       "      <th>AdamMickiewicz</th>\n",
       "      <td>0.00759796</td>\n",
       "      <td>0.02118174</td>\n",
       "      <td>0.00211013</td>\n",
       "      <td>0.06585508</td>\n",
       "      <td>0.09040866</td>\n",
       "      <td>0.05143150</td>\n",
       "      <td>0.00214925</td>\n",
       "      <td>0.05228538</td>\n",
       "      <td>0.00095152</td>\n",
       "      <td>0.00011521</td>\n",
       "      <td>...</td>\n",
       "      <td>0.00042934</td>\n",
       "      <td>0.00038371</td>\n",
       "      <td>0.00016881</td>\n",
       "      <td>0.00021164</td>\n",
       "      <td>0.00007055</td>\n",
       "      <td>0.00006136</td>\n",
       "      <td>0.00009789</td>\n",
       "      <td>0.00049897</td>\n",
       "      <td>0.00000000</td>\n",
       "      <td>0.00000000</td>\n",
       "    </tr>\n",
       "    <tr>\n",
       "      <th>HenrykSienkiewicz</th>\n",
       "      <td>0.00846081</td>\n",
       "      <td>0.02783110</td>\n",
       "      <td>0.00226234</td>\n",
       "      <td>0.05169300</td>\n",
       "      <td>0.09089083</td>\n",
       "      <td>0.04416244</td>\n",
       "      <td>0.00132771</td>\n",
       "      <td>0.06156951</td>\n",
       "      <td>0.00167132</td>\n",
       "      <td>0.00064421</td>\n",
       "      <td>...</td>\n",
       "      <td>0.00143016</td>\n",
       "      <td>0.00339011</td>\n",
       "      <td>0.00033040</td>\n",
       "      <td>0.00091450</td>\n",
       "      <td>0.00067037</td>\n",
       "      <td>0.00125311</td>\n",
       "      <td>0.00213259</td>\n",
       "      <td>0.00213619</td>\n",
       "      <td>0.00070746</td>\n",
       "      <td>0.00066378</td>\n",
       "    </tr>\n",
       "    <tr>\n",
       "      <th>Juliusz Słowacki</th>\n",
       "      <td>0.00931093</td>\n",
       "      <td>0.01960182</td>\n",
       "      <td>0.00174021</td>\n",
       "      <td>0.07143824</td>\n",
       "      <td>0.08994592</td>\n",
       "      <td>0.05656008</td>\n",
       "      <td>0.00330432</td>\n",
       "      <td>0.05377965</td>\n",
       "      <td>0.00101126</td>\n",
       "      <td>0.00004891</td>\n",
       "      <td>...</td>\n",
       "      <td>0.00045795</td>\n",
       "      <td>0.00082959</td>\n",
       "      <td>0.00010739</td>\n",
       "      <td>0.00054774</td>\n",
       "      <td>0.00000000</td>\n",
       "      <td>0.00068175</td>\n",
       "      <td>0.00169873</td>\n",
       "      <td>0.00000000</td>\n",
       "      <td>0.00000000</td>\n",
       "      <td>0.00000000</td>\n",
       "    </tr>\n",
       "  </tbody>\n",
       "</table>\n",
       "<p>3 rows × 196 columns</p>\n",
       "</div>"
      ],
      "text/plain": [
       "                        jest         to     między          w          i  \\\n",
       "labels                                                                     \n",
       "AdamMickiewicz    0.00759796 0.02118174 0.00211013 0.06585508 0.09040866   \n",
       "HenrykSienkiewicz 0.00846081 0.02783110 0.00226234 0.05169300 0.09089083   \n",
       "Juliusz Słowacki  0.00931093 0.01960182 0.00174021 0.07143824 0.08994592   \n",
       "\n",
       "                          na         ta        się     której   ponieważ  ...  \\\n",
       "labels                                                                    ...   \n",
       "AdamMickiewicz    0.05143150 0.00214925 0.05228538 0.00095152 0.00011521  ...   \n",
       "HenrykSienkiewicz 0.04416244 0.00132771 0.06156951 0.00167132 0.00064421  ...   \n",
       "Juliusz Słowacki  0.05656008 0.00330432 0.05377965 0.00101126 0.00004891  ...   \n",
       "\n",
       "                     dlatego     jednak  jakkolwiek   bardziej    również  \\\n",
       "labels                                                                      \n",
       "AdamMickiewicz    0.00042934 0.00038371  0.00016881 0.00021164 0.00007055   \n",
       "HenrykSienkiewicz 0.00143016 0.00339011  0.00033040 0.00091450 0.00067037   \n",
       "Juliusz Słowacki  0.00045795 0.00082959  0.00010739 0.00054774 0.00000000   \n",
       "\n",
       "                      bowiem       znów       gdyż  natomiast   jednakże  \n",
       "labels                                                                    \n",
       "AdamMickiewicz    0.00006136 0.00009789 0.00049897 0.00000000 0.00000000  \n",
       "HenrykSienkiewicz 0.00125311 0.00213259 0.00213619 0.00070746 0.00066378  \n",
       "Juliusz Słowacki  0.00068175 0.00169873 0.00000000 0.00000000 0.00000000  \n",
       "\n",
       "[3 rows x 196 columns]"
      ]
     },
     "execution_count": 23,
     "metadata": {},
     "output_type": "execute_result"
    }
   ],
   "source": [
    "data22 = frequency(data2).groupby('labels')\n",
    "data22.mean()"
   ]
  },
  {
   "cell_type": "code",
   "execution_count": 24,
   "id": "bc64b4ae",
   "metadata": {},
   "outputs": [
    {
     "data": {
      "text/html": [
       "<div>\n",
       "<style scoped>\n",
       "    .dataframe tbody tr th:only-of-type {\n",
       "        vertical-align: middle;\n",
       "    }\n",
       "\n",
       "    .dataframe tbody tr th {\n",
       "        vertical-align: top;\n",
       "    }\n",
       "\n",
       "    .dataframe thead th {\n",
       "        text-align: right;\n",
       "    }\n",
       "</style>\n",
       "<table border=\"1\" class=\"dataframe\">\n",
       "  <thead>\n",
       "    <tr style=\"text-align: right;\">\n",
       "      <th></th>\n",
       "      <th>jest</th>\n",
       "      <th>to</th>\n",
       "      <th>między</th>\n",
       "      <th>w</th>\n",
       "      <th>i</th>\n",
       "      <th>na</th>\n",
       "      <th>ta</th>\n",
       "      <th>się</th>\n",
       "      <th>której</th>\n",
       "      <th>ponieważ</th>\n",
       "      <th>...</th>\n",
       "      <th>dlatego</th>\n",
       "      <th>jednak</th>\n",
       "      <th>jakkolwiek</th>\n",
       "      <th>bardziej</th>\n",
       "      <th>również</th>\n",
       "      <th>bowiem</th>\n",
       "      <th>znów</th>\n",
       "      <th>gdyż</th>\n",
       "      <th>natomiast</th>\n",
       "      <th>jednakże</th>\n",
       "    </tr>\n",
       "    <tr>\n",
       "      <th>labels</th>\n",
       "      <th></th>\n",
       "      <th></th>\n",
       "      <th></th>\n",
       "      <th></th>\n",
       "      <th></th>\n",
       "      <th></th>\n",
       "      <th></th>\n",
       "      <th></th>\n",
       "      <th></th>\n",
       "      <th></th>\n",
       "      <th></th>\n",
       "      <th></th>\n",
       "      <th></th>\n",
       "      <th></th>\n",
       "      <th></th>\n",
       "      <th></th>\n",
       "      <th></th>\n",
       "      <th></th>\n",
       "      <th></th>\n",
       "      <th></th>\n",
       "      <th></th>\n",
       "    </tr>\n",
       "  </thead>\n",
       "  <tbody>\n",
       "    <tr>\n",
       "      <th>AdamMickiewicz</th>\n",
       "      <td>0.00000241</td>\n",
       "      <td>0.00006231</td>\n",
       "      <td>0.00000168</td>\n",
       "      <td>0.00015466</td>\n",
       "      <td>0.00029625</td>\n",
       "      <td>0.00015100</td>\n",
       "      <td>0.00000337</td>\n",
       "      <td>0.00009752</td>\n",
       "      <td>0.00000078</td>\n",
       "      <td>0.00000009</td>\n",
       "      <td>...</td>\n",
       "      <td>0.00000037</td>\n",
       "      <td>0.00000048</td>\n",
       "      <td>0.00000011</td>\n",
       "      <td>0.00000010</td>\n",
       "      <td>0.00000002</td>\n",
       "      <td>0.00000003</td>\n",
       "      <td>0.00000007</td>\n",
       "      <td>0.00000165</td>\n",
       "      <td>0.00000000</td>\n",
       "      <td>0.00000000</td>\n",
       "    </tr>\n",
       "    <tr>\n",
       "      <th>HenrykSienkiewicz</th>\n",
       "      <td>0.00002837</td>\n",
       "      <td>0.00002365</td>\n",
       "      <td>0.00000023</td>\n",
       "      <td>0.00001082</td>\n",
       "      <td>0.00010484</td>\n",
       "      <td>0.00002163</td>\n",
       "      <td>0.00000041</td>\n",
       "      <td>0.00001748</td>\n",
       "      <td>0.00000027</td>\n",
       "      <td>0.00000071</td>\n",
       "      <td>...</td>\n",
       "      <td>0.00000031</td>\n",
       "      <td>0.00000428</td>\n",
       "      <td>0.00000005</td>\n",
       "      <td>0.00000004</td>\n",
       "      <td>0.00000006</td>\n",
       "      <td>0.00000012</td>\n",
       "      <td>0.00000060</td>\n",
       "      <td>0.00000250</td>\n",
       "      <td>0.00000010</td>\n",
       "      <td>0.00000024</td>\n",
       "    </tr>\n",
       "    <tr>\n",
       "      <th>Juliusz Słowacki</th>\n",
       "      <td>0.00002720</td>\n",
       "      <td>0.00002857</td>\n",
       "      <td>0.00000134</td>\n",
       "      <td>0.00023212</td>\n",
       "      <td>0.00083472</td>\n",
       "      <td>0.00007695</td>\n",
       "      <td>0.00000112</td>\n",
       "      <td>0.00008299</td>\n",
       "      <td>0.00000150</td>\n",
       "      <td>0.00000001</td>\n",
       "      <td>...</td>\n",
       "      <td>0.00000019</td>\n",
       "      <td>0.00000058</td>\n",
       "      <td>0.00000009</td>\n",
       "      <td>0.00000034</td>\n",
       "      <td>0.00000000</td>\n",
       "      <td>0.00000071</td>\n",
       "      <td>0.00000307</td>\n",
       "      <td>0.00000000</td>\n",
       "      <td>0.00000000</td>\n",
       "      <td>0.00000000</td>\n",
       "    </tr>\n",
       "  </tbody>\n",
       "</table>\n",
       "<p>3 rows × 196 columns</p>\n",
       "</div>"
      ],
      "text/plain": [
       "                        jest         to     między          w          i  \\\n",
       "labels                                                                     \n",
       "AdamMickiewicz    0.00000241 0.00006231 0.00000168 0.00015466 0.00029625   \n",
       "HenrykSienkiewicz 0.00002837 0.00002365 0.00000023 0.00001082 0.00010484   \n",
       "Juliusz Słowacki  0.00002720 0.00002857 0.00000134 0.00023212 0.00083472   \n",
       "\n",
       "                          na         ta        się     której   ponieważ  ...  \\\n",
       "labels                                                                    ...   \n",
       "AdamMickiewicz    0.00015100 0.00000337 0.00009752 0.00000078 0.00000009  ...   \n",
       "HenrykSienkiewicz 0.00002163 0.00000041 0.00001748 0.00000027 0.00000071  ...   \n",
       "Juliusz Słowacki  0.00007695 0.00000112 0.00008299 0.00000150 0.00000001  ...   \n",
       "\n",
       "                     dlatego     jednak  jakkolwiek   bardziej    również  \\\n",
       "labels                                                                      \n",
       "AdamMickiewicz    0.00000037 0.00000048  0.00000011 0.00000010 0.00000002   \n",
       "HenrykSienkiewicz 0.00000031 0.00000428  0.00000005 0.00000004 0.00000006   \n",
       "Juliusz Słowacki  0.00000019 0.00000058  0.00000009 0.00000034 0.00000000   \n",
       "\n",
       "                      bowiem       znów       gdyż  natomiast   jednakże  \n",
       "labels                                                                    \n",
       "AdamMickiewicz    0.00000003 0.00000007 0.00000165 0.00000000 0.00000000  \n",
       "HenrykSienkiewicz 0.00000012 0.00000060 0.00000250 0.00000010 0.00000024  \n",
       "Juliusz Słowacki  0.00000071 0.00000307 0.00000000 0.00000000 0.00000000  \n",
       "\n",
       "[3 rows x 196 columns]"
      ]
     },
     "execution_count": 24,
     "metadata": {},
     "output_type": "execute_result"
    }
   ],
   "source": [
    "data22.var()"
   ]
  },
  {
   "cell_type": "markdown",
   "id": "d38aed70",
   "metadata": {},
   "source": [
    "Już na tym poziomie widzmy pewne prawidłowości. Jak widać Sienkiewicz jako jedyny używa słowa 'jednakże' oraz 'natomiast', a mała wariancja dla tych słów implikuje, że autor ten używa tego słowa dość regularnie w swoich dziełach. Tą teze bardzo łatwo zweryfikować."
   ]
  },
  {
   "cell_type": "code",
   "execution_count": 57,
   "id": "40303d0a",
   "metadata": {},
   "outputs": [
    {
     "data": {
      "text/plain": [
       "Name\n",
       "DziadyII                             0\n",
       "DziadyIII                            0\n",
       "DziadyIV                             0\n",
       "Grażyna                              0\n",
       "KonradWallendrod                     0\n",
       "PanTadeusz                           0\n",
       "Żywila                               0\n",
       "Bez dogmatu                         16\n",
       "Co się raz stało w Sydonie           0\n",
       "Krzyżacy Tom I                      52\n",
       "Krzyżacy Tom II                     65\n",
       "OgniemIMieczemTom1                  19\n",
       "Pan Wołodyjowski                    37\n",
       "Potop Tom I                         20\n",
       "Potop Tom II                        36\n",
       "Potop Tom III                       13\n",
       "Quo vadis                           50\n",
       "W pustyni i w puszczy               66\n",
       "Anhelli                              0\n",
       "Balladyna                            0\n",
       "Beniowski dalsze pieśni              0\n",
       "Beniowski pięć pierwszych pieśni     0\n",
       "Hugo                                 0\n",
       "Kordian                              0\n",
       "Król Duch                            0\n",
       "Maria Stuart                         0\n",
       "Name: jednakże, dtype: int64"
      ]
     },
     "execution_count": 57,
     "metadata": {},
     "output_type": "execute_result"
    }
   ],
   "source": [
    "data2['jednakże']"
   ]
  },
  {
   "cell_type": "markdown",
   "id": "ed008293",
   "metadata": {},
   "source": [
    "Obserwacja ta prowadzi nas do kolejnego etapu analizy jaką jest uczenie klasyfikatora."
   ]
  },
  {
   "cell_type": "markdown",
   "id": "7feb5e18",
   "metadata": {},
   "source": [
    "___"
   ]
  },
  {
   "cell_type": "markdown",
   "id": "388d57c8",
   "metadata": {},
   "source": [
    "Teraz musimy stworzyć model, który będzie klasyfikował do jakiego autora należy dany utwór."
   ]
  },
  {
   "cell_type": "code",
   "execution_count": 26,
   "id": "697dbeac",
   "metadata": {},
   "outputs": [],
   "source": [
    "from sklearn.model_selection import train_test_split\n",
    "from sklearn.neighbors import NearestNeighbors\n",
    "from sklearn.neighbors import KNeighborsClassifier\n",
    "from sklearn.neighbors import NearestCentroid\n",
    "from sklearn.naive_bayes import GaussianNB\n",
    "from sklearn.linear_model import LinearRegression\n",
    "from sklearn.metrics import confusion_matrix\n",
    "from sklearn import metrics\n",
    "from sklearn import tree\n",
    "\n",
    "import matplotlib.pyplot as plt\n",
    "import random\n",
    "import re"
   ]
  },
  {
   "cell_type": "markdown",
   "id": "3c7d22f6",
   "metadata": {},
   "source": [
    "Metoda get_learning_data dzieli naszą macierz danych na dane uczące oraz testowe w pewnej proporcji. Dzięki temu będziemy mogli zweryfikować jak dobry nasz model jest."
   ]
  },
  {
   "cell_type": "code",
   "execution_count": 27,
   "id": "52fd7542",
   "metadata": {},
   "outputs": [],
   "source": [
    "def get_learning_data(df, proporcja):\n",
    "    opis_ucz, opis_test, dec_ucz, dec_test = train_test_split(df.drop(columns='labels'), df['labels'].astype('category').cat.codes, test_size=proporcja)#, random_state=0)\n",
    "    return {\"opis_ucz\":opis_ucz, \"opis_test\":opis_test, \"dec_ucz\":dec_ucz, \"dec_test\":dec_test}"
   ]
  },
  {
   "cell_type": "markdown",
   "id": "113f510f",
   "metadata": {},
   "source": [
    "Dodatkowo użyjemy metody, która służy do weryfikacji jak dobrymi danymi uczącymi są dostarczone dane."
   ]
  },
  {
   "cell_type": "code",
   "execution_count": 28,
   "id": "3038487f",
   "metadata": {},
   "outputs": [],
   "source": [
    "def weryfikuj(model, data, show=True):\n",
    "    model.fit(data['opis_ucz'], data['dec_ucz'])\n",
    "    \n",
    "    learn_s = model.score(data['opis_ucz'], data['dec_ucz'])\n",
    "    test_s  = model.score(data['opis_test'], data['dec_test'])\n",
    "    \n",
    "    if show:\n",
    "        print(\"\\tWynik dla danych uczących: \", end=\"\")\n",
    "        print(learn_s)\n",
    "        print(\"\\tWynik dla danych testowych: \", end=\"\")\n",
    "        print(test_s)\n",
    "    \n",
    "    return learn_s, test_s"
   ]
  },
  {
   "cell_type": "code",
   "execution_count": 37,
   "id": "6ca0b34d",
   "metadata": {},
   "outputs": [],
   "source": [
    "models = ((\"NS\", KNeighborsClassifier(n_neighbors=1)), \n",
    "          (\"KNS5\", KNeighborsClassifier(n_neighbors=5)),\n",
    "          (\"KNS10\", KNeighborsClassifier(n_neighbors=10)), \n",
    "          (\"BK\", GaussianNB()),\n",
    "          (\"DT5\", tree.DecisionTreeClassifier(max_depth=5)),\n",
    "          (\"DT10\", tree.DecisionTreeClassifier(max_depth=10)))\n",
    "liczba_prób = 1000"
   ]
  },
  {
   "cell_type": "markdown",
   "id": "fd363f33",
   "metadata": {},
   "source": [
    "Przeprowadzimy teraz klasyfikacje na danych testowych w dziewięciu wariantach:\n",
    "* Worek słów składa się wyłącznie z stop słów.   \n",
    "* Worek słów składa się ze słów, które nie są stop słowami.   \n",
    "* Worek słów będzie składał się ze wszystkich słów.  \n",
    "* Worek słów składa się wyłącznie z stop słów z metryką tfidf.  \n",
    "* Worek słów składa się ze słów, które nie są stop słowami z metryką tfidf. \n",
    "* Worek słów będzie składał się ze wszystkich słów z metryką tfidf.  \n",
    "* Worek słów będzie sumą wszystkich słów używanych przez autora we wszystkich dziełach.   \n",
    "* Worek słów będzie sumą wszystkich stop słów używanych przez autora we wszystkich dziełach. \n",
    "* Worek słów będzie sumą wszystkich wszystkich słów używanych przez autora we wszystkich dziełach. \n",
    "\n",
    "Do wykonania tego zadania posłużą nam metoday:"
   ]
  },
  {
   "cell_type": "code",
   "execution_count": 32,
   "id": "95602800",
   "metadata": {
    "scrolled": false
   },
   "outputs": [],
   "source": [
    "def test_classifiers(df_o, tfidf_arg=False, NS=False, tries=100):\n",
    "    res = {}\n",
    "    df = df_o.copy()\n",
    "    progress = len(models)*tries\n",
    "    if not tfidf_arg:\n",
    "        df = frequency(df)\n",
    "    for index, name_mod in enumerate(models):\n",
    "        name, mod = name_mod\n",
    "        if NS and name != 'NS': continue\n",
    "        if mod is None:\n",
    "            break\n",
    "        sum_t = 0\n",
    "        sum_l = 0\n",
    "        line = \"Ukończono w {pr:.2f}%\"\n",
    "        for i in range(tries):\n",
    "            data = get_learning_data(df, 0.3)\n",
    "            if tfidf_arg:\n",
    "                data['opis_ucz'] = tfidf(data['opis_ucz'])\n",
    "                data['opis_test'] = tfidf(data['opis_test'])\n",
    "            d_l, d_t= weryfikuj(mod, data, show=False)\n",
    "            sum_l += d_l\n",
    "            sum_t += d_t\n",
    "            if NS:\n",
    "                print(line.format(pr=(index*tries + i + 1)*100/tries,) , end='\\r')\n",
    "            else:\n",
    "                print(line.format(pr=(index*tries + i + 1)*100/progress,) , end='\\r')\n",
    "        res[name] = (sum_l/tries, sum_t/tries)\n",
    "    respd = pd.DataFrame(res, index=[\"uczące\", \"testowe\"])\n",
    "    \n",
    "    return respd.T.sort_values(by='testowe')"
   ]
  },
  {
   "cell_type": "markdown",
   "id": "39cd2387",
   "metadata": {},
   "source": [
    "Najpierw wykonamy klasyfikacje wyłącznie używając częstości wystąpień danych słów w danym dziele:"
   ]
  },
  {
   "cell_type": "code",
   "execution_count": 49,
   "id": "c0244d4a",
   "metadata": {
    "scrolled": false
   },
   "outputs": [
    {
     "name": "stdout",
     "output_type": "stream",
     "text": [
      "Klasyfickaja bez stop słów\n",
      "Ukończono w 100.00%\r"
     ]
    },
    {
     "data": {
      "text/plain": [
       "<AxesSubplot:>"
      ]
     },
     "execution_count": 49,
     "metadata": {},
     "output_type": "execute_result"
    },
    {
     "data": {
      "image/png": "[encoded data removed]",
      "text/plain": [
       "<Figure size 640x480 with 1 Axes>"
      ]
     },
     "metadata": {},
     "output_type": "display_data"
    }
   ],
   "source": [
    "print(\"Klasyfickaja bez stop słów\")\n",
    "respd1 = test_classifiers(data1, tries=liczba_prób)\n",
    "respd1.plot(kind='bar', rot = 45,  ylim=[0,1])"
   ]
  },
  {
   "cell_type": "code",
   "execution_count": 39,
   "id": "d5b2286a",
   "metadata": {},
   "outputs": [
    {
     "name": "stdout",
     "output_type": "stream",
     "text": [
      "Klasyfickaja na stop słowach\n",
      "Ukończono w 100.00%\r"
     ]
    },
    {
     "data": {
      "text/plain": [
       "<AxesSubplot:>"
      ]
     },
     "execution_count": 39,
     "metadata": {},
     "output_type": "execute_result"
    },
    {
     "data": {
      "image/png": "[encoded data removed]",
      "text/plain": [
       "<Figure size 640x480 with 1 Axes>"
      ]
     },
     "metadata": {},
     "output_type": "display_data"
    }
   ],
   "source": [
    "print(\"Klasyfickaja na stop słowach\")\n",
    "respd2 = test_classifiers(data2, tries=liczba_prób)\n",
    "respd2.plot(kind='bar', rot = 45,  ylim=[0,1])"
   ]
  },
  {
   "cell_type": "code",
   "execution_count": 40,
   "id": "f964eeaa",
   "metadata": {
    "scrolled": false
   },
   "outputs": [
    {
     "name": "stdout",
     "output_type": "stream",
     "text": [
      "Klasyfickaja na wszystkich słowach\n",
      "Ukończono w 100.00%\r"
     ]
    },
    {
     "data": {
      "text/plain": [
       "<AxesSubplot:>"
      ]
     },
     "execution_count": 40,
     "metadata": {},
     "output_type": "execute_result"
    },
    {
     "data": {
      "image/png": "[encoded data removed]",
      "text/plain": [
       "<Figure size 640x480 with 1 Axes>"
      ]
     },
     "metadata": {},
     "output_type": "display_data"
    }
   ],
   "source": [
    "print(\"Klasyfickaja na wszystkich słowach\")\n",
    "respd3 = test_classifiers(data3, tries=liczba_prób)\n",
    "respd3.plot(kind='bar', rot = 45,  ylim=[0,1])"
   ]
  },
  {
   "cell_type": "code",
   "execution_count": 41,
   "id": "819aa949",
   "metadata": {
    "scrolled": false
   },
   "outputs": [
    {
     "data": {
      "text/plain": [
       "<AxesSubplot:>"
      ]
     },
     "execution_count": 41,
     "metadata": {},
     "output_type": "execute_result"
    },
    {
     "data": {
      "image/png": "[encoded data removed]",
      "text/plain": [
       "<Figure size 640x480 with 1 Axes>"
      ]
     },
     "metadata": {},
     "output_type": "display_data"
    }
   ],
   "source": [
    "to_plot = pd.concat([respd1.drop(columns=['uczące']),\n",
    "                        respd2.drop(columns=['uczące']),\n",
    "                        respd3.drop(columns=['uczące'])], axis=1)\n",
    "to_plot.columns = ['testowe bez stop słów', 'testowe na stop słowach', 'testowe na wszystkich słowach']\n",
    "to_plot.plot(kind='bar', rot = 45, ylim=[0,1])"
   ]
  },
  {
   "cell_type": "markdown",
   "id": "9198a22b",
   "metadata": {},
   "source": [
    "Na podstawie tych klasyfikacji widzimy, że jesteśmy w stanie otrzymać dość dobre wyniki dla klasyfikatorów, które mają rząd wielkości około 70%. "
   ]
  },
  {
   "cell_type": "markdown",
   "id": "69cf53f9",
   "metadata": {},
   "source": [
    "___"
   ]
  },
  {
   "cell_type": "markdown",
   "id": "106ef7a3",
   "metadata": {},
   "source": [
    "Następną klasyfikacje wykonamy przy pomocy metryki tfidf."
   ]
  },
  {
   "cell_type": "code",
   "execution_count": 43,
   "id": "f9772c8e",
   "metadata": {
    "scrolled": false
   },
   "outputs": [
    {
     "name": "stdout",
     "output_type": "stream",
     "text": [
      "Klasyfickaja bez stop słów z metryką TFIDF\n",
      "Ukończono w 100.00%\r"
     ]
    },
    {
     "data": {
      "text/plain": [
       "<AxesSubplot:>"
      ]
     },
     "execution_count": 43,
     "metadata": {},
     "output_type": "execute_result"
    },
    {
     "data": {
      "image/png": "[encoded data removed]",
      "text/plain": [
       "<Figure size 640x480 with 1 Axes>"
      ]
     },
     "metadata": {},
     "output_type": "display_data"
    }
   ],
   "source": [
    "print(\"Klasyfickaja bez stop słów z metryką TFIDF\")\n",
    "respdTF1 = test_classifiers(data1, tfidf_arg=True, tries=liczba_prób)\n",
    "respdTF1.plot(kind='bar', rot = 45,  ylim=[0,1])"
   ]
  },
  {
   "cell_type": "code",
   "execution_count": 44,
   "id": "d09090dd",
   "metadata": {},
   "outputs": [
    {
     "name": "stdout",
     "output_type": "stream",
     "text": [
      "Klasyfickaja na stop słowach z metryką TFIDF\n",
      "Ukończono w 100.00%\r"
     ]
    },
    {
     "data": {
      "text/plain": [
       "<AxesSubplot:>"
      ]
     },
     "execution_count": 44,
     "metadata": {},
     "output_type": "execute_result"
    },
    {
     "data": {
      "image/png": "[encoded data removed]",
      "text/plain": [
       "<Figure size 640x480 with 1 Axes>"
      ]
     },
     "metadata": {},
     "output_type": "display_data"
    }
   ],
   "source": [
    "print(\"Klasyfickaja na stop słowach z metryką TFIDF\")\n",
    "respdTF2 = test_classifiers(data2, tfidf_arg=True, tries=liczba_prób)\n",
    "respdTF2.plot(kind='bar', rot = 45,  ylim=[0,1])"
   ]
  },
  {
   "cell_type": "code",
   "execution_count": 45,
   "id": "d84dbadf",
   "metadata": {},
   "outputs": [
    {
     "name": "stdout",
     "output_type": "stream",
     "text": [
      "Klasyfickaja na wszyskich słowach z metryką TFIDF\n",
      "Ukończono w 100.00%\r"
     ]
    },
    {
     "data": {
      "text/plain": [
       "<AxesSubplot:>"
      ]
     },
     "execution_count": 45,
     "metadata": {},
     "output_type": "execute_result"
    },
    {
     "data": {
      "image/png": "[encoded data removed]",
      "text/plain": [
       "<Figure size 640x480 with 1 Axes>"
      ]
     },
     "metadata": {},
     "output_type": "display_data"
    }
   ],
   "source": [
    "print(\"Klasyfickaja na wszyskich słowach z metryką TFIDF\")\n",
    "respdTF3 = test_classifiers(data3, tfidf_arg=True, tries=liczba_prób)\n",
    "respdTF3.plot(kind='bar', rot = 45,  ylim=[0,1])"
   ]
  },
  {
   "cell_type": "code",
   "execution_count": 46,
   "id": "f3db2a53",
   "metadata": {},
   "outputs": [
    {
     "data": {
      "text/plain": [
       "<AxesSubplot:>"
      ]
     },
     "execution_count": 46,
     "metadata": {},
     "output_type": "execute_result"
    },
    {
     "data": {
      "image/png": "[encoded data removed]",
      "text/plain": [
       "<Figure size 640x480 with 1 Axes>"
      ]
     },
     "metadata": {},
     "output_type": "display_data"
    }
   ],
   "source": [
    "to_plot_TF = pd.concat([respdTF1.drop(columns=['uczące']),\n",
    "                        respdTF2.drop(columns=['uczące']),\n",
    "                        respdTF3.drop(columns=['uczące'])], axis=1)\n",
    "to_plot_TF.columns = ['testowe bez stop słów', 'testowe na stop słowach', 'testowe na wszystkich słowach']\n",
    "to_plot_TF.plot(kind='bar', rot = 45, ylim=[0,1])"
   ]
  },
  {
   "cell_type": "markdown",
   "id": "2bb82677",
   "metadata": {},
   "source": [
    "Przy użyciu metryki TFIDF udało nam się trochę \"ulepszyć\" zbiór uczący. Jak widzimy teraz wyniki uzyskiwane przez poszczególne klasyfikatory są trochę lepsze"
   ]
  },
  {
   "cell_type": "markdown",
   "id": "0de7a88e",
   "metadata": {},
   "source": [
    "Klasyfikacja gdy łączymy wszystkie dzieła 1 autora."
   ]
  },
  {
   "cell_type": "code",
   "execution_count": 47,
   "id": "44ebddad",
   "metadata": {
    "scrolled": false
   },
   "outputs": [
    {
     "name": "stdout",
     "output_type": "stream",
     "text": [
      "Klasyfickaja na stop słowach\n",
      "Klasyfickaja bez stop słów\n",
      "Klasyfickaja na wszystkich słowach\n",
      "##################################\n"
     ]
    }
   ],
   "source": [
    "print(\"Klasyfickaja na stop słowach\")\n",
    "respdNS1 = test_classifiers(data1, NS=True, tries=liczba_prób)\n",
    "print(\"Klasyfickaja bez stop słów\")\n",
    "respdNS2 = test_classifiers(data2, NS=True, tries=liczba_prób)\n",
    "print(\"Klasyfickaja na wszystkich słowach\")\n",
    "respdNS3 = test_classifiers(data3, NS=True, tries=liczba_prób)\n",
    "print(\"##################################\")"
   ]
  },
  {
   "cell_type": "code",
   "execution_count": 48,
   "id": "16a0ed64",
   "metadata": {
    "scrolled": false
   },
   "outputs": [
    {
     "data": {
      "text/plain": [
       "<AxesSubplot:>"
      ]
     },
     "execution_count": 48,
     "metadata": {},
     "output_type": "execute_result"
    },
    {
     "data": {
      "image/png": "[encoded data removed]",
      "text/plain": [
       "<Figure size 640x480 with 1 Axes>"
      ]
     },
     "metadata": {},
     "output_type": "display_data"
    }
   ],
   "source": [
    "to_plot_NS = pd.concat([respdNS1.drop(columns=['uczące']),\n",
    "                        respdNS2.drop(columns=['uczące']),\n",
    "                        respdNS3.drop(columns=['uczące'])], axis=1)\n",
    "to_plot_NS.columns = ['testowe bez stop słów', 'testowe na stop słowach', 'testowe na wszystkich słowach']\n",
    "to_plot_NS.plot(kind='bar', rot = 45,  ylim=[0,1])"
   ]
  },
  {
   "cell_type": "markdown",
   "id": "6ea49cfb",
   "metadata": {},
   "source": [
    "Przy użwyaniu prototypu autora uzyskujemy podobne do siebie wyniki nie zależnie od przyjętej metody. Choć minimalnie lepszy okazały się być worki słów na wszystkich słowach, jednakże (żaden ze mnie Sienkiewicz) różnica między danymi na stop słowach są znikome a oszczędność obliczeniowa jest duża, co może być ważną cechą do odnotowania."
   ]
  },
  {
   "cell_type": "code",
   "execution_count": 121,
   "id": "d6332a8d",
   "metadata": {},
   "outputs": [
    {
     "name": "stdout",
     "output_type": "stream",
     "text": [
      "           testowe\n",
      "f3DT10  0.67362500\n",
      "NSn3    0.66800000\n",
      "f2DT10  0.66625000\n",
      "NSn2    0.66237500\n",
      "f2DT5   0.66187500\n",
      "f2BK    0.66000000\n",
      "f2KNS10 0.65537500\n",
      "f3DT5   0.65500000\n",
      "t2DT10  0.65262500\n",
      "f1DT10  0.65037500\n",
      "f3BK    0.64625000\n",
      "f1DT5   0.63550000\n",
      "f1BK    0.62425000\n",
      "NSn1    0.61837500\n",
      "f3KNS10 0.61537500\n",
      "f2KNS5  0.59937500\n",
      "t2DT5   0.58387500\n",
      "t2BK    0.57637500\n",
      "t2KNS10 0.57562500\n",
      "t1DT10  0.57487500\n",
      "t3DT10  0.56937500\n",
      "t1DT5   0.56862500\n",
      "t3DT5   0.56300000\n",
      "t2KNS5  0.55225000\n",
      "f1KNS10 0.55075000\n",
      "f3KNS5  0.51187500\n",
      "f1KNS5  0.50550000\n",
      "t3BK    0.48812500\n",
      "t1BK    0.48762500\n",
      "f3NS    0.48125000\n",
      "f2NS    0.47212500\n",
      "t1KNS10 0.46787500\n",
      "f1NS    0.46475000\n",
      "t2NS    0.46462500\n",
      "t3KNS10 0.42587500\n",
      "t1KNS5  0.35587500\n",
      "t1NS    0.33900000\n",
      "t3KNS5  0.32687500\n",
      "t3NS    0.31650000\n"
     ]
    },
    {
     "data": {
      "text/plain": [
       "<AxesSubplot:>"
      ]
     },
     "execution_count": 121,
     "metadata": {},
     "output_type": "execute_result"
    },
    {
     "data": {
      "image/png": "[encoded data removed]",
      "text/plain": [
       "<Figure size 640x480 with 1 Axes>"
      ]
     },
     "metadata": {},
     "output_type": "display_data"
    },
    {
     "data": {
      "image/png": "[encoded data removed]",
      "text/plain": [
       "<Figure size 640x480 with 1 Axes>"
      ]
     },
     "metadata": {},
     "output_type": "display_data"
    }
   ],
   "source": [
    "met1 = ('f1','f2','f3','t1','t2','t3')\n",
    "met2 = ('NSn1','NSn2','NSn3')\n",
    "kla = [name for name, _ in models]\n",
    "lab = [m + k for m in met1 for k in kla]\n",
    "lab += met2\n",
    "l = (respd1.drop(columns=['uczące']),\n",
    "     respd2.drop(columns=['uczące']),\n",
    "     respd3.drop(columns=['uczące']),\n",
    "     respdTF1.drop(columns=['uczące']),\n",
    "     respdTF2.drop(columns=['uczące']),\n",
    "     respdTF3.drop(columns=['uczące']),\n",
    "     respdNS1.drop(columns=['uczące']),\n",
    "     respdNS2.drop(columns=['uczące']),\n",
    "     respdNS3.drop(columns=['uczące']))\n",
    "df = pd.concat(l)\n",
    "df.index = lab\n",
    "df = df.sort_values(by='testowe', ascending=False)\n",
    "print(df)\n",
    "tmp = df.head(10)\n",
    "tmp = tmp\n",
    "\n",
    "tmp.columns= ['_']\n",
    "tmp.plot(kind='bar', rot = 90, ylim=[0,1], width=0.5)\n",
    "tmp.plot(kind='bar', rot = 90, ylim=[0.65,0.7], width=0.5)"
   ]
  },
  {
   "cell_type": "code",
   "execution_count": 79,
   "id": "6f02f07e",
   "metadata": {},
   "outputs": [],
   "source": [
    "def test_for_lengths(model, traindf, files, mini=100, maxi=5100, step=1000, tries=10):\n",
    "    classificator = model\n",
    "    classificator.fit(traindf.drop(columns='labels'), traindf['labels'])\n",
    "    books = []\n",
    "    labels = []\n",
    "    index = []\n",
    "    results = []\n",
    "    sizes = []\n",
    "    nmin = np.Infinity\n",
    "    \n",
    "    for path, name, label in zip(files['FilePath'], files['Name of The work'], files['Author']):\n",
    "        labels.append(label)\n",
    "        index.append(name)\n",
    "        n, cont = get_text(path)\n",
    "        cont = normalize_text(cont)\n",
    "        cont = cont.replace('\\n', ' ')\n",
    "        words = cont.split(' ')\n",
    "        nmin = min(nmin, len(words))\n",
    "        books.append(words)\n",
    "        \n",
    "    line = \"Ukończono w {pr:.2f}%\"\n",
    "    s = (maxi - mini)//step\n",
    "    progress = s*tries\n",
    "    \n",
    "    for i in range(mini, maxi + 1, step):\n",
    "        sum = 0\n",
    "        if i >= nmin:\n",
    "            break\n",
    "        for t in range(tries):\n",
    "            print(line.format(pr=(((i - mini)//step*tries + t + 1)*100/progress)), end='\\r')         \n",
    "            bags = []\n",
    "            \n",
    "            for text in books:\n",
    "                start = random.randint(0, len(text) - i)\n",
    "                bags.append(bag_from_list(text[start:], mode=0, nwords=i))\n",
    "                \n",
    "            df = merge_dics_to_df(bags)\n",
    "            df = frequency(df)\n",
    "            df['labels'] = labels\n",
    "            df = df.merge(traindf, how='left')\n",
    "            df = df[traindf.columns]\n",
    "            df = df.fillna(0)\n",
    "            \n",
    "            sum += classificator.score(df.drop(columns='labels'), df['labels'])\n",
    "        results.append(sum / tries)\n",
    "        sizes.append(i)\n",
    "    return results, sizes"
   ]
  },
  {
   "cell_type": "code",
   "execution_count": 61,
   "id": "386653e9",
   "metadata": {},
   "outputs": [],
   "source": [
    "def test_for_lengths(model, traindf, files, mini=100, maxi=5100, step=1000, tries=10):\n",
    "    classificator = model\n",
    "    classificator.fit(traindf.drop(columns='labels'), traindf['labels'])\n",
    "    books = []\n",
    "    labels = []\n",
    "    index = []\n",
    "    results = []\n",
    "    sizes = []\n",
    "    nmin = np.Infinity\n",
    "    \n",
    "    for path, name, label in zip(files['FilePath'], files['Name of The work'], files['Author']):\n",
    "        labels.append(label)\n",
    "        index.append(name)\n",
    "        n, cont = get_text(path)\n",
    "        cont = normalize_text(cont)\n",
    "        cont = cont.replace('\\n', ' ')\n",
    "        words = cont.split(' ')\n",
    "        nmin = min(nmin, len(words))\n",
    "        books.append(words)\n",
    "        \n",
    "    line = \"Ukończono w {pr:.2f}%\"\n",
    "    s = (maxi - mini)//step\n",
    "    progress = s*tries\n",
    "    \n",
    "    gen = range(mini, maxi + 1, step)\n",
    "    sizes = [*gen]\n",
    "    \n",
    "    sum = [0] * len(sizes)\n",
    "\n",
    "    for t in range(tries):\n",
    "        print(line.format(pr=((t + 1)*100/tries)), end='\\r')         \n",
    "        bags = []\n",
    "\n",
    "        for text in books:\n",
    "            start = random.randint(0, len(text))\n",
    "            bags.append(bag_from_list(text[start:], mode=0, nwords=gen))\n",
    "\n",
    "        for batch in zip(bags):\n",
    "            df = merge_dics_to_df(batch)\n",
    "            df = frequency(df)\n",
    "            df['labels'] = labels\n",
    "            df = df.merge(traindf, how='left')\n",
    "            df = df[traindf.columns]\n",
    "            df = df.fillna(0)\n",
    "\n",
    "        sum += classificator.score(df.drop(columns='labels'), df['labels'])\n",
    "    results.append(sum / tries)\n",
    "        \n",
    "    return results, sizes"
   ]
  },
  {
   "cell_type": "code",
   "execution_count": 80,
   "id": "6df594d0",
   "metadata": {},
   "outputs": [],
   "source": [
    "def bag_from_list(lst, mode=0, nwords=0):\n",
    "    word_bag = {}\n",
    "    words_in_bag = 0\n",
    "    for word in lst:\n",
    "        if words_in_bag >= nwords:\n",
    "            break\n",
    "        if word == '':\n",
    "            continue\n",
    "        if (mode==0) or (mode==1 and not word in stop_word) or (mode==2 and word in stop_word):\n",
    "            words_in_bag += 1\n",
    "            if word in word_bag:\n",
    "                word_bag[word] += 1\n",
    "            else:\n",
    "                word_bag[word] = 1\n",
    "    return word_bag     "
   ]
  },
  {
   "cell_type": "code",
   "execution_count": 87,
   "id": "6812e65a",
   "metadata": {
    "scrolled": true
   },
   "outputs": [],
   "source": [
    "data = load(files.drop([0, 11, 23]), mode=0)\n",
    "fdata = frequency(data)"
   ]
  },
  {
   "cell_type": "code",
   "execution_count": 88,
   "id": "bdc8ab51",
   "metadata": {
    "scrolled": false
   },
   "outputs": [
    {
     "name": "stdout",
     "output_type": "stream",
     "text": [
      "Ukończono w 62.11%\r"
     ]
    },
    {
     "ename": "KeyboardInterrupt",
     "evalue": "",
     "output_type": "error",
     "traceback": [
      "\u001b[1;31m---------------------------------------------------------------------------\u001b[0m",
      "\u001b[1;31mKeyboardInterrupt\u001b[0m                         Traceback (most recent call last)",
      "\u001b[1;32m~\\AppData\\Local\\Temp\\ipykernel_20348\\2748548238.py\u001b[0m in \u001b[0;36m<module>\u001b[1;34m\u001b[0m\n\u001b[0;32m      8\u001b[0m \u001b[0mpr\u001b[0m\u001b[1;33m.\u001b[0m\u001b[0menable\u001b[0m\u001b[1;33m(\u001b[0m\u001b[1;33m)\u001b[0m\u001b[1;33m\u001b[0m\u001b[1;33m\u001b[0m\u001b[0m\n\u001b[0;32m      9\u001b[0m \u001b[1;33m\u001b[0m\u001b[0m\n\u001b[1;32m---> 10\u001b[1;33m \u001b[0mr\u001b[0m\u001b[1;33m,\u001b[0m \u001b[0ms\u001b[0m \u001b[1;33m=\u001b[0m \u001b[0mtest_for_lengths\u001b[0m\u001b[1;33m(\u001b[0m\u001b[0mtree\u001b[0m\u001b[1;33m.\u001b[0m\u001b[0mDecisionTreeClassifier\u001b[0m\u001b[1;33m(\u001b[0m\u001b[0mmax_depth\u001b[0m\u001b[1;33m=\u001b[0m\u001b[1;36m5\u001b[0m\u001b[1;33m)\u001b[0m\u001b[1;33m,\u001b[0m \u001b[0mfdata\u001b[0m\u001b[1;33m,\u001b[0m \u001b[0mfiles\u001b[0m\u001b[1;33m.\u001b[0m\u001b[0mloc\u001b[0m\u001b[1;33m[\u001b[0m\u001b[1;33m[\u001b[0m\u001b[1;36m0\u001b[0m\u001b[1;33m,\u001b[0m \u001b[1;36m11\u001b[0m\u001b[1;33m,\u001b[0m \u001b[1;36m23\u001b[0m\u001b[1;33m]\u001b[0m\u001b[1;33m,\u001b[0m\u001b[1;33m:\u001b[0m\u001b[1;33m]\u001b[0m\u001b[1;33m,\u001b[0m \u001b[0mmini\u001b[0m\u001b[1;33m=\u001b[0m\u001b[1;36m100\u001b[0m\u001b[1;33m,\u001b[0m \u001b[0mmaxi\u001b[0m\u001b[1;33m=\u001b[0m\u001b[1;36m2000\u001b[0m\u001b[1;33m,\u001b[0m \u001b[0mstep\u001b[0m\u001b[1;33m=\u001b[0m\u001b[1;36m100\u001b[0m\u001b[1;33m,\u001b[0m \u001b[0mtries\u001b[0m\u001b[1;33m=\u001b[0m\u001b[1;36m10\u001b[0m\u001b[1;33m)\u001b[0m\u001b[1;33m\u001b[0m\u001b[1;33m\u001b[0m\u001b[0m\n\u001b[0m\u001b[0;32m     11\u001b[0m \u001b[1;33m\u001b[0m\u001b[0m\n\u001b[0;32m     12\u001b[0m \u001b[0mpr\u001b[0m\u001b[1;33m.\u001b[0m\u001b[0mdisable\u001b[0m\u001b[1;33m(\u001b[0m\u001b[1;33m)\u001b[0m\u001b[1;33m\u001b[0m\u001b[1;33m\u001b[0m\u001b[0m\n",
      "\u001b[1;32m~\\AppData\\Local\\Temp\\ipykernel_20348\\1447650352.py\u001b[0m in \u001b[0;36mtest_for_lengths\u001b[1;34m(model, traindf, files, mini, maxi, step, tries)\u001b[0m\n\u001b[0;32m     38\u001b[0m             \u001b[0mdf\u001b[0m \u001b[1;33m=\u001b[0m \u001b[0mfrequency\u001b[0m\u001b[1;33m(\u001b[0m\u001b[0mdf\u001b[0m\u001b[1;33m)\u001b[0m\u001b[1;33m\u001b[0m\u001b[1;33m\u001b[0m\u001b[0m\n\u001b[0;32m     39\u001b[0m             \u001b[0mdf\u001b[0m\u001b[1;33m[\u001b[0m\u001b[1;34m'labels'\u001b[0m\u001b[1;33m]\u001b[0m \u001b[1;33m=\u001b[0m \u001b[0mlabels\u001b[0m\u001b[1;33m\u001b[0m\u001b[1;33m\u001b[0m\u001b[0m\n\u001b[1;32m---> 40\u001b[1;33m             \u001b[0mdf\u001b[0m \u001b[1;33m=\u001b[0m \u001b[0mdf\u001b[0m\u001b[1;33m.\u001b[0m\u001b[0mmerge\u001b[0m\u001b[1;33m(\u001b[0m\u001b[0mtraindf\u001b[0m\u001b[1;33m,\u001b[0m \u001b[0mhow\u001b[0m\u001b[1;33m=\u001b[0m\u001b[1;34m'left'\u001b[0m\u001b[1;33m)\u001b[0m\u001b[1;33m\u001b[0m\u001b[1;33m\u001b[0m\u001b[0m\n\u001b[0m\u001b[0;32m     41\u001b[0m             \u001b[0mdf\u001b[0m \u001b[1;33m=\u001b[0m \u001b[0mdf\u001b[0m\u001b[1;33m[\u001b[0m\u001b[0mtraindf\u001b[0m\u001b[1;33m.\u001b[0m\u001b[0mcolumns\u001b[0m\u001b[1;33m]\u001b[0m\u001b[1;33m\u001b[0m\u001b[1;33m\u001b[0m\u001b[0m\n\u001b[0;32m     42\u001b[0m             \u001b[0mdf\u001b[0m \u001b[1;33m=\u001b[0m \u001b[0mdf\u001b[0m\u001b[1;33m.\u001b[0m\u001b[0mfillna\u001b[0m\u001b[1;33m(\u001b[0m\u001b[1;36m0\u001b[0m\u001b[1;33m)\u001b[0m\u001b[1;33m\u001b[0m\u001b[1;33m\u001b[0m\u001b[0m\n",
      "\u001b[1;32m~\\Programy\\lib\\site-packages\\pandas\\core\\frame.py\u001b[0m in \u001b[0;36mmerge\u001b[1;34m(self, right, how, on, left_on, right_on, left_index, right_index, sort, suffixes, copy, indicator, validate)\u001b[0m\n\u001b[0;32m   9352\u001b[0m         \u001b[1;32mfrom\u001b[0m \u001b[0mpandas\u001b[0m\u001b[1;33m.\u001b[0m\u001b[0mcore\u001b[0m\u001b[1;33m.\u001b[0m\u001b[0mreshape\u001b[0m\u001b[1;33m.\u001b[0m\u001b[0mmerge\u001b[0m \u001b[1;32mimport\u001b[0m \u001b[0mmerge\u001b[0m\u001b[1;33m\u001b[0m\u001b[1;33m\u001b[0m\u001b[0m\n\u001b[0;32m   9353\u001b[0m \u001b[1;33m\u001b[0m\u001b[0m\n\u001b[1;32m-> 9354\u001b[1;33m         return merge(\n\u001b[0m\u001b[0;32m   9355\u001b[0m             \u001b[0mself\u001b[0m\u001b[1;33m,\u001b[0m\u001b[1;33m\u001b[0m\u001b[1;33m\u001b[0m\u001b[0m\n\u001b[0;32m   9356\u001b[0m             \u001b[0mright\u001b[0m\u001b[1;33m,\u001b[0m\u001b[1;33m\u001b[0m\u001b[1;33m\u001b[0m\u001b[0m\n",
      "\u001b[1;32m~\\Programy\\lib\\site-packages\\pandas\\core\\reshape\\merge.py\u001b[0m in \u001b[0;36mmerge\u001b[1;34m(left, right, how, on, left_on, right_on, left_index, right_index, sort, suffixes, copy, indicator, validate)\u001b[0m\n\u001b[0;32m    120\u001b[0m         \u001b[0mvalidate\u001b[0m\u001b[1;33m=\u001b[0m\u001b[0mvalidate\u001b[0m\u001b[1;33m,\u001b[0m\u001b[1;33m\u001b[0m\u001b[1;33m\u001b[0m\u001b[0m\n\u001b[0;32m    121\u001b[0m     )\n\u001b[1;32m--> 122\u001b[1;33m     \u001b[1;32mreturn\u001b[0m \u001b[0mop\u001b[0m\u001b[1;33m.\u001b[0m\u001b[0mget_result\u001b[0m\u001b[1;33m(\u001b[0m\u001b[1;33m)\u001b[0m\u001b[1;33m\u001b[0m\u001b[1;33m\u001b[0m\u001b[0m\n\u001b[0m\u001b[0;32m    123\u001b[0m \u001b[1;33m\u001b[0m\u001b[0m\n\u001b[0;32m    124\u001b[0m \u001b[1;33m\u001b[0m\u001b[0m\n",
      "\u001b[1;32m~\\Programy\\lib\\site-packages\\pandas\\core\\reshape\\merge.py\u001b[0m in \u001b[0;36mget_result\u001b[1;34m(self)\u001b[0m\n\u001b[0;32m    714\u001b[0m             \u001b[0mself\u001b[0m\u001b[1;33m.\u001b[0m\u001b[0mleft\u001b[0m\u001b[1;33m,\u001b[0m \u001b[0mself\u001b[0m\u001b[1;33m.\u001b[0m\u001b[0mright\u001b[0m \u001b[1;33m=\u001b[0m \u001b[0mself\u001b[0m\u001b[1;33m.\u001b[0m\u001b[0m_indicator_pre_merge\u001b[0m\u001b[1;33m(\u001b[0m\u001b[0mself\u001b[0m\u001b[1;33m.\u001b[0m\u001b[0mleft\u001b[0m\u001b[1;33m,\u001b[0m \u001b[0mself\u001b[0m\u001b[1;33m.\u001b[0m\u001b[0mright\u001b[0m\u001b[1;33m)\u001b[0m\u001b[1;33m\u001b[0m\u001b[1;33m\u001b[0m\u001b[0m\n\u001b[0;32m    715\u001b[0m \u001b[1;33m\u001b[0m\u001b[0m\n\u001b[1;32m--> 716\u001b[1;33m         \u001b[0mjoin_index\u001b[0m\u001b[1;33m,\u001b[0m \u001b[0mleft_indexer\u001b[0m\u001b[1;33m,\u001b[0m \u001b[0mright_indexer\u001b[0m \u001b[1;33m=\u001b[0m \u001b[0mself\u001b[0m\u001b[1;33m.\u001b[0m\u001b[0m_get_join_info\u001b[0m\u001b[1;33m(\u001b[0m\u001b[1;33m)\u001b[0m\u001b[1;33m\u001b[0m\u001b[1;33m\u001b[0m\u001b[0m\n\u001b[0m\u001b[0;32m    717\u001b[0m \u001b[1;33m\u001b[0m\u001b[0m\n\u001b[0;32m    718\u001b[0m         llabels, rlabels = _items_overlap_with_suffix(\n",
      "\u001b[1;32m~\\Programy\\lib\\site-packages\\pandas\\core\\reshape\\merge.py\u001b[0m in \u001b[0;36m_get_join_info\u001b[1;34m(self)\u001b[0m\n\u001b[0;32m    965\u001b[0m             )\n\u001b[0;32m    966\u001b[0m         \u001b[1;32melse\u001b[0m\u001b[1;33m:\u001b[0m\u001b[1;33m\u001b[0m\u001b[1;33m\u001b[0m\u001b[0m\n\u001b[1;32m--> 967\u001b[1;33m             \u001b[1;33m(\u001b[0m\u001b[0mleft_indexer\u001b[0m\u001b[1;33m,\u001b[0m \u001b[0mright_indexer\u001b[0m\u001b[1;33m)\u001b[0m \u001b[1;33m=\u001b[0m \u001b[0mself\u001b[0m\u001b[1;33m.\u001b[0m\u001b[0m_get_join_indexers\u001b[0m\u001b[1;33m(\u001b[0m\u001b[1;33m)\u001b[0m\u001b[1;33m\u001b[0m\u001b[1;33m\u001b[0m\u001b[0m\n\u001b[0m\u001b[0;32m    968\u001b[0m \u001b[1;33m\u001b[0m\u001b[0m\n\u001b[0;32m    969\u001b[0m             \u001b[1;32mif\u001b[0m \u001b[0mself\u001b[0m\u001b[1;33m.\u001b[0m\u001b[0mright_index\u001b[0m\u001b[1;33m:\u001b[0m\u001b[1;33m\u001b[0m\u001b[1;33m\u001b[0m\u001b[0m\n",
      "\u001b[1;32m~\\Programy\\lib\\site-packages\\pandas\\core\\reshape\\merge.py\u001b[0m in \u001b[0;36m_get_join_indexers\u001b[1;34m(self)\u001b[0m\n\u001b[0;32m    939\u001b[0m     \u001b[1;32mdef\u001b[0m \u001b[0m_get_join_indexers\u001b[0m\u001b[1;33m(\u001b[0m\u001b[0mself\u001b[0m\u001b[1;33m)\u001b[0m \u001b[1;33m->\u001b[0m \u001b[0mtuple\u001b[0m\u001b[1;33m[\u001b[0m\u001b[0mnpt\u001b[0m\u001b[1;33m.\u001b[0m\u001b[0mNDArray\u001b[0m\u001b[1;33m[\u001b[0m\u001b[0mnp\u001b[0m\u001b[1;33m.\u001b[0m\u001b[0mintp\u001b[0m\u001b[1;33m]\u001b[0m\u001b[1;33m,\u001b[0m \u001b[0mnpt\u001b[0m\u001b[1;33m.\u001b[0m\u001b[0mNDArray\u001b[0m\u001b[1;33m[\u001b[0m\u001b[0mnp\u001b[0m\u001b[1;33m.\u001b[0m\u001b[0mintp\u001b[0m\u001b[1;33m]\u001b[0m\u001b[1;33m]\u001b[0m\u001b[1;33m:\u001b[0m\u001b[1;33m\u001b[0m\u001b[1;33m\u001b[0m\u001b[0m\n\u001b[0;32m    940\u001b[0m         \u001b[1;34m\"\"\"return the join indexers\"\"\"\u001b[0m\u001b[1;33m\u001b[0m\u001b[1;33m\u001b[0m\u001b[0m\n\u001b[1;32m--> 941\u001b[1;33m         return get_join_indexers(\n\u001b[0m\u001b[0;32m    942\u001b[0m             \u001b[0mself\u001b[0m\u001b[1;33m.\u001b[0m\u001b[0mleft_join_keys\u001b[0m\u001b[1;33m,\u001b[0m \u001b[0mself\u001b[0m\u001b[1;33m.\u001b[0m\u001b[0mright_join_keys\u001b[0m\u001b[1;33m,\u001b[0m \u001b[0msort\u001b[0m\u001b[1;33m=\u001b[0m\u001b[0mself\u001b[0m\u001b[1;33m.\u001b[0m\u001b[0msort\u001b[0m\u001b[1;33m,\u001b[0m \u001b[0mhow\u001b[0m\u001b[1;33m=\u001b[0m\u001b[0mself\u001b[0m\u001b[1;33m.\u001b[0m\u001b[0mhow\u001b[0m\u001b[1;33m\u001b[0m\u001b[1;33m\u001b[0m\u001b[0m\n\u001b[0;32m    943\u001b[0m         )\n",
      "\u001b[1;32m~\\Programy\\lib\\site-packages\\pandas\\core\\reshape\\merge.py\u001b[0m in \u001b[0;36mget_join_indexers\u001b[1;34m(left_keys, right_keys, sort, how, **kwargs)\u001b[0m\n\u001b[0;32m   1490\u001b[0m \u001b[1;33m\u001b[0m\u001b[0m\n\u001b[0;32m   1491\u001b[0m     \u001b[1;31m# get flat i8 keys from label lists\u001b[0m\u001b[1;33m\u001b[0m\u001b[1;33m\u001b[0m\u001b[0m\n\u001b[1;32m-> 1492\u001b[1;33m     \u001b[0mlkey\u001b[0m\u001b[1;33m,\u001b[0m \u001b[0mrkey\u001b[0m \u001b[1;33m=\u001b[0m \u001b[0m_get_join_keys\u001b[0m\u001b[1;33m(\u001b[0m\u001b[0mllab\u001b[0m\u001b[1;33m,\u001b[0m \u001b[0mrlab\u001b[0m\u001b[1;33m,\u001b[0m \u001b[0mshape\u001b[0m\u001b[1;33m,\u001b[0m \u001b[0msort\u001b[0m\u001b[1;33m)\u001b[0m\u001b[1;33m\u001b[0m\u001b[1;33m\u001b[0m\u001b[0m\n\u001b[0m\u001b[0;32m   1493\u001b[0m \u001b[1;33m\u001b[0m\u001b[0m\n\u001b[0;32m   1494\u001b[0m     \u001b[1;31m# factorize keys to a dense i8 space\u001b[0m\u001b[1;33m\u001b[0m\u001b[1;33m\u001b[0m\u001b[0m\n",
      "\u001b[1;32m~\\Programy\\lib\\site-packages\\pandas\\core\\reshape\\merge.py\u001b[0m in \u001b[0;36m_get_join_keys\u001b[1;34m(llab, rlab, shape, sort)\u001b[0m\n\u001b[0;32m   2261\u001b[0m     \u001b[0mshape\u001b[0m \u001b[1;33m=\u001b[0m \u001b[1;33m[\u001b[0m\u001b[0mcount\u001b[0m\u001b[1;33m]\u001b[0m \u001b[1;33m+\u001b[0m \u001b[0mshape\u001b[0m\u001b[1;33m[\u001b[0m\u001b[0mnlev\u001b[0m\u001b[1;33m:\u001b[0m\u001b[1;33m]\u001b[0m\u001b[1;33m\u001b[0m\u001b[1;33m\u001b[0m\u001b[0m\n\u001b[0;32m   2262\u001b[0m \u001b[1;33m\u001b[0m\u001b[0m\n\u001b[1;32m-> 2263\u001b[1;33m     \u001b[1;32mreturn\u001b[0m \u001b[0m_get_join_keys\u001b[0m\u001b[1;33m(\u001b[0m\u001b[0mllab\u001b[0m\u001b[1;33m,\u001b[0m \u001b[0mrlab\u001b[0m\u001b[1;33m,\u001b[0m \u001b[0mshape\u001b[0m\u001b[1;33m,\u001b[0m \u001b[0msort\u001b[0m\u001b[1;33m)\u001b[0m\u001b[1;33m\u001b[0m\u001b[1;33m\u001b[0m\u001b[0m\n\u001b[0m\u001b[0;32m   2264\u001b[0m \u001b[1;33m\u001b[0m\u001b[0m\n\u001b[0;32m   2265\u001b[0m \u001b[1;33m\u001b[0m\u001b[0m\n",
      "\u001b[1;32m~\\Programy\\lib\\site-packages\\pandas\\core\\reshape\\merge.py\u001b[0m in \u001b[0;36m_get_join_keys\u001b[1;34m(llab, rlab, shape, sort)\u001b[0m\n\u001b[0;32m   2261\u001b[0m     \u001b[0mshape\u001b[0m \u001b[1;33m=\u001b[0m \u001b[1;33m[\u001b[0m\u001b[0mcount\u001b[0m\u001b[1;33m]\u001b[0m \u001b[1;33m+\u001b[0m \u001b[0mshape\u001b[0m\u001b[1;33m[\u001b[0m\u001b[0mnlev\u001b[0m\u001b[1;33m:\u001b[0m\u001b[1;33m]\u001b[0m\u001b[1;33m\u001b[0m\u001b[1;33m\u001b[0m\u001b[0m\n\u001b[0;32m   2262\u001b[0m \u001b[1;33m\u001b[0m\u001b[0m\n\u001b[1;32m-> 2263\u001b[1;33m     \u001b[1;32mreturn\u001b[0m \u001b[0m_get_join_keys\u001b[0m\u001b[1;33m(\u001b[0m\u001b[0mllab\u001b[0m\u001b[1;33m,\u001b[0m \u001b[0mrlab\u001b[0m\u001b[1;33m,\u001b[0m \u001b[0mshape\u001b[0m\u001b[1;33m,\u001b[0m \u001b[0msort\u001b[0m\u001b[1;33m)\u001b[0m\u001b[1;33m\u001b[0m\u001b[1;33m\u001b[0m\u001b[0m\n\u001b[0m\u001b[0;32m   2264\u001b[0m \u001b[1;33m\u001b[0m\u001b[0m\n\u001b[0;32m   2265\u001b[0m \u001b[1;33m\u001b[0m\u001b[0m\n",
      "\u001b[1;32m~\\Programy\\lib\\site-packages\\pandas\\core\\reshape\\merge.py\u001b[0m in \u001b[0;36m_get_join_keys\u001b[1;34m(llab, rlab, shape, sort)\u001b[0m\n\u001b[0;32m   2234\u001b[0m \u001b[1;33m\u001b[0m\u001b[0m\n\u001b[0;32m   2235\u001b[0m     \u001b[1;31m# how many levels can be done without overflow\u001b[0m\u001b[1;33m\u001b[0m\u001b[1;33m\u001b[0m\u001b[0m\n\u001b[1;32m-> 2236\u001b[1;33m     nlev = next(\n\u001b[0m\u001b[0;32m   2237\u001b[0m         \u001b[0mlev\u001b[0m\u001b[1;33m\u001b[0m\u001b[1;33m\u001b[0m\u001b[0m\n\u001b[0;32m   2238\u001b[0m         \u001b[1;32mfor\u001b[0m \u001b[0mlev\u001b[0m \u001b[1;32min\u001b[0m \u001b[0mrange\u001b[0m\u001b[1;33m(\u001b[0m\u001b[0mlen\u001b[0m\u001b[1;33m(\u001b[0m\u001b[0mshape\u001b[0m\u001b[1;33m)\u001b[0m\u001b[1;33m,\u001b[0m \u001b[1;36m0\u001b[0m\u001b[1;33m,\u001b[0m \u001b[1;33m-\u001b[0m\u001b[1;36m1\u001b[0m\u001b[1;33m)\u001b[0m\u001b[1;33m\u001b[0m\u001b[1;33m\u001b[0m\u001b[0m\n",
      "\u001b[1;32m~\\Programy\\lib\\site-packages\\pandas\\core\\reshape\\merge.py\u001b[0m in \u001b[0;36m<genexpr>\u001b[1;34m(.0)\u001b[0m\n\u001b[0;32m   2237\u001b[0m         \u001b[0mlev\u001b[0m\u001b[1;33m\u001b[0m\u001b[1;33m\u001b[0m\u001b[0m\n\u001b[0;32m   2238\u001b[0m         \u001b[1;32mfor\u001b[0m \u001b[0mlev\u001b[0m \u001b[1;32min\u001b[0m \u001b[0mrange\u001b[0m\u001b[1;33m(\u001b[0m\u001b[0mlen\u001b[0m\u001b[1;33m(\u001b[0m\u001b[0mshape\u001b[0m\u001b[1;33m)\u001b[0m\u001b[1;33m,\u001b[0m \u001b[1;36m0\u001b[0m\u001b[1;33m,\u001b[0m \u001b[1;33m-\u001b[0m\u001b[1;36m1\u001b[0m\u001b[1;33m)\u001b[0m\u001b[1;33m\u001b[0m\u001b[1;33m\u001b[0m\u001b[0m\n\u001b[1;32m-> 2239\u001b[1;33m         \u001b[1;32mif\u001b[0m \u001b[1;32mnot\u001b[0m \u001b[0mis_int64_overflow_possible\u001b[0m\u001b[1;33m(\u001b[0m\u001b[0mshape\u001b[0m\u001b[1;33m[\u001b[0m\u001b[1;33m:\u001b[0m\u001b[0mlev\u001b[0m\u001b[1;33m]\u001b[0m\u001b[1;33m)\u001b[0m\u001b[1;33m\u001b[0m\u001b[1;33m\u001b[0m\u001b[0m\n\u001b[0m\u001b[0;32m   2240\u001b[0m     )\n\u001b[0;32m   2241\u001b[0m \u001b[1;33m\u001b[0m\u001b[0m\n",
      "\u001b[1;32m~\\Programy\\lib\\site-packages\\pandas\\core\\sorting.py\u001b[0m in \u001b[0;36mis_int64_overflow_possible\u001b[1;34m(shape)\u001b[0m\n\u001b[0;32m    219\u001b[0m     \u001b[0mthe_prod\u001b[0m \u001b[1;33m=\u001b[0m \u001b[1;36m1\u001b[0m\u001b[1;33m\u001b[0m\u001b[1;33m\u001b[0m\u001b[0m\n\u001b[0;32m    220\u001b[0m     \u001b[1;32mfor\u001b[0m \u001b[0mx\u001b[0m \u001b[1;32min\u001b[0m \u001b[0mshape\u001b[0m\u001b[1;33m:\u001b[0m\u001b[1;33m\u001b[0m\u001b[1;33m\u001b[0m\u001b[0m\n\u001b[1;32m--> 221\u001b[1;33m         \u001b[0mthe_prod\u001b[0m \u001b[1;33m*=\u001b[0m \u001b[0mint\u001b[0m\u001b[1;33m(\u001b[0m\u001b[0mx\u001b[0m\u001b[1;33m)\u001b[0m\u001b[1;33m\u001b[0m\u001b[1;33m\u001b[0m\u001b[0m\n\u001b[0m\u001b[0;32m    222\u001b[0m \u001b[1;33m\u001b[0m\u001b[0m\n\u001b[0;32m    223\u001b[0m     \u001b[1;32mreturn\u001b[0m \u001b[0mthe_prod\u001b[0m \u001b[1;33m>=\u001b[0m \u001b[0mlib\u001b[0m\u001b[1;33m.\u001b[0m\u001b[0mi8max\u001b[0m\u001b[1;33m\u001b[0m\u001b[1;33m\u001b[0m\u001b[0m\n",
      "\u001b[1;31mKeyboardInterrupt\u001b[0m: "
     ]
    }
   ],
   "source": [
    "r, s = test_for_lengths(tree.DecisionTreeClassifier(max_depth=5), fdata, files.loc[[0, 11, 23],:], mini=100, maxi=2000, step=100, tries=10)\n",
    "print('rozmiary: ', s)\n",
    "print(r)"
   ]
  },
  {
   "cell_type": "code",
   "execution_count": null,
   "id": "16bdc08c",
   "metadata": {},
   "outputs": [],
   "source": [
    "so = io.StringIO()\n",
    "sortby = SortKey.CUM\n",
    "ps = pstats.Stats(pr, stream=so).sort_stats(sortby)\n",
    "ps.print_stats()\n",
    "print(so.getvalue())"
   ]
  },
  {
   "cell_type": "code",
   "execution_count": 40,
   "id": "f7e090df",
   "metadata": {
    "scrolled": false
   },
   "outputs": [
    {
     "data": {
      "text/plain": [
       "Text(0.5, 0, 'number of words')"
      ]
     },
     "execution_count": 40,
     "metadata": {},
     "output_type": "execute_result"
    },
    {
     "data": {
      "image/png": "[encoded data removed]",
      "text/plain": [
       "<Figure size 1000x1000 with 1 Axes>"
      ]
     },
     "metadata": {},
     "output_type": "display_data"
    }
   ],
   "source": [
    "plt.figure(figsize=(10, 10), dpi=100)\n",
    "plt.plot(s, r, marker='o')\n",
    "plt.title('Skuteczność w zależności od wielkości próbki')\n",
    "plt.ylim([0.3, 0.7])\n",
    "plt.ylabel('mean accuracy')\n",
    "plt.xlabel('number of words')"
   ]
  }
 ],
 "metadata": {
  "kernelspec": {
   "display_name": "Python 3 (ipykernel)",
   "language": "python",
   "name": "python3"
  },
  "language_info": {
   "codemirror_mode": {
    "name": "ipython",
    "version": 3
   },
   "file_extension": ".py",
   "mimetype": "text/x-python",
   "name": "python",
   "nbconvert_exporter": "python",
   "pygments_lexer": "ipython3",
   "version": "3.9.13"
  },
  "vscode": {
   "interpreter": {
    "hash": "b8dd5b33a86443fe513679c02cd28a92e41225ac53964ff0e7afc55cbcc9ed7e"
   }
  }
 },
 "nbformat": 4,
 "nbformat_minor": 5
}
