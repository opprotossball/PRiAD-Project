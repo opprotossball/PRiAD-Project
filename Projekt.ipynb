{
 "cells": [
  {
   "cell_type": "markdown",
   "id": "3343f13f",
   "metadata": {},
   "source": [
    "# Projekt PRIAD"
   ]
  },
  {
   "cell_type": "markdown",
   "id": "4b553490",
   "metadata": {},
   "source": [
    "## Rozpoznawanie autora utworu literackiego na podstawie treści utworu z wykorzystaniem worka słów."
   ]
  },
  {
   "cell_type": "markdown",
   "id": "1536703a",
   "metadata": {},
   "source": [
    "### Stanisław Maliński, Jan Stachurski"
   ]
  },
  {
   "cell_type": "markdown",
   "id": "3ffebd88",
   "metadata": {},
   "source": [
    "___"
   ]
  },
  {
   "cell_type": "markdown",
   "id": "c325b8c9",
   "metadata": {},
   "source": [
    "Importy"
   ]
  },
  {
   "cell_type": "code",
   "execution_count": 1,
   "id": "e83dca69",
   "metadata": {},
   "outputs": [],
   "source": [
    "import os\n",
    "import pandas as pd\n",
    "import numpy as np\n",
    "from math import log"
   ]
  },
  {
   "cell_type": "code",
   "execution_count": 2,
   "id": "1f5e80a9",
   "metadata": {},
   "outputs": [],
   "source": [
    "import warnings\n",
    "warnings.filterwarnings(\"ignore\")"
   ]
  },
  {
   "cell_type": "markdown",
   "id": "fe4ca9ad",
   "metadata": {},
   "source": [
    "Wczytywanie danych"
   ]
  },
  {
   "cell_type": "code",
   "execution_count": 3,
   "id": "760dae10",
   "metadata": {},
   "outputs": [],
   "source": [
    "data_path = \"./data/\"\n",
    "file_list = os.listdir(data_path)\n",
    "func = lambda  a : a.replace(\".txt\", \"\").split(\"-\")\n",
    "count_size = lambda a : os.stat(a).st_size\n",
    "data = [[func(title)[0], func(title)[1], data_path + title, count_size(data_path + title)] for title in file_list]\n",
    "files = pd.DataFrame(data, columns=['Author', 'Name of The work', 'FilePath', 'FileSize'])"
   ]
  },
  {
   "cell_type": "markdown",
   "id": "51f26f45",
   "metadata": {},
   "source": [
    "Przedstawiam zestaw uczący. Mamy tutaj pozycję kilku Polskich autorów."
   ]
  },
  {
   "cell_type": "code",
   "execution_count": 114,
   "id": "47b560c6",
   "metadata": {
    "scrolled": true
   },
   "outputs": [
    {
     "name": "stdout",
     "output_type": "stream",
     "text": [
      "                   Book Count\n",
      "Author                       \n",
      "AdamMickiewicz              7\n",
      "HenrykSienkiewicz          11\n",
      "Juliusz Słowacki            8\n"
     ]
    }
   ],
   "source": [
    "tmp = files.drop(columns=['Name of The work', 'FilePath', 'FileSize'])\n",
    "tmp = pd.concat([tmp, pd.Series(np.where(tmp['Author']!=None,1,1))], axis=1).groupby('Author').sum()\n",
    "tmp.columns = ['Book Count']\n",
    "print(tmp.groupby('Author').sum())"
   ]
  },
  {
   "cell_type": "markdown",
   "id": "57f33f82",
   "metadata": {},
   "source": [
    "Wczytanie stop-słów:"
   ]
  },
  {
   "cell_type": "code",
   "execution_count": 5,
   "id": "bd973fe1",
   "metadata": {},
   "outputs": [],
   "source": [
    "delimeters = [\"\\\\n\", \"'\"]\n",
    "stop_word = []\n",
    "with open(\"./stopyPL.txt\", encoding=\"utf8\") as f:\n",
    "    for line in f:\n",
    "        word = repr(line)\n",
    "        for c in delimeters:\n",
    "            word = word.replace(c, \"\")\n",
    "        stop_word.append(word)"
   ]
  },
  {
   "cell_type": "markdown",
   "id": "093f8afd",
   "metadata": {},
   "source": [
    "Projekt ten używa worka słów, który to przechowuje informacje na temat częstości występowania słów w danym dokumencie. Definiujemy tu dwie funckje jedna do standaryzacji słów tzn. usunięcia ewentualnych znaków graficznych takich jak kropka czy przecinek oraz ustawienie wielkości liter na małe aby słowa \"Który\" oraz \"który\" były zliczane jako to same słowo.\n",
    "Druga funkcja służy do budowania worka słów. Zlicza najpierw pojedyńcze przypadki wystąpień, a następnie zlicza częstość wystąpień danego słowa."
   ]
  },
  {
   "cell_type": "code",
   "execution_count": 6,
   "id": "016f7a24",
   "metadata": {},
   "outputs": [],
   "source": [
    "special_char = (\".\", \",\", \"-\", \"?\", \"(\", \")\", \"!\", \"\\\\\", \"\\\"\", \":\", \";\", \"*\", \"…\",\"0\",\"1\",\"2\",\"3\",\"4\",\"5\",\"6\",\"7\",\"8\",\"9\")\n",
    "def normalize_text(word):\n",
    "    for char in special_char:\n",
    "        word = word.replace(char, \"\")\n",
    "    word = word.lower()\n",
    "    return word\n",
    "\n",
    "def get_text(FileName):\n",
    "    out = \"\"\n",
    "    n = 0\n",
    "    with open(FileName, \"r\", encoding=\"utf8\") as f:\n",
    "        for line in f:\n",
    "            out += line\n",
    "            n += 1\n",
    "        f.close()\n",
    "    return (n, out)\n",
    "        \n",
    "# 0 - generete bag with all words, 1 - bag without stopwords, 2 - bag with only stopwords\n",
    "def generate_word_bag(text, mode=0):\n",
    "    word_bag = {}\n",
    "    words_in_bag = 0\n",
    "    f = text.split(\"\\n\")\n",
    "    set_w = set()\n",
    "    for line in f:\n",
    "        words = line.split()\n",
    "        for word in words:\n",
    "            if word != '':\n",
    "                if (mode==0) or (mode==1 and not word in stop_word) or (mode==2 and word in stop_word):\n",
    "                    words_in_bag += 1\n",
    "                    if word in set_w:\n",
    "                        word_bag[word]['Count'] += 1\n",
    "                    else:\n",
    "                        word_bag[word] = {'Count':1, 'Frequent':1, 'Is stop word': word in stop_word}\n",
    "                        set_w.add(word)\n",
    "\n",
    "    for word in word_bag.keys():\n",
    "        word_bag[word]['Frequent'] = word_bag[word]['Count'] / words_in_bag\n",
    "    return (word_bag, set_w)                                                        "
   ]
  },
  {
   "cell_type": "code",
   "execution_count": 7,
   "id": "acc39f4e",
   "metadata": {
    "scrolled": true
   },
   "outputs": [
    {
     "name": "stdout",
     "output_type": "stream",
     "text": [
      "W pliku: \"./data/AdamMickiewicz-DziadyII.txt\" Słowo: \"Dziady,\" występowało z częstością: 2.89e-04\n"
     ]
    }
   ],
   "source": [
    "file = files['FilePath'][0]\n",
    "dictionary = generate_word_bag(get_text(file)[1])[0]\n",
    "slowa = dictionary.keys()\n",
    "slowo = list(slowa)[2]\n",
    "\n",
    "print(\"W pliku: \\\"{}\\\" Słowo: \\\"{}\\\" występowało z częstością: {:.2e}\".format(file, slowo, dictionary[slowo]['Frequent']))"
   ]
  },
  {
   "cell_type": "code",
   "execution_count": 8,
   "id": "d2fb1c36",
   "metadata": {},
   "outputs": [],
   "source": [
    "def head(dictionary, start=0, end=None, step=1, fname=None):\n",
    "    words = list(dictionary.keys())\n",
    "    if end is None:\n",
    "        end = min(5, len(words))\n",
    "    if fname is not None:\n",
    "        print(\"W pliku\\\"{}\\\"\".format(fname), \":\")\n",
    "    for word in words[start:end:step]:\n",
    "        print(\"Słowo: \\\"{}\\\" występowało z częstością: {:.2e}\".format(word,dictionary[word]['Frequent']), sep=\"\")"
   ]
  },
  {
   "cell_type": "code",
   "execution_count": 9,
   "id": "9bb7eadc",
   "metadata": {
    "scrolled": true
   },
   "outputs": [
    {
     "name": "stdout",
     "output_type": "stream",
     "text": [
      "W pliku\"./data/AdamMickiewicz-DziadyIII.txt\" :\n",
      "Słowo: \"za\" występowało z częstością: 1.64e-02\n",
      "Słowo: \"ku\" występowało z częstością: 3.09e-03\n",
      "Słowo: \"z\" występowało z częstością: 4.84e-02\n"
     ]
    }
   ],
   "source": [
    "file = files[\"FilePath\"][1]\n",
    "dictionary = generate_word_bag(get_text(file)[1], 2)[0]\n",
    "head(dictionary, end=3, fname=file)"
   ]
  },
  {
   "cell_type": "code",
   "execution_count": 10,
   "id": "67a3c21a",
   "metadata": {},
   "outputs": [
    {
     "name": "stdout",
     "output_type": "stream",
     "text": [
      "w -> 385\n",
      "i -> 381\n",
      "nie -> 287\n",
      "się -> 268\n",
      "z -> 251\n",
      "na -> 242\n",
      "do -> 194\n",
      "jak -> 166\n",
      "to -> 118\n",
      "że -> 107\n",
      "za -> 85\n",
      "co -> 85\n",
      "on -> 78\n",
      "o -> 77\n",
      "ja -> 71\n",
      "po -> 57\n",
      "go -> 55\n",
      "jest -> 54\n",
      "tu -> 54\n",
      "mnie -> 50\n",
      "tak -> 46\n",
      "jego -> 45\n",
      "a -> 43\n",
      "już -> 41\n",
      "ty -> 38\n",
      "mu -> 38\n",
      "nas -> 38\n",
      "mi -> 37\n",
      "ten -> 34\n",
      "ma -> 34\n",
      "czy -> 34\n",
      "nad -> 34\n",
      "od -> 33\n",
      "tam -> 33\n",
      "tylko -> 32\n",
      "dla -> 29\n",
      "sam -> 29\n",
      "kto -> 27\n",
      "te -> 27\n",
      "tym -> 27\n",
      "mój -> 27\n",
      "był -> 26\n",
      "ich -> 24\n",
      "jej -> 24\n",
      "będzie -> 24\n",
      "ze -> 23\n",
      "pod -> 22\n",
      "ale -> 22\n",
      "u -> 22\n",
      "cię -> 22\n",
      "nim -> 21\n",
      "gdy -> 21\n",
      "mam -> 21\n",
      "was -> 20\n",
      "przed -> 19\n",
      "bo -> 19\n",
      "są -> 19\n",
      "gdzie -> 19\n",
      "bez -> 18\n",
      "wszystkie -> 18\n",
      "przy -> 18\n",
      "lecz -> 18\n",
      "ciebie -> 17\n",
      "tych -> 17\n",
      "jeszcze -> 17\n",
      "ku -> 16\n",
      "było -> 16\n",
      "wszystkich -> 16\n",
      "nich -> 16\n",
      "lat -> 16\n",
      "we -> 16\n",
      "być -> 16\n",
      "będę -> 16\n",
      "ją -> 15\n",
      "nam -> 15\n",
      "znowu -> 15\n",
      "tej -> 15\n",
      "tego -> 14\n",
      "aż -> 14\n",
      "jako -> 14\n",
      "wszyscy -> 13\n",
      "dziś -> 12\n",
      "cały -> 12\n",
      "je -> 12\n",
      "by -> 12\n",
      "ktoś -> 12\n",
      "może -> 12\n",
      "przez -> 11\n",
      "coś -> 11\n",
      "teraz -> 11\n",
      "moje -> 11\n",
      "tobie -> 11\n",
      "kiedy -> 11\n",
      "jeśli -> 11\n",
      "ta -> 11\n",
      "ci -> 10\n",
      "jeden -> 10\n",
      "więc -> 10\n",
      "sobie -> 10\n",
      "niech -> 10\n",
      "kilka -> 9\n",
      "nic -> 9\n",
      "nasz -> 9\n",
      "niej -> 9\n",
      "jestem -> 9\n",
      "moja -> 9\n",
      "wszystko -> 9\n",
      "my -> 8\n",
      "jaki -> 8\n",
      "zawsze -> 8\n",
      "nimi -> 8\n",
      "wiele -> 7\n",
      "lub -> 7\n",
      "dobrze -> 7\n",
      "twój -> 7\n",
      "była -> 7\n",
      "które -> 6\n",
      "ani -> 6\n",
      "im -> 6\n",
      "gdyby -> 6\n",
      "skąd -> 6\n",
      "każdy -> 6\n",
      "można -> 6\n",
      "bardzo -> 6\n",
      "wam -> 6\n",
      "takie -> 6\n",
      "mną -> 6\n",
      "oni -> 6\n",
      "między -> 5\n",
      "albo -> 5\n",
      "twym -> 5\n",
      "sobą -> 5\n",
      "tobą -> 5\n",
      "no -> 5\n",
      "też -> 5\n",
      "pan -> 5\n",
      "wszystkim -> 5\n",
      "cała -> 5\n",
      "niego -> 5\n",
      "nią -> 5\n",
      "wielu -> 5\n",
      "innych -> 5\n",
      "aby -> 4\n",
      "byli -> 4\n",
      "będą -> 4\n",
      "musi -> 4\n",
      "taka -> 4\n",
      "dwa -> 4\n",
      "naszego -> 4\n",
      "jeżeli -> 4\n",
      "nigdy -> 4\n",
      "który -> 4\n",
      "sama -> 4\n",
      "nasze -> 4\n",
      "jakie -> 4\n",
      "dwie -> 4\n",
      "naszych -> 3\n",
      "której -> 3\n",
      "którzy -> 3\n",
      "dlaczego -> 3\n",
      "zapewne -> 3\n",
      "owszem -> 3\n",
      "także -> 3\n",
      "jakby -> 3\n",
      "inne -> 3\n",
      "niż -> 3\n",
      "trzeba -> 3\n",
      "moim -> 3\n",
      "dzisiaj -> 3\n",
      "dość -> 3\n",
      "więcej -> 3\n"
     ]
    }
   ],
   "source": [
    "def show_most_frequent(dic, threshold=0):\n",
    "    po_czestosci = dict(sorted(dic.items(), key=lambda x: int(x[1]['Count']), reverse = True))\n",
    "    for index, word in enumerate(po_czestosci.keys()):\n",
    "        if threshold == 0 and index < 10:\n",
    "            print(word + \" -> \" + str(po_czestosci[word]['Count']))\n",
    "        elif threshold == 0:\n",
    "            break\n",
    "        elif po_czestosci[word]['Count'] > threshold:\n",
    "            print(word + \" -> \" + str(po_czestosci[word]['Count']))\n",
    "        else:\n",
    "            break\n",
    "\n",
    "show_most_frequent(dictionary, 2)"
   ]
  },
  {
   "cell_type": "markdown",
   "id": "370ee410",
   "metadata": {},
   "source": [
    "Mamy już mały warsztat narzędzi do analizy utworów. Stworzymy teraz parę funckji, które pozwolą nam zgrabnie manipulować macierzą danych. \n",
    "merge_dics_to_df - łączy worki słów w ramkę danych, którą później wykorzystamy do nauki klasyfikatora.\n",
    "tf_idf - analiza TF_IDF."
   ]
  },
  {
   "cell_type": "code",
   "execution_count": 11,
   "id": "b7dc3536",
   "metadata": {},
   "outputs": [],
   "source": [
    "def merge_dics_to_df(dics_and_sets, labels=None, transform=lambda x:x):\n",
    "    tab = []\n",
    "    word_found = set()\n",
    "    index = []\n",
    "    for dic, _ in dics_and_sets:\n",
    "        words = list(dic.keys())\n",
    "        for word in words:\n",
    "            if not word in word_found:\n",
    "                word_found.add(word)\n",
    "                index.append(word)\n",
    "                rec = []\n",
    "                for dictionary, set_w in dics_and_sets:\n",
    "                    if word in set_w:\n",
    "                        rec.append(transform(dictionary[word]))\n",
    "                        del dictionary[word]\n",
    "                        set_w.remove(word)\n",
    "                    else:\n",
    "                        rec.append(0)\n",
    "                tab.append(rec)\n",
    "    \n",
    "    df = pd.DataFrame(tab, columns=labels, index=index)\n",
    "    \n",
    "    return df.T"
   ]
  },
  {
   "cell_type": "code",
   "execution_count": 73,
   "id": "b97c61bc",
   "metadata": {},
   "outputs": [],
   "source": [
    "def tfidf(data):\n",
    "    df = data.copy()\n",
    "    w_l = False\n",
    "    if 'labels' in df.columns:\n",
    "        labels = df['labels']\n",
    "        df = df.drop(columns='labels')\n",
    "        w_l = True\n",
    "    nwords = df.shape[1]\n",
    "    nbooks = df.shape[0]\n",
    "    tf = np.empty((nbooks, nwords))\n",
    "    sm = df.sum(axis=1)\n",
    "    for i in range(nbooks):\n",
    "        tf[i,:] = np.array(df.iloc[i,: ] / sm[i])\n",
    "    inbooks = np.array((df > 0)*1).sum(axis=0)\n",
    "    idf = [log(nbooks / val, 10) for val in inbooks]\n",
    "    tfidf = pd.DataFrame((tf*np.array([idf,]*nbooks)*100), columns=df.columns)\n",
    "    if w_l:\n",
    "        tfidf['labels'] = labels\n",
    "    tfidf.replace([np.nan, np.inf, -np.inf], 0, inplace=True)\n",
    "    return tfidf"
   ]
  },
  {
   "cell_type": "code",
   "execution_count": 37,
   "id": "522177c1",
   "metadata": {},
   "outputs": [],
   "source": [
    "def frequency(data):\n",
    "    df = data.copy()\n",
    "    w_l = False\n",
    "    if 'labels' in df.columns:\n",
    "        labels = df['labels']\n",
    "        df = df.drop(columns='labels')\n",
    "        w_l = True\n",
    "    nwords = df.shape[1]\n",
    "    nbooks = df.shape[0]\n",
    "    tf = np.empty((nbooks, nwords))\n",
    "    sm = df.sum(axis=1)\n",
    "    for i in range(nbooks):\n",
    "        tf[i,:] = np.array(df.iloc[i,: ] / sm[i])\n",
    "    fdf = pd.DataFrame(tf, columns=df.columns)\n",
    "    if w_l:\n",
    "        df['labels'] = labels\n",
    "    return fdf"
   ]
  },
  {
   "cell_type": "code",
   "execution_count": 38,
   "id": "0187ffbf",
   "metadata": {},
   "outputs": [],
   "source": [
    "def drop_threshold(df, threshold):\n",
    "    to_drop = []\n",
    "    w_l = False\n",
    "    if 'labels' in df.columns:\n",
    "        labels = df['labels']\n",
    "        df = df.drop(columns='labels')\n",
    "        w_l = True\n",
    "    for col in df.columns:\n",
    "        if (df[col] < threshold).all():\n",
    "            to_drop.append(col)\n",
    "    df = df.drop(columns=to_drop)\n",
    "    if w_l:\n",
    "        df['labels'] = labels\n",
    "    return df"
   ]
  },
  {
   "cell_type": "markdown",
   "id": "11331428",
   "metadata": {},
   "source": [
    "Wczytanie i obliczenie słowników dla wszystkich utworów."
   ]
  },
  {
   "cell_type": "code",
   "execution_count": 15,
   "id": "6b755729",
   "metadata": {},
   "outputs": [],
   "source": [
    "def load(files, mode=2):\n",
    "    word_bags = []\n",
    "    index = []\n",
    "    labels = []\n",
    "\n",
    "    for path, name, label in zip(files['FilePath'], files['Name of The work'], files['Author']):\n",
    "        n, cont = get_text(path)\n",
    "        cont = normalize_text(cont)\n",
    "        word_bags.append(generate_word_bag(cont, mode=mode))\n",
    "        index.append(name)\n",
    "        labels.append(label)\n",
    "        \n",
    "    df = merge_dics_to_df(word_bags, index, lambda x:x['Count'])\n",
    "    df['labels'] = labels\n",
    "        \n",
    "    return df       "
   ]
  },
  {
   "cell_type": "markdown",
   "id": "6dc9424c",
   "metadata": {},
   "source": [
    "Połączenie wszystkich dzieł jednego autora w jeden wiersz w tabeli."
   ]
  },
  {
   "cell_type": "code",
   "execution_count": 79,
   "id": "ffcf2ebf",
   "metadata": {},
   "outputs": [],
   "source": [
    "def merge_author(df):\n",
    "    d = pd.concat([df['opis_ucz'], df['dec_ucz']], axis=1)\n",
    "    d.groupby('labels').sum()\n",
    "    df['dec_ucz'] = d.loc[:,'labels']\n",
    "    df['opis_ucz'] = d.drop(columns=['labels'])\n",
    "    return df"
   ]
  },
  {
   "cell_type": "markdown",
   "id": "6c7489b2",
   "metadata": {},
   "source": [
    "Jak widzimy mamy już ramkę danych, w której każdym obiektem jest dzieło a wektorem atrybutów jest częstość wystąpień poszczególnych słów w każdym z dzieł. Dodaliśmy również atrybuty decyzyjny czyli nazwisko autora danego dzieła."
   ]
  },
  {
   "cell_type": "markdown",
   "id": "7feb5e18",
   "metadata": {},
   "source": [
    "___"
   ]
  },
  {
   "cell_type": "markdown",
   "id": "388d57c8",
   "metadata": {},
   "source": [
    "Teraz musimy stworzyć model, który będzie klasyfikował do jakiego autora należy dany utwór."
   ]
  },
  {
   "cell_type": "code",
   "execution_count": 17,
   "id": "697dbeac",
   "metadata": {},
   "outputs": [],
   "source": [
    "from sklearn.model_selection import train_test_split\n",
    "from sklearn.neighbors import NearestNeighbors\n",
    "from sklearn.neighbors import KNeighborsClassifier\n",
    "from sklearn.neighbors import NearestCentroid\n",
    "from sklearn.naive_bayes import GaussianNB\n",
    "from sklearn.linear_model import LinearRegression\n",
    "from sklearn.metrics import confusion_matrix\n",
    "from sklearn import metrics\n",
    "from sklearn import tree\n",
    "\n",
    "import random"
   ]
  },
  {
   "cell_type": "markdown",
   "id": "3c7d22f6",
   "metadata": {},
   "source": [
    "Metoda get_learning_data dzieli naszą macierz danych na dane uczące oraz testowe w pewnej proporcji. Dzięki temu będziemy mogli zweryfikować jak dobry nasz model jest."
   ]
  },
  {
   "cell_type": "code",
   "execution_count": 18,
   "id": "52fd7542",
   "metadata": {},
   "outputs": [],
   "source": [
    " def get_learning_data(df, proporcja):\n",
    "     opis_ucz, opis_test, dec_ucz, dec_test = train_test_split(df.iloc[:,0:-1], df.iloc[:,-1].astype('category').cat.codes, test_size=proporcja)#, random_state=0)\n",
    "     return {\"opis_ucz\":opis_ucz, \"opis_test\":opis_test, \"dec_ucz\":dec_ucz, \"dec_test\":dec_test}"
   ]
  },
  {
   "cell_type": "code",
   "execution_count": 32,
   "id": "3038487f",
   "metadata": {},
   "outputs": [],
   "source": [
    "def weryfikuj(model, data, show=True):\n",
    "    model.fit(data['opis_ucz'], data['dec_ucz'])\n",
    "    \n",
    "    learn_s = model.score(data['opis_ucz'], data['dec_ucz'])\n",
    "    test_s  = model.score(data['opis_test'], data['dec_test'])\n",
    "    \n",
    "    if show:\n",
    "        print(\"\\tWynik dla danych uczących: \", end=\"\")\n",
    "        print(learn_s)\n",
    "        print(\"\\tWynik dla danych testowych: \", end=\"\")\n",
    "        print(test_s)\n",
    "    \n",
    "    return learn_s, test_s"
   ]
  },
  {
   "cell_type": "code",
   "execution_count": 35,
   "id": "6ca0b34d",
   "metadata": {},
   "outputs": [],
   "source": [
    "models = ((\"NS\", KNeighborsClassifier(n_neighbors=1)), \n",
    "          (\"KNS5\", KNeighborsClassifier(n_neighbors=5)),\n",
    "          (\"KNS10\", KNeighborsClassifier(n_neighbors=10)), # dawało mi błąd że mniej sampli niż sąsiadów czy coś (merge_authors)\n",
    "          (\"BK\", GaussianNB()),\n",
    "          (\"DT5\", tree.DecisionTreeClassifier(max_depth=5)),\n",
    "          (\"DT10\", tree.DecisionTreeClassifier(max_depth=10)))\n"
   ]
  },
  {
   "cell_type": "markdown",
   "id": "fd363f33",
   "metadata": {},
   "source": [
    "Przeprowadzimy teraz klasyfikacje na danych testowych w trzech wariantach:\n",
    "* Worek słów składa się wyłącznie z stop słów   \n",
    "* Worek słów składa się ze słów, które nie są stop słowami   \n",
    "* Worek słów będzie składał się ze wszystkich słów   \n",
    "\n",
    "Do wykonania tego zadania posłuży nam metoda:"
   ]
  },
  {
   "cell_type": "code",
   "execution_count": 125,
   "id": "95602800",
   "metadata": {
    "scrolled": false
   },
   "outputs": [],
   "source": [
    "def test_classifiers(df_o, tfidf_arg=False ,NS=False,tries=100):\n",
    "    res = {}\n",
    "    df = df_o.copy()\n",
    "    progress = len(models)*tries\n",
    "    if not tfidf_arg:\n",
    "        df = frequency(df)\n",
    "    for index, name_mod in enumerate(models):\n",
    "        name, mod = name_mod\n",
    "        if NS and name != 'NS': continue\n",
    "        if mod is None:\n",
    "            break\n",
    "        sum_t = 0\n",
    "        sum_l = 0\n",
    "        line = \"Ukończono w {pr:.2f}%\"\n",
    "        for i in range(tries):\n",
    "            data = get_learning_data(df, 0.3)\n",
    "            if tfidf_arg:\n",
    "                data['opis_ucz'] = tfidf(data['opis_ucz'])\n",
    "                data['opis_test'] = tfidf(data['opis_test'])\n",
    "            d_l, d_t= weryfikuj(mod, data, show=False)\n",
    "            sum_l += d_l\n",
    "            sum_t += d_t\n",
    "            if NS:\n",
    "                print(line.format(pr=(index*tries + i + 1)*100/tries,) , end='\\r')\n",
    "            else:\n",
    "                print(line.format(pr=(index*tries + i + 1)*100/progress,) , end='\\r')\n",
    "        res[name] = (sum_l/tries, sum_t/tries)\n",
    "    respd = pd.DataFrame(res, index=[\"uczące\", \"testowe\"])\n",
    "    \n",
    "    return respd.T"
   ]
  },
  {
   "cell_type": "code",
   "execution_count": 82,
   "id": "e9a14d2b",
   "metadata": {},
   "outputs": [],
   "source": [
    "data1 = load(files, mode=1)\n",
    "data1 = drop_threshold(data1, 50)\n",
    "data2 = load(files, mode=2)\n",
    "data2 = drop_threshold(data2, 50)\n",
    "data3 = pd.concat([data1.drop(columns=['labels']), data2], axis=1)"
   ]
  },
  {
   "cell_type": "markdown",
   "id": "39cd2387",
   "metadata": {},
   "source": [
    "Najpierw wykonamy klasyfikacje wyłącznie używając częstości wystąpień danych słów w danym dziele:"
   ]
  },
  {
   "cell_type": "code",
   "execution_count": 106,
   "id": "c0244d4a",
   "metadata": {
    "scrolled": false
   },
   "outputs": [
    {
     "name": "stdout",
     "output_type": "stream",
     "text": [
      "Klasyfickaja bez stop słów\n",
      "Ukończono w 100.00%\r"
     ]
    },
    {
     "data": {
      "text/plain": [
       "<AxesSubplot:>"
      ]
     },
     "execution_count": 106,
     "metadata": {},
     "output_type": "execute_result"
    },
    {
     "data": {
      "image/png": "[encoded data removed]",
      "text/plain": [
       "<Figure size 640x480 with 1 Axes>"
      ]
     },
     "metadata": {},
     "output_type": "display_data"
    }
   ],
   "source": [
    "print(\"Klasyfickaja bez stop słów\")\n",
    "respd1 = test_classifiers(data1, tries=1000)\n",
    "respd1.plot(kind='bar', rot = 45)"
   ]
  },
  {
   "cell_type": "code",
   "execution_count": 122,
   "id": "d5b2286a",
   "metadata": {},
   "outputs": [
    {
     "name": "stdout",
     "output_type": "stream",
     "text": [
      "Klasyfickaja na stop słowach\n",
      "Ukończono w 100.00%\r"
     ]
    },
    {
     "data": {
      "text/plain": [
       "<AxesSubplot:>"
      ]
     },
     "execution_count": 122,
     "metadata": {},
     "output_type": "execute_result"
    },
    {
     "data": {
      "image/png": "[encoded data removed]",
      "text/plain": [
       "<Figure size 640x480 with 1 Axes>"
      ]
     },
     "metadata": {},
     "output_type": "display_data"
    }
   ],
   "source": [
    "print(\"Klasyfickaja na stop słowach\")\n",
    "respd2 = test_classifiers(data2, tries=1000)\n",
    "respd2.plot(kind='bar', rot = 45)"
   ]
  },
  {
   "cell_type": "code",
   "execution_count": 97,
   "id": "f964eeaa",
   "metadata": {},
   "outputs": [
    {
     "name": "stdout",
     "output_type": "stream",
     "text": [
      "Klasyfickaja na wszystkich słowach\n",
      "Ukończono w 100.00%\r"
     ]
    },
    {
     "data": {
      "text/plain": [
       "<AxesSubplot:>"
      ]
     },
     "execution_count": 97,
     "metadata": {},
     "output_type": "execute_result"
    },
    {
     "data": {
      "image/png": "[encoded data removed]",
      "text/plain": [
       "<Figure size 640x480 with 1 Axes>"
      ]
     },
     "metadata": {},
     "output_type": "display_data"
    }
   ],
   "source": [
    "print(\"Klasyfickaja na wszystkich słowach\")\n",
    "respd3 = test_classifiers(data3, tries=1000)\n",
    "respd3.plot(kind='bar', rot = 45)"
   ]
  },
  {
   "cell_type": "markdown",
   "id": "106ef7a3",
   "metadata": {},
   "source": [
    "Następną klasyfikacje wykonamy przy pomocy metryki tfidf."
   ]
  },
  {
   "cell_type": "code",
   "execution_count": 126,
   "id": "f9772c8e",
   "metadata": {
    "scrolled": true
   },
   "outputs": [
    {
     "name": "stdout",
     "output_type": "stream",
     "text": [
      "Klasyfickaja bez stop słów z metryką TFIDF\n",
      "Ukończono w 100.00%\r"
     ]
    },
    {
     "data": {
      "text/plain": [
       "<AxesSubplot:>"
      ]
     },
     "execution_count": 126,
     "metadata": {},
     "output_type": "execute_result"
    },
    {
     "data": {
      "image/png": "[encoded data removed]",
      "text/plain": [
       "<Figure size 640x480 with 1 Axes>"
      ]
     },
     "metadata": {},
     "output_type": "display_data"
    }
   ],
   "source": [
    "print(\"Klasyfickaja bez stop słów z metryką TFIDF\")\n",
    "respdTF1 = test_classifiers(data1, tfidf_arg=True, tries=1000)\n",
    "respdTF1.plot(kind='bar', rot = 45)"
   ]
  },
  {
   "cell_type": "code",
   "execution_count": 129,
   "id": "d09090dd",
   "metadata": {},
   "outputs": [
    {
     "name": "stdout",
     "output_type": "stream",
     "text": [
      "Klasyfickaja na stop słowach z metryką TFIDF\n",
      "Ukończono w 100.00%\r"
     ]
    },
    {
     "data": {
      "text/plain": [
       "<AxesSubplot:>"
      ]
     },
     "execution_count": 129,
     "metadata": {},
     "output_type": "execute_result"
    },
    {
     "data": {
      "image/png": "[encoded data removed]",
      "text/plain": [
       "<Figure size 640x480 with 1 Axes>"
      ]
     },
     "metadata": {},
     "output_type": "display_data"
    }
   ],
   "source": [
    "print(\"Klasyfickaja na stop słowach z metryką TFIDF\")\n",
    "respdTF2 = test_classifiers(data2, tfidf_arg=True, tries=1000)\n",
    "respdTF2.plot(kind='bar', rot = 45)"
   ]
  },
  {
   "cell_type": "code",
   "execution_count": 130,
   "id": "d84dbadf",
   "metadata": {},
   "outputs": [
    {
     "name": "stdout",
     "output_type": "stream",
     "text": [
      "Klasyfickaja na stop słowach z metryką TFIDF\n",
      "Ukończono w 100.00%\r"
     ]
    },
    {
     "data": {
      "text/plain": [
       "<AxesSubplot:>"
      ]
     },
     "execution_count": 130,
     "metadata": {},
     "output_type": "execute_result"
    },
    {
     "data": {
      "image/png": "[encoded data removed]",
      "text/plain": [
       "<Figure size 640x480 with 1 Axes>"
      ]
     },
     "metadata": {},
     "output_type": "display_data"
    }
   ],
   "source": [
    "print(\"Klasyfickaja na stop słowach z metryką TFIDF\")\n",
    "respdTF3 = test_classifiers(data3, tfidf_arg=True, tries=1000)\n",
    "respdTF3.plot(kind='bar', rot = 45)"
   ]
  },
  {
   "cell_type": "markdown",
   "id": "0de7a88e",
   "metadata": {},
   "source": [
    "Klasyfikacja po stop-słowach kiedy łączymy wszystkie dzieła 1 autora daje jak widać podobne rezultaty."
   ]
  },
  {
   "cell_type": "code",
   "execution_count": 120,
   "id": "44ebddad",
   "metadata": {
    "scrolled": false
   },
   "outputs": [
    {
     "name": "stdout",
     "output_type": "stream",
     "text": [
      "Klasyfickaja na stop słowach\n",
      "Ukończono w 100.00%\r"
     ]
    },
    {
     "data": {
      "text/plain": [
       "<AxesSubplot:>"
      ]
     },
     "execution_count": 120,
     "metadata": {},
     "output_type": "execute_result"
    },
    {
     "data": {
      "image/png": "[encoded data removed]",
      "text/plain": [
       "<Figure size 640x480 with 1 Axes>"
      ]
     },
     "metadata": {},
     "output_type": "display_data"
    }
   ],
   "source": [
    "print(\"Klasyfickaja na stop słowach\")\n",
    "respd2 = test_classifiers(data1, NS=True, tries=1000)\n",
    "respd2.plot(kind='bar', rot = 45)"
   ]
  },
  {
   "cell_type": "code",
   "execution_count": 121,
   "id": "f9c6544d",
   "metadata": {},
   "outputs": [
    {
     "name": "stdout",
     "output_type": "stream",
     "text": [
      "Klasyfickaja bez stop słów\n",
      "Ukończono w 100.00%\r"
     ]
    },
    {
     "data": {
      "text/plain": [
       "<AxesSubplot:>"
      ]
     },
     "execution_count": 121,
     "metadata": {},
     "output_type": "execute_result"
    },
    {
     "data": {
      "image/png": "[encoded data removed]",
      "text/plain": [
       "<Figure size 640x480 with 1 Axes>"
      ]
     },
     "metadata": {},
     "output_type": "display_data"
    }
   ],
   "source": [
    "print(\"Klasyfickaja bez stop słów\")\n",
    "respd1 = test_classifiers(data2, NS=True, tries=1000)\n",
    "respd1.plot(kind='bar', rot = 45)"
   ]
  }
 ],
 "metadata": {
  "kernelspec": {
   "display_name": "Python 3 (ipykernel)",
   "language": "python",
   "name": "python3"
  },
  "language_info": {
   "codemirror_mode": {
    "name": "ipython",
    "version": 3
   },
   "file_extension": ".py",
   "mimetype": "text/x-python",
   "name": "python",
   "nbconvert_exporter": "python",
   "pygments_lexer": "ipython3",
   "version": "3.9.13"
  },
  "vscode": {
   "interpreter": {
    "hash": "b8dd5b33a86443fe513679c02cd28a92e41225ac53964ff0e7afc55cbcc9ed7e"
   }
  }
 },
 "nbformat": 4,
 "nbformat_minor": 5
}
