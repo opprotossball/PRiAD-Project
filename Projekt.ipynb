{
 "cells": [
  {
   "cell_type": "markdown",
   "id": "3343f13f",
   "metadata": {},
   "source": [
    "# Projekt PRIAD"
   ]
  },
  {
   "cell_type": "markdown",
   "id": "4b553490",
   "metadata": {},
   "source": [
    "## Rozpoznawanie autora utworu literackiego na podstawie treści utworu z wykorzystaniem worka słów."
   ]
  },
  {
   "cell_type": "markdown",
   "id": "1536703a",
   "metadata": {},
   "source": [
    "### Stanisław Maliński, Jan Stachurski"
   ]
  },
  {
   "cell_type": "markdown",
   "id": "3ffebd88",
   "metadata": {},
   "source": [
    "___"
   ]
  },
  {
   "cell_type": "markdown",
   "id": "c325b8c9",
   "metadata": {},
   "source": [
    "Importy"
   ]
  },
  {
   "cell_type": "code",
   "execution_count": 65,
   "id": "e83dca69",
   "metadata": {},
   "outputs": [],
   "source": [
    "import os\n",
    "import pandas as pd\n",
    "import numpy as np\n",
    "from math import log\n",
    "\n",
    "pd.options.display.float_format = \"{:.3f}\".format "
   ]
  },
  {
   "cell_type": "code",
   "execution_count": 22,
   "id": "1f5e80a9",
   "metadata": {},
   "outputs": [],
   "source": [
    "import warnings\n",
    "warnings.filterwarnings(\"ignore\")"
   ]
  },
  {
   "cell_type": "markdown",
   "id": "fe4ca9ad",
   "metadata": {},
   "source": [
    "Wczytywanie danych"
   ]
  },
  {
   "cell_type": "code",
   "execution_count": 23,
   "id": "760dae10",
   "metadata": {},
   "outputs": [],
   "source": [
    "data_path = \"./data/\"\n",
    "file_list = os.listdir(data_path)\n",
    "func = lambda  a : a.replace(\".txt\", \"\").split(\"-\")\n",
    "count_size = lambda a : os.stat(a).st_size\n",
    "data = [[func(title)[0], func(title)[1], data_path + title, count_size(data_path + title)] for title in file_list]\n",
    "files = pd.DataFrame(data, columns=['Author', 'Name of The work', 'FilePath', 'FileSize'])"
   ]
  },
  {
   "cell_type": "markdown",
   "id": "51f26f45",
   "metadata": {},
   "source": [
    "Przedstawiam zestaw uczący. Mamy tutaj pozycję kilku Polskich autorów."
   ]
  },
  {
   "cell_type": "code",
   "execution_count": 24,
   "id": "47b560c6",
   "metadata": {
    "scrolled": true
   },
   "outputs": [
    {
     "name": "stdout",
     "output_type": "stream",
     "text": [
      "                   Book Count\n",
      "Author                       \n",
      "AdamMickiewicz              7\n",
      "HenrykSienkiewicz          11\n",
      "Juliusz Słowacki            8\n"
     ]
    }
   ],
   "source": [
    "tmp = files.drop(columns=['Name of The work', 'FilePath', 'FileSize'])\n",
    "tmp = pd.concat([tmp, pd.Series(np.where(tmp['Author']!=None,1,1))], axis=1).groupby('Author').sum()\n",
    "tmp.columns = ['Book Count']\n",
    "print(tmp.groupby('Author').sum())"
   ]
  },
  {
   "cell_type": "markdown",
   "id": "57f33f82",
   "metadata": {},
   "source": [
    "Wczytanie stop-słów:"
   ]
  },
  {
   "cell_type": "code",
   "execution_count": 110,
   "id": "bd973fe1",
   "metadata": {},
   "outputs": [],
   "source": [
    "delimeters = [\"\\\\n\", \"'\"]\n",
    "stop_word = set()\n",
    "with open(\"./stopyPL.txt\", encoding=\"utf8\") as f:\n",
    "    for line in f:\n",
    "        word = repr(line)\n",
    "        for c in delimeters:\n",
    "            word = word.replace(c, \"\")\n",
    "        stop_word.add(word)"
   ]
  },
  {
   "cell_type": "markdown",
   "id": "093f8afd",
   "metadata": {},
   "source": [
    "Projekt ten używa worka słów, który to przechowuje informacje na temat częstości występowania słów w danym dokumencie. Definiujemy tu dwie funckje jedna do standaryzacji słów tzn. usunięcia ewentualnych znaków graficznych takich jak kropka czy przecinek oraz ustawienie wielkości liter na małe aby słowa \"Który\" oraz \"który\" były zliczane jako to same słowo.\n",
    "Druga funkcja służy do budowania worka słów. Zlicza najpierw pojedyńcze przypadki wystąpień, a następnie zlicza częstość wystąpień danego słowa."
   ]
  },
  {
   "cell_type": "code",
   "execution_count": 53,
   "id": "016f7a24",
   "metadata": {},
   "outputs": [],
   "source": [
    "special_char = (\".\", \",\", \"-\", \"?\", \"(\", \")\", \"!\", \"\\\\\", \"\\\"\", \":\", \";\", \"*\", \"…\",\"0\",\"1\",\"2\",\"3\",\"4\",\"5\",\"6\",\"7\",\"8\",\"9\")\n",
    "def normalize_text(word):\n",
    "    for char in special_char:\n",
    "        word = word.replace(char, \"\")\n",
    "    word = word.lower()\n",
    "    return word\n",
    "\n",
    "def get_text(FileName):\n",
    "    out = \"\"\n",
    "    n = 0\n",
    "    with open(FileName, \"r\", encoding=\"utf8\") as f:\n",
    "        for line in f:\n",
    "            out += line\n",
    "            n += 1\n",
    "        f.close()\n",
    "    return (n, out)\n",
    "        \n",
    "# 0 - generete bag with all words, 1 - bag without stopwords, 2 - bag with only stopwords\n",
    "def generate_word_bag(text, mode=0, nwords=None):\n",
    "    word_bag = {}\n",
    "    words_in_bag = 0\n",
    "    f1 = text.split(\"\\n\")\n",
    "    f = []  \n",
    "    for w in f1:\n",
    "        f += w.split()\n",
    "    for word in f:\n",
    "        if nwords is not None and words_in_bag >= nwords:\n",
    "            break\n",
    "        if word == '':\n",
    "            continue\n",
    "        if (mode==0) or (mode==1 and not word in stop_word) or (mode==2 and word in stop_word):\n",
    "            words_in_bag += 1\n",
    "            if word in word_bag:\n",
    "                word_bag[word] += 1\n",
    "            else:\n",
    "                word_bag[word] = 1\n",
    "    return word_bag\n",
    "\n",
    "def bag_from_list(lst, mode=0, nwords=0):\n",
    "    word_bag = {}\n",
    "    words_in_bag = 0\n",
    "    if isinstance(nwords, range):\n",
    "        bags = []\n",
    "        treshold = next(range)\n",
    "        for word in lst:\n",
    "            if words_in_bag >= treshold:\n",
    "                treshold = next(range)\n",
    "                bags.append(word_bag.deepcopy())\n",
    "            if word == '':\n",
    "                continue\n",
    "            if (mode==0) or (mode==1 and not word in stop_word) or (mode==2 and word in stop_word):\n",
    "                words_in_bag += 1\n",
    "                if word in word_bag:\n",
    "                    word_bag[word] += 1\n",
    "                else:\n",
    "                    word_bag[word] = 1\n",
    "    else:\n",
    "        for word in lst:\n",
    "            if nwords is not None and words_in_bag >= nwords:\n",
    "                break\n",
    "            if word == '':\n",
    "                continue\n",
    "            if (mode==0) or (mode==1 and not word in stop_word) or (mode==2 and word in stop_word):\n",
    "                words_in_bag += 1\n",
    "                if word in word_bag:\n",
    "                    word_bag[word] += 1\n",
    "                else:\n",
    "                    word_bag[word] = 1\n",
    "    return word_bag              \n"
   ]
  },
  {
   "cell_type": "code",
   "execution_count": 27,
   "id": "acc39f4e",
   "metadata": {
    "scrolled": true
   },
   "outputs": [],
   "source": [
    "# file = files['FilePath'][0]\n",
    "# dictionary = generate_word_bag(get_text(file)[1])[0]\n",
    "# slowa = dictionary.keys()\n",
    "# slowo = list(slowa)[2]\n",
    "\n",
    "# print(\"W pliku: \\\"{}\\\" Słowo: \\\"{}\\\" występowało z częstością: {:.2e}\".format(file, slowo, dictionary[slowo]['Frequent']))"
   ]
  },
  {
   "cell_type": "code",
   "execution_count": 28,
   "id": "d2fb1c36",
   "metadata": {},
   "outputs": [],
   "source": [
    "# def head(dictionary, start=0, end=None, step=1, fname=None):\n",
    "#     words = list(dictionary.keys())\n",
    "#     if end is None:\n",
    "#         end = min(5, len(words))\n",
    "#     if fname is not None:\n",
    "#         print(\"W pliku\\\"{}\\\"\".format(fname), \":\")\n",
    "#     for word in words[start:end:step]:\n",
    "#         print(\"Słowo: \\\"{}\\\" występowało z częstością: {:.2e}\".format(word,dictionary[word]['Frequent']), sep=\"\")"
   ]
  },
  {
   "cell_type": "code",
   "execution_count": 29,
   "id": "9bb7eadc",
   "metadata": {
    "scrolled": true
   },
   "outputs": [],
   "source": [
    "# file = files[\"FilePath\"][1]\n",
    "# dictionary = generate_word_bag(get_text(file)[1], 2)[0]\n",
    "# head(dictionary, end=3, fname=file)"
   ]
  },
  {
   "cell_type": "code",
   "execution_count": 30,
   "id": "67a3c21a",
   "metadata": {},
   "outputs": [],
   "source": [
    "# def show_most_frequent(dic, threshold=0):\n",
    "#     po_czestosci = dict(sorted(dic.items(), key=lambda x: int(x[1]['Count']), reverse = True))\n",
    "#     for index, word in enumerate(po_czestosci.keys()):\n",
    "#         if threshold == 0 and index < 10:\n",
    "#             print(word + \" -> \" + str(po_czestosci[word]['Count']))\n",
    "#         elif threshold == 0:\n",
    "#             break\n",
    "#         elif po_czestosci[word]['Count'] > threshold:\n",
    "#             print(word + \" -> \" + str(po_czestosci[word]['Count']))\n",
    "#         else:\n",
    "#             break\n",
    "\n",
    "# show_most_frequent(dictionary, 2)"
   ]
  },
  {
   "cell_type": "markdown",
   "id": "370ee410",
   "metadata": {},
   "source": [
    "Mamy już mały warsztat narzędzi do analizy utworów. Stworzymy teraz parę funckji, które pozwolą nam zgrabnie manipulować macierzą danych. \n",
    "merge_dics_to_df - łączy worki słów w ramkę danych, którą później wykorzystamy do nauki klasyfikatora.\n",
    "tf_idf - analiza TF_IDF."
   ]
  },
  {
   "cell_type": "code",
   "execution_count": 31,
   "id": "b7dc3536",
   "metadata": {},
   "outputs": [],
   "source": [
    "def merge_dics_to_df(dics, labels=None):\n",
    "    tab = []\n",
    "    word_found = set()\n",
    "    index = []\n",
    "    for dic in dics:\n",
    "        words = list(dic.keys())\n",
    "        for word in words:\n",
    "            if not word in word_found:\n",
    "                word_found.add(word)\n",
    "                index.append(word)\n",
    "                rec = []\n",
    "                for dictionary in dics:\n",
    "                    if word in dictionary:\n",
    "                        rec.append(dictionary[word])\n",
    "                        del dictionary[word]\n",
    "                    else:\n",
    "                        rec.append(0)\n",
    "                tab.append(rec)\n",
    "   \n",
    "    df = pd.DataFrame(tab, columns=labels, index=index)   \n",
    "    return df.T"
   ]
  },
  {
   "cell_type": "code",
   "execution_count": 33,
   "id": "b97c61bc",
   "metadata": {},
   "outputs": [],
   "source": [
    "def tfidf(data):\n",
    "    df = data.copy()\n",
    "    w_l = False\n",
    "    if 'labels' in df.columns:\n",
    "        labels = df['labels']\n",
    "        df = df.drop(columns='labels')\n",
    "        w_l = True\n",
    "    nwords = df.shape[1]\n",
    "    nbooks = df.shape[0]\n",
    "    tf = np.empty((nbooks, nwords))\n",
    "    sm = df.sum(axis=1)\n",
    "    for i in range(nbooks):\n",
    "        tf[i,:] = np.array(df.iloc[i,: ] / sm[i])\n",
    "    inbooks = np.array((df > 0)*1).sum(axis=0)\n",
    "    idf = [log(nbooks / val, 10) for val in inbooks]\n",
    "    tfidf = pd.DataFrame((tf*np.array([idf,]*nbooks)*100), columns=df.columns)\n",
    "    if w_l:\n",
    "        tfidf['labels'] = pd.Series.tolist(labels)\n",
    "    tfidf.replace([np.nan, np.inf, -np.inf], 0, inplace=True)\n",
    "    return tfidf"
   ]
  },
  {
   "cell_type": "markdown",
   "id": "d07a86f3",
   "metadata": {},
   "source": [
    "Funkcja obliczająca częstotliwość wystąpienia danego słowa."
   ]
  },
  {
   "cell_type": "code",
   "execution_count": 34,
   "id": "522177c1",
   "metadata": {},
   "outputs": [],
   "source": [
    "def frequency(data):\n",
    "    df = data.copy()\n",
    "    w_l = False\n",
    "    if 'labels' in df.columns:\n",
    "        labels = df['labels']\n",
    "        df = df.drop(columns='labels')\n",
    "        w_l = True\n",
    "    nwords = df.shape[1]\n",
    "    nbooks = df.shape[0]\n",
    "    tf = np.empty((nbooks, nwords))\n",
    "    sm = df.sum(axis=1)\n",
    "    for i in range(nbooks):\n",
    "        tf[i,:] = np.array(df.iloc[i,: ] / sm[i])\n",
    "    fdf = pd.DataFrame(tf, columns=df.columns)\n",
    "    if w_l:\n",
    "        fdf['labels'] =  pd.Series.tolist(labels)\n",
    "    return fdf"
   ]
  },
  {
   "cell_type": "markdown",
   "id": "acbe07e1",
   "metadata": {},
   "source": [
    "Funkcja do usuwania słów z worka jeżeli nie wstępuje ono dostatecznie dużo razy."
   ]
  },
  {
   "cell_type": "code",
   "execution_count": 35,
   "id": "0187ffbf",
   "metadata": {},
   "outputs": [],
   "source": [
    "def drop_threshold(df, threshold):\n",
    "    to_drop = []\n",
    "    w_l = False\n",
    "    if 'labels' in df.columns:\n",
    "        labels = df['labels']\n",
    "        df = df.drop(columns='labels')\n",
    "        w_l = True\n",
    "    for col in df.columns:\n",
    "        if (df[col] < threshold).all():\n",
    "            to_drop.append(col)\n",
    "    df = df.drop(columns=to_drop)\n",
    "    if w_l:\n",
    "        df['labels'] = pd.Series.tolist(labels)\n",
    "    return df"
   ]
  },
  {
   "cell_type": "markdown",
   "id": "11331428",
   "metadata": {},
   "source": [
    "Wczytanie i obliczenie słowników dla wszystkich utworów."
   ]
  },
  {
   "cell_type": "code",
   "execution_count": 36,
   "id": "6b755729",
   "metadata": {},
   "outputs": [],
   "source": [
    "def load(files, mode=2):\n",
    "    word_bags = []\n",
    "    index = []\n",
    "    labels = []\n",
    "\n",
    "    for path, name, label in zip(files['FilePath'], files['Name of The work'], files['Author']):\n",
    "        n, cont = get_text(path)\n",
    "        cont = normalize_text(cont)\n",
    "        word_bags.append(generate_word_bag(cont, mode=mode))\n",
    "        index.append(name)\n",
    "        labels.append(label)\n",
    "        \n",
    "    df = merge_dics_to_df(word_bags)\n",
    "    df['labels'] = labels\n",
    "    df['Name'] = index\n",
    "    df = df.set_index('Name')\n",
    "    return df   "
   ]
  },
  {
   "cell_type": "markdown",
   "id": "6dc9424c",
   "metadata": {},
   "source": [
    "Połączenie wszystkich dzieł jednego autora w jeden wiersz w tabeli."
   ]
  },
  {
   "cell_type": "markdown",
   "id": "6c7489b2",
   "metadata": {},
   "source": [
    "Jak widzimy mamy już ramkę danych, w której każdym obiektem jest dzieło a wektorem atrybutów jest częstość wystąpień poszczególnych słów w każdym z dzieł. Dodaliśmy również atrybuty decyzyjny czyli nazwisko autora danego dzieła."
   ]
  },
  {
   "cell_type": "markdown",
   "id": "7dc4ab2d",
   "metadata": {},
   "source": [
    "___"
   ]
  },
  {
   "cell_type": "markdown",
   "id": "f71870b6",
   "metadata": {},
   "source": [
    "Przeprowadzimy teraz krótką analizę zbioru uczącego."
   ]
  },
  {
   "cell_type": "code",
   "execution_count": 141,
   "id": "e9a14d2b",
   "metadata": {},
   "outputs": [],
   "source": [
    "data1 = load(files, mode=1)\n",
    "data1 = drop_threshold(data1, 50)\n",
    "data2 = load(files, mode=2)\n",
    "data2 = drop_threshold(data2, 50)\n",
    "data3 = pd.concat([data1.drop(columns=['labels']), data2], axis=1)\n",
    "data3 = drop_threshold(data3, 50)"
   ]
  },
  {
   "cell_type": "code",
   "execution_count": 63,
   "id": "3609457a",
   "metadata": {},
   "outputs": [
    {
     "data": {
      "text/html": [
       "<div>\n",
       "<style scoped>\n",
       "    .dataframe tbody tr th:only-of-type {\n",
       "        vertical-align: middle;\n",
       "    }\n",
       "\n",
       "    .dataframe tbody tr th {\n",
       "        vertical-align: top;\n",
       "    }\n",
       "\n",
       "    .dataframe thead th {\n",
       "        text-align: right;\n",
       "    }\n",
       "</style>\n",
       "<table border=\"1\" class=\"dataframe\">\n",
       "  <thead>\n",
       "    <tr style=\"text-align: right;\">\n",
       "      <th></th>\n",
       "      <th>dotąd</th>\n",
       "      <th>razem</th>\n",
       "      <th>zdaje</th>\n",
       "      <th>świata</th>\n",
       "      <th>zwłaszcza</th>\n",
       "      <th>dzień</th>\n",
       "      <th>czasu</th>\n",
       "      <th>czas</th>\n",
       "      <th>mojej</th>\n",
       "      <th>zaś</th>\n",
       "      <th>...</th>\n",
       "      <th>kalego</th>\n",
       "      <th>słoń</th>\n",
       "      <th>mzimu</th>\n",
       "      <th>beniowski</th>\n",
       "      <th>anhelli</th>\n",
       "      <th>szaman</th>\n",
       "      <th>kordian</th>\n",
       "      <th>rizzio</th>\n",
       "      <th>botwel</th>\n",
       "      <th>nick</th>\n",
       "    </tr>\n",
       "    <tr>\n",
       "      <th>labels</th>\n",
       "      <th></th>\n",
       "      <th></th>\n",
       "      <th></th>\n",
       "      <th></th>\n",
       "      <th></th>\n",
       "      <th></th>\n",
       "      <th></th>\n",
       "      <th></th>\n",
       "      <th></th>\n",
       "      <th></th>\n",
       "      <th></th>\n",
       "      <th></th>\n",
       "      <th></th>\n",
       "      <th></th>\n",
       "      <th></th>\n",
       "      <th></th>\n",
       "      <th></th>\n",
       "      <th></th>\n",
       "      <th></th>\n",
       "      <th></th>\n",
       "      <th></th>\n",
       "    </tr>\n",
       "  </thead>\n",
       "  <tbody>\n",
       "    <tr>\n",
       "      <th>AdamMickiewicz</th>\n",
       "      <td>79</td>\n",
       "      <td>78</td>\n",
       "      <td>15</td>\n",
       "      <td>43</td>\n",
       "      <td>10</td>\n",
       "      <td>58</td>\n",
       "      <td>29</td>\n",
       "      <td>65</td>\n",
       "      <td>32</td>\n",
       "      <td>46</td>\n",
       "      <td>...</td>\n",
       "      <td>0</td>\n",
       "      <td>0</td>\n",
       "      <td>0</td>\n",
       "      <td>0</td>\n",
       "      <td>0</td>\n",
       "      <td>0</td>\n",
       "      <td>0</td>\n",
       "      <td>0</td>\n",
       "      <td>0</td>\n",
       "      <td>0</td>\n",
       "    </tr>\n",
       "    <tr>\n",
       "      <th>HenrykSienkiewicz</th>\n",
       "      <td>350</td>\n",
       "      <td>591</td>\n",
       "      <td>117</td>\n",
       "      <td>200</td>\n",
       "      <td>410</td>\n",
       "      <td>689</td>\n",
       "      <td>697</td>\n",
       "      <td>814</td>\n",
       "      <td>297</td>\n",
       "      <td>2835</td>\n",
       "      <td>...</td>\n",
       "      <td>87</td>\n",
       "      <td>51</td>\n",
       "      <td>88</td>\n",
       "      <td>1</td>\n",
       "      <td>0</td>\n",
       "      <td>0</td>\n",
       "      <td>0</td>\n",
       "      <td>0</td>\n",
       "      <td>0</td>\n",
       "      <td>0</td>\n",
       "    </tr>\n",
       "    <tr>\n",
       "      <th>Juliusz Słowacki</th>\n",
       "      <td>27</td>\n",
       "      <td>35</td>\n",
       "      <td>16</td>\n",
       "      <td>34</td>\n",
       "      <td>13</td>\n",
       "      <td>48</td>\n",
       "      <td>14</td>\n",
       "      <td>46</td>\n",
       "      <td>51</td>\n",
       "      <td>46</td>\n",
       "      <td>...</td>\n",
       "      <td>0</td>\n",
       "      <td>0</td>\n",
       "      <td>0</td>\n",
       "      <td>81</td>\n",
       "      <td>53</td>\n",
       "      <td>52</td>\n",
       "      <td>176</td>\n",
       "      <td>83</td>\n",
       "      <td>99</td>\n",
       "      <td>60</td>\n",
       "    </tr>\n",
       "  </tbody>\n",
       "</table>\n",
       "<p>3 rows × 564 columns</p>\n",
       "</div>"
      ],
      "text/plain": [
       "                   dotąd  razem  zdaje  świata  zwłaszcza  dzień  czasu  czas  \\\n",
       "labels                                                                          \n",
       "AdamMickiewicz        79     78     15      43         10     58     29    65   \n",
       "HenrykSienkiewicz    350    591    117     200        410    689    697   814   \n",
       "Juliusz Słowacki      27     35     16      34         13     48     14    46   \n",
       "\n",
       "                   mojej   zaś  ...  kalego  słoń  mzimu  beniowski  anhelli  \\\n",
       "labels                          ...                                            \n",
       "AdamMickiewicz        32    46  ...       0     0      0          0        0   \n",
       "HenrykSienkiewicz    297  2835  ...      87    51     88          1        0   \n",
       "Juliusz Słowacki      51    46  ...       0     0      0         81       53   \n",
       "\n",
       "                   szaman  kordian  rizzio  botwel  nick  \n",
       "labels                                                    \n",
       "AdamMickiewicz          0        0       0       0     0  \n",
       "HenrykSienkiewicz       0        0       0       0     0  \n",
       "Juliusz Słowacki       52      176      83      99    60  \n",
       "\n",
       "[3 rows x 564 columns]"
      ]
     },
     "execution_count": 63,
     "metadata": {},
     "output_type": "execute_result"
    }
   ],
   "source": [
    "grouped = data1.groupby('labels')\n",
    "grouped.sum()"
   ]
  },
  {
   "cell_type": "markdown",
   "id": "d51467d5",
   "metadata": {},
   "source": [
    "Mamy tu przedstawione parę metryk na podstawie, których możemy wciągnąć parę wniosków. Widzmy z pierwszej figury, że autor Słowacki używa jak jedyny słów takich jak \"Kalego\" czy \"Anheli\", na pierwszy rzut oka jest to dla nas dobra informacja, ponieważ znaleźliśmy słowo specyficzne dla jednego autora!"
   ]
  },
  {
   "cell_type": "code",
   "execution_count": 61,
   "id": "b0808fa8",
   "metadata": {},
   "outputs": [
    {
     "data": {
      "text/html": [
       "<div>\n",
       "<style scoped>\n",
       "    .dataframe tbody tr th:only-of-type {\n",
       "        vertical-align: middle;\n",
       "    }\n",
       "\n",
       "    .dataframe tbody tr th {\n",
       "        vertical-align: top;\n",
       "    }\n",
       "\n",
       "    .dataframe thead th {\n",
       "        text-align: right;\n",
       "    }\n",
       "</style>\n",
       "<table border=\"1\" class=\"dataframe\">\n",
       "  <thead>\n",
       "    <tr style=\"text-align: right;\">\n",
       "      <th></th>\n",
       "      <th>dotąd</th>\n",
       "      <th>razem</th>\n",
       "      <th>zdaje</th>\n",
       "      <th>świata</th>\n",
       "      <th>zwłaszcza</th>\n",
       "      <th>dzień</th>\n",
       "      <th>czasu</th>\n",
       "      <th>czas</th>\n",
       "      <th>mojej</th>\n",
       "      <th>zaś</th>\n",
       "      <th>...</th>\n",
       "      <th>słoń</th>\n",
       "      <th>mzimu</th>\n",
       "      <th>beniowski</th>\n",
       "      <th>anhelli</th>\n",
       "      <th>szaman</th>\n",
       "      <th>kordian</th>\n",
       "      <th>rizzio</th>\n",
       "      <th>botwel</th>\n",
       "      <th>nick</th>\n",
       "      <th>labels</th>\n",
       "    </tr>\n",
       "    <tr>\n",
       "      <th>Name</th>\n",
       "      <th></th>\n",
       "      <th></th>\n",
       "      <th></th>\n",
       "      <th></th>\n",
       "      <th></th>\n",
       "      <th></th>\n",
       "      <th></th>\n",
       "      <th></th>\n",
       "      <th></th>\n",
       "      <th></th>\n",
       "      <th></th>\n",
       "      <th></th>\n",
       "      <th></th>\n",
       "      <th></th>\n",
       "      <th></th>\n",
       "      <th></th>\n",
       "      <th></th>\n",
       "      <th></th>\n",
       "      <th></th>\n",
       "      <th></th>\n",
       "      <th></th>\n",
       "    </tr>\n",
       "  </thead>\n",
       "  <tbody>\n",
       "    <tr>\n",
       "      <th>Anhelli</th>\n",
       "      <td>0</td>\n",
       "      <td>3</td>\n",
       "      <td>3</td>\n",
       "      <td>0</td>\n",
       "      <td>0</td>\n",
       "      <td>8</td>\n",
       "      <td>2</td>\n",
       "      <td>3</td>\n",
       "      <td>0</td>\n",
       "      <td>16</td>\n",
       "      <td>...</td>\n",
       "      <td>0</td>\n",
       "      <td>0</td>\n",
       "      <td>0</td>\n",
       "      <td>52</td>\n",
       "      <td>52</td>\n",
       "      <td>0</td>\n",
       "      <td>0</td>\n",
       "      <td>0</td>\n",
       "      <td>0</td>\n",
       "      <td>Juliusz Słowacki</td>\n",
       "    </tr>\n",
       "    <tr>\n",
       "      <th>Balladyna</th>\n",
       "      <td>6</td>\n",
       "      <td>3</td>\n",
       "      <td>0</td>\n",
       "      <td>0</td>\n",
       "      <td>0</td>\n",
       "      <td>3</td>\n",
       "      <td>2</td>\n",
       "      <td>4</td>\n",
       "      <td>2</td>\n",
       "      <td>2</td>\n",
       "      <td>...</td>\n",
       "      <td>0</td>\n",
       "      <td>0</td>\n",
       "      <td>0</td>\n",
       "      <td>0</td>\n",
       "      <td>0</td>\n",
       "      <td>0</td>\n",
       "      <td>0</td>\n",
       "      <td>0</td>\n",
       "      <td>0</td>\n",
       "      <td>Juliusz Słowacki</td>\n",
       "    </tr>\n",
       "    <tr>\n",
       "      <th>Beniowski dalsze pieśni</th>\n",
       "      <td>7</td>\n",
       "      <td>13</td>\n",
       "      <td>8</td>\n",
       "      <td>12</td>\n",
       "      <td>2</td>\n",
       "      <td>10</td>\n",
       "      <td>5</td>\n",
       "      <td>10</td>\n",
       "      <td>6</td>\n",
       "      <td>7</td>\n",
       "      <td>...</td>\n",
       "      <td>0</td>\n",
       "      <td>0</td>\n",
       "      <td>51</td>\n",
       "      <td>0</td>\n",
       "      <td>0</td>\n",
       "      <td>0</td>\n",
       "      <td>0</td>\n",
       "      <td>0</td>\n",
       "      <td>0</td>\n",
       "      <td>Juliusz Słowacki</td>\n",
       "    </tr>\n",
       "    <tr>\n",
       "      <th>Beniowski pięć pierwszych pieśni</th>\n",
       "      <td>0</td>\n",
       "      <td>4</td>\n",
       "      <td>1</td>\n",
       "      <td>3</td>\n",
       "      <td>11</td>\n",
       "      <td>5</td>\n",
       "      <td>1</td>\n",
       "      <td>11</td>\n",
       "      <td>10</td>\n",
       "      <td>18</td>\n",
       "      <td>...</td>\n",
       "      <td>0</td>\n",
       "      <td>0</td>\n",
       "      <td>30</td>\n",
       "      <td>1</td>\n",
       "      <td>0</td>\n",
       "      <td>0</td>\n",
       "      <td>0</td>\n",
       "      <td>0</td>\n",
       "      <td>0</td>\n",
       "      <td>Juliusz Słowacki</td>\n",
       "    </tr>\n",
       "    <tr>\n",
       "      <th>Hugo</th>\n",
       "      <td>0</td>\n",
       "      <td>0</td>\n",
       "      <td>0</td>\n",
       "      <td>0</td>\n",
       "      <td>0</td>\n",
       "      <td>2</td>\n",
       "      <td>0</td>\n",
       "      <td>0</td>\n",
       "      <td>1</td>\n",
       "      <td>0</td>\n",
       "      <td>...</td>\n",
       "      <td>0</td>\n",
       "      <td>0</td>\n",
       "      <td>0</td>\n",
       "      <td>0</td>\n",
       "      <td>0</td>\n",
       "      <td>0</td>\n",
       "      <td>0</td>\n",
       "      <td>0</td>\n",
       "      <td>0</td>\n",
       "      <td>Juliusz Słowacki</td>\n",
       "    </tr>\n",
       "    <tr>\n",
       "      <th>Kordian</th>\n",
       "      <td>4</td>\n",
       "      <td>7</td>\n",
       "      <td>2</td>\n",
       "      <td>9</td>\n",
       "      <td>0</td>\n",
       "      <td>12</td>\n",
       "      <td>4</td>\n",
       "      <td>6</td>\n",
       "      <td>10</td>\n",
       "      <td>1</td>\n",
       "      <td>...</td>\n",
       "      <td>0</td>\n",
       "      <td>0</td>\n",
       "      <td>0</td>\n",
       "      <td>0</td>\n",
       "      <td>0</td>\n",
       "      <td>176</td>\n",
       "      <td>0</td>\n",
       "      <td>0</td>\n",
       "      <td>0</td>\n",
       "      <td>Juliusz Słowacki</td>\n",
       "    </tr>\n",
       "    <tr>\n",
       "      <th>Król Duch</th>\n",
       "      <td>0</td>\n",
       "      <td>2</td>\n",
       "      <td>1</td>\n",
       "      <td>6</td>\n",
       "      <td>0</td>\n",
       "      <td>5</td>\n",
       "      <td>0</td>\n",
       "      <td>1</td>\n",
       "      <td>4</td>\n",
       "      <td>2</td>\n",
       "      <td>...</td>\n",
       "      <td>0</td>\n",
       "      <td>0</td>\n",
       "      <td>0</td>\n",
       "      <td>0</td>\n",
       "      <td>0</td>\n",
       "      <td>0</td>\n",
       "      <td>0</td>\n",
       "      <td>0</td>\n",
       "      <td>0</td>\n",
       "      <td>Juliusz Słowacki</td>\n",
       "    </tr>\n",
       "    <tr>\n",
       "      <th>Maria Stuart</th>\n",
       "      <td>10</td>\n",
       "      <td>3</td>\n",
       "      <td>1</td>\n",
       "      <td>4</td>\n",
       "      <td>0</td>\n",
       "      <td>3</td>\n",
       "      <td>0</td>\n",
       "      <td>11</td>\n",
       "      <td>18</td>\n",
       "      <td>0</td>\n",
       "      <td>...</td>\n",
       "      <td>0</td>\n",
       "      <td>0</td>\n",
       "      <td>0</td>\n",
       "      <td>0</td>\n",
       "      <td>0</td>\n",
       "      <td>0</td>\n",
       "      <td>83</td>\n",
       "      <td>99</td>\n",
       "      <td>60</td>\n",
       "      <td>Juliusz Słowacki</td>\n",
       "    </tr>\n",
       "  </tbody>\n",
       "</table>\n",
       "<p>8 rows × 565 columns</p>\n",
       "</div>"
      ],
      "text/plain": [
       "                                  dotąd  razem  zdaje  świata  zwłaszcza  \\\n",
       "Name                                                                       \n",
       "Anhelli                               0      3      3       0          0   \n",
       "Balladyna                             6      3      0       0          0   \n",
       "Beniowski dalsze pieśni               7     13      8      12          2   \n",
       "Beniowski pięć pierwszych pieśni      0      4      1       3         11   \n",
       "Hugo                                  0      0      0       0          0   \n",
       "Kordian                               4      7      2       9          0   \n",
       "Król Duch                             0      2      1       6          0   \n",
       "Maria Stuart                         10      3      1       4          0   \n",
       "\n",
       "                                  dzień  czasu  czas  mojej  zaś  ...  słoń  \\\n",
       "Name                                                              ...         \n",
       "Anhelli                               8      2     3      0   16  ...     0   \n",
       "Balladyna                             3      2     4      2    2  ...     0   \n",
       "Beniowski dalsze pieśni              10      5    10      6    7  ...     0   \n",
       "Beniowski pięć pierwszych pieśni      5      1    11     10   18  ...     0   \n",
       "Hugo                                  2      0     0      1    0  ...     0   \n",
       "Kordian                              12      4     6     10    1  ...     0   \n",
       "Król Duch                             5      0     1      4    2  ...     0   \n",
       "Maria Stuart                          3      0    11     18    0  ...     0   \n",
       "\n",
       "                                  mzimu  beniowski  anhelli  szaman  kordian  \\\n",
       "Name                                                                           \n",
       "Anhelli                               0          0       52      52        0   \n",
       "Balladyna                             0          0        0       0        0   \n",
       "Beniowski dalsze pieśni               0         51        0       0        0   \n",
       "Beniowski pięć pierwszych pieśni      0         30        1       0        0   \n",
       "Hugo                                  0          0        0       0        0   \n",
       "Kordian                               0          0        0       0      176   \n",
       "Król Duch                             0          0        0       0        0   \n",
       "Maria Stuart                          0          0        0       0        0   \n",
       "\n",
       "                                  rizzio  botwel  nick            labels  \n",
       "Name                                                                      \n",
       "Anhelli                                0       0     0  Juliusz Słowacki  \n",
       "Balladyna                              0       0     0  Juliusz Słowacki  \n",
       "Beniowski dalsze pieśni                0       0     0  Juliusz Słowacki  \n",
       "Beniowski pięć pierwszych pieśni       0       0     0  Juliusz Słowacki  \n",
       "Hugo                                   0       0     0  Juliusz Słowacki  \n",
       "Kordian                                0       0     0  Juliusz Słowacki  \n",
       "Król Duch                              0       0     0  Juliusz Słowacki  \n",
       "Maria Stuart                          83      99    60  Juliusz Słowacki  \n",
       "\n",
       "[8 rows x 565 columns]"
      ]
     },
     "execution_count": 61,
     "metadata": {},
     "output_type": "execute_result"
    }
   ],
   "source": [
    "data1[data1['labels'] == \"Juliusz Słowacki\"]"
   ]
  },
  {
   "cell_type": "markdown",
   "id": "3e66e46f",
   "metadata": {},
   "source": [
    "Niestety już tu widzimy, że słowo charakterystyczne dla danego autora jest również charakterystyczne dla jego jednej książki. Co oznacza, że słowa te nie występują w innych jego dziełach. Fakt ten sprawia, że słowo to staje się zbędne podczas klasyfikacji. A więc poszukujemy słów, które występuje stosunkowo często u pewnego autora i występuje ono w każdym z jego dzieł. A więc poszukujemy słów o wysokiej częstości oraz małej wariancji częstości dla danego autora."
   ]
  },
  {
   "cell_type": "code",
   "execution_count": 93,
   "id": "0b2b47d7",
   "metadata": {
    "scrolled": false
   },
   "outputs": [
    {
     "data": {
      "text/html": [
       "<div>\n",
       "<style scoped>\n",
       "    .dataframe tbody tr th:only-of-type {\n",
       "        vertical-align: middle;\n",
       "    }\n",
       "\n",
       "    .dataframe tbody tr th {\n",
       "        vertical-align: top;\n",
       "    }\n",
       "\n",
       "    .dataframe thead th {\n",
       "        text-align: right;\n",
       "    }\n",
       "</style>\n",
       "<table border=\"1\" class=\"dataframe\">\n",
       "  <thead>\n",
       "    <tr style=\"text-align: right;\">\n",
       "      <th></th>\n",
       "      <th>jest</th>\n",
       "      <th>to</th>\n",
       "      <th>między</th>\n",
       "      <th>w</th>\n",
       "      <th>i</th>\n",
       "      <th>na</th>\n",
       "      <th>ta</th>\n",
       "      <th>się</th>\n",
       "      <th>której</th>\n",
       "      <th>ponieważ</th>\n",
       "      <th>...</th>\n",
       "      <th>dlatego</th>\n",
       "      <th>jednak</th>\n",
       "      <th>jakkolwiek</th>\n",
       "      <th>bardziej</th>\n",
       "      <th>również</th>\n",
       "      <th>bowiem</th>\n",
       "      <th>znów</th>\n",
       "      <th>gdyż</th>\n",
       "      <th>natomiast</th>\n",
       "      <th>jednakże</th>\n",
       "    </tr>\n",
       "    <tr>\n",
       "      <th>labels</th>\n",
       "      <th></th>\n",
       "      <th></th>\n",
       "      <th></th>\n",
       "      <th></th>\n",
       "      <th></th>\n",
       "      <th></th>\n",
       "      <th></th>\n",
       "      <th></th>\n",
       "      <th></th>\n",
       "      <th></th>\n",
       "      <th></th>\n",
       "      <th></th>\n",
       "      <th></th>\n",
       "      <th></th>\n",
       "      <th></th>\n",
       "      <th></th>\n",
       "      <th></th>\n",
       "      <th></th>\n",
       "      <th></th>\n",
       "      <th></th>\n",
       "      <th></th>\n",
       "    </tr>\n",
       "  </thead>\n",
       "  <tbody>\n",
       "    <tr>\n",
       "      <th>AdamMickiewicz</th>\n",
       "      <td>0.00760565</td>\n",
       "      <td>0.02120118</td>\n",
       "      <td>0.00211222</td>\n",
       "      <td>0.06591580</td>\n",
       "      <td>0.09050115</td>\n",
       "      <td>0.05148240</td>\n",
       "      <td>0.00215030</td>\n",
       "      <td>0.05234316</td>\n",
       "      <td>0.00095217</td>\n",
       "      <td>0.00011530</td>\n",
       "      <td>...</td>\n",
       "      <td>0.00043025</td>\n",
       "      <td>0.00038392</td>\n",
       "      <td>0.00016892</td>\n",
       "      <td>0.00021182</td>\n",
       "      <td>0.00007060</td>\n",
       "      <td>0.00006142</td>\n",
       "      <td>0.00009805</td>\n",
       "      <td>0.00050066</td>\n",
       "      <td>0.00000000</td>\n",
       "      <td>0.00000000</td>\n",
       "    </tr>\n",
       "    <tr>\n",
       "      <th>HenrykSienkiewicz</th>\n",
       "      <td>0.00849733</td>\n",
       "      <td>0.02796449</td>\n",
       "      <td>0.00227398</td>\n",
       "      <td>0.05194839</td>\n",
       "      <td>0.09133797</td>\n",
       "      <td>0.04437930</td>\n",
       "      <td>0.00133469</td>\n",
       "      <td>0.06187261</td>\n",
       "      <td>0.00167964</td>\n",
       "      <td>0.00064629</td>\n",
       "      <td>...</td>\n",
       "      <td>0.00143729</td>\n",
       "      <td>0.00340581</td>\n",
       "      <td>0.00033204</td>\n",
       "      <td>0.00091909</td>\n",
       "      <td>0.00067381</td>\n",
       "      <td>0.00125946</td>\n",
       "      <td>0.00214298</td>\n",
       "      <td>0.00214601</td>\n",
       "      <td>0.00071063</td>\n",
       "      <td>0.00066734</td>\n",
       "    </tr>\n",
       "    <tr>\n",
       "      <th>Juliusz Słowacki</th>\n",
       "      <td>0.00932685</td>\n",
       "      <td>0.01962010</td>\n",
       "      <td>0.00174237</td>\n",
       "      <td>0.07150455</td>\n",
       "      <td>0.09007021</td>\n",
       "      <td>0.05661929</td>\n",
       "      <td>0.00330791</td>\n",
       "      <td>0.05384090</td>\n",
       "      <td>0.00101192</td>\n",
       "      <td>0.00004896</td>\n",
       "      <td>...</td>\n",
       "      <td>0.00045855</td>\n",
       "      <td>0.00083054</td>\n",
       "      <td>0.00010748</td>\n",
       "      <td>0.00054798</td>\n",
       "      <td>0.00000000</td>\n",
       "      <td>0.00068330</td>\n",
       "      <td>0.00170012</td>\n",
       "      <td>0.00000000</td>\n",
       "      <td>0.00000000</td>\n",
       "      <td>0.00000000</td>\n",
       "    </tr>\n",
       "  </tbody>\n",
       "</table>\n",
       "<p>3 rows × 195 columns</p>\n",
       "</div>"
      ],
      "text/plain": [
       "                        jest         to     między          w          i  \\\n",
       "labels                                                                     \n",
       "AdamMickiewicz    0.00760565 0.02120118 0.00211222 0.06591580 0.09050115   \n",
       "HenrykSienkiewicz 0.00849733 0.02796449 0.00227398 0.05194839 0.09133797   \n",
       "Juliusz Słowacki  0.00932685 0.01962010 0.00174237 0.07150455 0.09007021   \n",
       "\n",
       "                          na         ta        się     której   ponieważ  ...  \\\n",
       "labels                                                                    ...   \n",
       "AdamMickiewicz    0.05148240 0.00215030 0.05234316 0.00095217 0.00011530  ...   \n",
       "HenrykSienkiewicz 0.04437930 0.00133469 0.06187261 0.00167964 0.00064629  ...   \n",
       "Juliusz Słowacki  0.05661929 0.00330791 0.05384090 0.00101192 0.00004896  ...   \n",
       "\n",
       "                     dlatego     jednak  jakkolwiek   bardziej    również  \\\n",
       "labels                                                                      \n",
       "AdamMickiewicz    0.00043025 0.00038392  0.00016892 0.00021182 0.00007060   \n",
       "HenrykSienkiewicz 0.00143729 0.00340581  0.00033204 0.00091909 0.00067381   \n",
       "Juliusz Słowacki  0.00045855 0.00083054  0.00010748 0.00054798 0.00000000   \n",
       "\n",
       "                      bowiem       znów       gdyż  natomiast   jednakże  \n",
       "labels                                                                    \n",
       "AdamMickiewicz    0.00006142 0.00009805 0.00050066 0.00000000 0.00000000  \n",
       "HenrykSienkiewicz 0.00125946 0.00214298 0.00214601 0.00071063 0.00066734  \n",
       "Juliusz Słowacki  0.00068330 0.00170012 0.00000000 0.00000000 0.00000000  \n",
       "\n",
       "[3 rows x 195 columns]"
      ]
     },
     "execution_count": 93,
     "metadata": {},
     "output_type": "execute_result"
    }
   ],
   "source": [
    "data11 = frequency(data1).groupby('labels')\n",
    "data11.mean()"
   ]
  },
  {
   "cell_type": "code",
   "execution_count": 94,
   "id": "f01cfff9",
   "metadata": {},
   "outputs": [
    {
     "data": {
      "text/html": [
       "<div>\n",
       "<style scoped>\n",
       "    .dataframe tbody tr th:only-of-type {\n",
       "        vertical-align: middle;\n",
       "    }\n",
       "\n",
       "    .dataframe tbody tr th {\n",
       "        vertical-align: top;\n",
       "    }\n",
       "\n",
       "    .dataframe thead th {\n",
       "        text-align: right;\n",
       "    }\n",
       "</style>\n",
       "<table border=\"1\" class=\"dataframe\">\n",
       "  <thead>\n",
       "    <tr style=\"text-align: right;\">\n",
       "      <th></th>\n",
       "      <th>jest</th>\n",
       "      <th>to</th>\n",
       "      <th>między</th>\n",
       "      <th>w</th>\n",
       "      <th>i</th>\n",
       "      <th>na</th>\n",
       "      <th>ta</th>\n",
       "      <th>się</th>\n",
       "      <th>której</th>\n",
       "      <th>ponieważ</th>\n",
       "      <th>...</th>\n",
       "      <th>dlatego</th>\n",
       "      <th>jednak</th>\n",
       "      <th>jakkolwiek</th>\n",
       "      <th>bardziej</th>\n",
       "      <th>również</th>\n",
       "      <th>bowiem</th>\n",
       "      <th>znów</th>\n",
       "      <th>gdyż</th>\n",
       "      <th>natomiast</th>\n",
       "      <th>jednakże</th>\n",
       "    </tr>\n",
       "    <tr>\n",
       "      <th>labels</th>\n",
       "      <th></th>\n",
       "      <th></th>\n",
       "      <th></th>\n",
       "      <th></th>\n",
       "      <th></th>\n",
       "      <th></th>\n",
       "      <th></th>\n",
       "      <th></th>\n",
       "      <th></th>\n",
       "      <th></th>\n",
       "      <th></th>\n",
       "      <th></th>\n",
       "      <th></th>\n",
       "      <th></th>\n",
       "      <th></th>\n",
       "      <th></th>\n",
       "      <th></th>\n",
       "      <th></th>\n",
       "      <th></th>\n",
       "      <th></th>\n",
       "      <th></th>\n",
       "    </tr>\n",
       "  </thead>\n",
       "  <tbody>\n",
       "    <tr>\n",
       "      <th>AdamMickiewicz</th>\n",
       "      <td>0.00000242</td>\n",
       "      <td>0.00006234</td>\n",
       "      <td>0.00000168</td>\n",
       "      <td>0.00015418</td>\n",
       "      <td>0.00029702</td>\n",
       "      <td>0.00015121</td>\n",
       "      <td>0.00000338</td>\n",
       "      <td>0.00009852</td>\n",
       "      <td>0.00000079</td>\n",
       "      <td>0.00000009</td>\n",
       "      <td>...</td>\n",
       "      <td>0.00000038</td>\n",
       "      <td>0.00000048</td>\n",
       "      <td>0.00000011</td>\n",
       "      <td>0.00000010</td>\n",
       "      <td>0.00000002</td>\n",
       "      <td>0.00000003</td>\n",
       "      <td>0.00000007</td>\n",
       "      <td>0.00000166</td>\n",
       "      <td>0.00000000</td>\n",
       "      <td>0.00000000</td>\n",
       "    </tr>\n",
       "    <tr>\n",
       "      <th>HenrykSienkiewicz</th>\n",
       "      <td>0.00002846</td>\n",
       "      <td>0.00002370</td>\n",
       "      <td>0.00000023</td>\n",
       "      <td>0.00001121</td>\n",
       "      <td>0.00010626</td>\n",
       "      <td>0.00002190</td>\n",
       "      <td>0.00000041</td>\n",
       "      <td>0.00001784</td>\n",
       "      <td>0.00000028</td>\n",
       "      <td>0.00000071</td>\n",
       "      <td>...</td>\n",
       "      <td>0.00000031</td>\n",
       "      <td>0.00000430</td>\n",
       "      <td>0.00000005</td>\n",
       "      <td>0.00000004</td>\n",
       "      <td>0.00000007</td>\n",
       "      <td>0.00000012</td>\n",
       "      <td>0.00000061</td>\n",
       "      <td>0.00000252</td>\n",
       "      <td>0.00000010</td>\n",
       "      <td>0.00000024</td>\n",
       "    </tr>\n",
       "    <tr>\n",
       "      <th>Juliusz Słowacki</th>\n",
       "      <td>0.00002749</td>\n",
       "      <td>0.00002845</td>\n",
       "      <td>0.00000135</td>\n",
       "      <td>0.00023104</td>\n",
       "      <td>0.00084209</td>\n",
       "      <td>0.00007669</td>\n",
       "      <td>0.00000112</td>\n",
       "      <td>0.00008348</td>\n",
       "      <td>0.00000150</td>\n",
       "      <td>0.00000001</td>\n",
       "      <td>...</td>\n",
       "      <td>0.00000019</td>\n",
       "      <td>0.00000058</td>\n",
       "      <td>0.00000009</td>\n",
       "      <td>0.00000034</td>\n",
       "      <td>0.00000000</td>\n",
       "      <td>0.00000072</td>\n",
       "      <td>0.00000307</td>\n",
       "      <td>0.00000000</td>\n",
       "      <td>0.00000000</td>\n",
       "      <td>0.00000000</td>\n",
       "    </tr>\n",
       "  </tbody>\n",
       "</table>\n",
       "<p>3 rows × 195 columns</p>\n",
       "</div>"
      ],
      "text/plain": [
       "                        jest         to     między          w          i  \\\n",
       "labels                                                                     \n",
       "AdamMickiewicz    0.00000242 0.00006234 0.00000168 0.00015418 0.00029702   \n",
       "HenrykSienkiewicz 0.00002846 0.00002370 0.00000023 0.00001121 0.00010626   \n",
       "Juliusz Słowacki  0.00002749 0.00002845 0.00000135 0.00023104 0.00084209   \n",
       "\n",
       "                          na         ta        się     której   ponieważ  ...  \\\n",
       "labels                                                                    ...   \n",
       "AdamMickiewicz    0.00015121 0.00000338 0.00009852 0.00000079 0.00000009  ...   \n",
       "HenrykSienkiewicz 0.00002190 0.00000041 0.00001784 0.00000028 0.00000071  ...   \n",
       "Juliusz Słowacki  0.00007669 0.00000112 0.00008348 0.00000150 0.00000001  ...   \n",
       "\n",
       "                     dlatego     jednak  jakkolwiek   bardziej    również  \\\n",
       "labels                                                                      \n",
       "AdamMickiewicz    0.00000038 0.00000048  0.00000011 0.00000010 0.00000002   \n",
       "HenrykSienkiewicz 0.00000031 0.00000430  0.00000005 0.00000004 0.00000007   \n",
       "Juliusz Słowacki  0.00000019 0.00000058  0.00000009 0.00000034 0.00000000   \n",
       "\n",
       "                      bowiem       znów       gdyż  natomiast   jednakże  \n",
       "labels                                                                    \n",
       "AdamMickiewicz    0.00000003 0.00000007 0.00000166 0.00000000 0.00000000  \n",
       "HenrykSienkiewicz 0.00000012 0.00000061 0.00000252 0.00000010 0.00000024  \n",
       "Juliusz Słowacki  0.00000072 0.00000307 0.00000000 0.00000000 0.00000000  \n",
       "\n",
       "[3 rows x 195 columns]"
      ]
     },
     "execution_count": 94,
     "metadata": {},
     "output_type": "execute_result"
    }
   ],
   "source": [
    "data11.var()"
   ]
  },
  {
   "cell_type": "markdown",
   "id": "b149c632",
   "metadata": {},
   "source": [
    "W celu usunięcia słów, które pojawiają się wyłącznie w pojedyńczych dziełach możemy przyjąć pewne założenie, iż klasyfikacje będziemy przeprowadzać jedynie na słowach strukturyzujących zdanie takie jak 'że', 'który' lub 'i'. Słowa te nie będą charakterystyczne dla pojedyńczego autora czy dzieła, ponieważ pojawiają sie one w języku każdego człowieka, za to częstość ich występowania, może (i najprawdopodobnie jest) uzależniona od przyzwyczajenia do pewnej maniery w jakiej pewna osoba mówi. Dodatkową korzyścią takiego rozwiązania jest zdecydowanie oszczędności obliczeniowe."
   ]
  },
  {
   "cell_type": "code",
   "execution_count": 98,
   "id": "a17432d5",
   "metadata": {},
   "outputs": [
    {
     "data": {
      "text/html": [
       "<div>\n",
       "<style scoped>\n",
       "    .dataframe tbody tr th:only-of-type {\n",
       "        vertical-align: middle;\n",
       "    }\n",
       "\n",
       "    .dataframe tbody tr th {\n",
       "        vertical-align: top;\n",
       "    }\n",
       "\n",
       "    .dataframe thead th {\n",
       "        text-align: right;\n",
       "    }\n",
       "</style>\n",
       "<table border=\"1\" class=\"dataframe\">\n",
       "  <thead>\n",
       "    <tr style=\"text-align: right;\">\n",
       "      <th></th>\n",
       "      <th>jest</th>\n",
       "      <th>to</th>\n",
       "      <th>między</th>\n",
       "      <th>w</th>\n",
       "      <th>i</th>\n",
       "      <th>na</th>\n",
       "      <th>ta</th>\n",
       "      <th>się</th>\n",
       "      <th>której</th>\n",
       "      <th>ponieważ</th>\n",
       "      <th>...</th>\n",
       "      <th>dlatego</th>\n",
       "      <th>jednak</th>\n",
       "      <th>jakkolwiek</th>\n",
       "      <th>bardziej</th>\n",
       "      <th>również</th>\n",
       "      <th>bowiem</th>\n",
       "      <th>znów</th>\n",
       "      <th>gdyż</th>\n",
       "      <th>natomiast</th>\n",
       "      <th>jednakże</th>\n",
       "    </tr>\n",
       "    <tr>\n",
       "      <th>labels</th>\n",
       "      <th></th>\n",
       "      <th></th>\n",
       "      <th></th>\n",
       "      <th></th>\n",
       "      <th></th>\n",
       "      <th></th>\n",
       "      <th></th>\n",
       "      <th></th>\n",
       "      <th></th>\n",
       "      <th></th>\n",
       "      <th></th>\n",
       "      <th></th>\n",
       "      <th></th>\n",
       "      <th></th>\n",
       "      <th></th>\n",
       "      <th></th>\n",
       "      <th></th>\n",
       "      <th></th>\n",
       "      <th></th>\n",
       "      <th></th>\n",
       "      <th></th>\n",
       "    </tr>\n",
       "  </thead>\n",
       "  <tbody>\n",
       "    <tr>\n",
       "      <th>AdamMickiewicz</th>\n",
       "      <td>0.00760565</td>\n",
       "      <td>0.02120118</td>\n",
       "      <td>0.00211222</td>\n",
       "      <td>0.06591580</td>\n",
       "      <td>0.09050115</td>\n",
       "      <td>0.05148240</td>\n",
       "      <td>0.00215030</td>\n",
       "      <td>0.05234316</td>\n",
       "      <td>0.00095217</td>\n",
       "      <td>0.00011530</td>\n",
       "      <td>...</td>\n",
       "      <td>0.00043025</td>\n",
       "      <td>0.00038392</td>\n",
       "      <td>0.00016892</td>\n",
       "      <td>0.00021182</td>\n",
       "      <td>0.00007060</td>\n",
       "      <td>0.00006142</td>\n",
       "      <td>0.00009805</td>\n",
       "      <td>0.00050066</td>\n",
       "      <td>0.00000000</td>\n",
       "      <td>0.00000000</td>\n",
       "    </tr>\n",
       "    <tr>\n",
       "      <th>HenrykSienkiewicz</th>\n",
       "      <td>0.00849733</td>\n",
       "      <td>0.02796449</td>\n",
       "      <td>0.00227398</td>\n",
       "      <td>0.05194839</td>\n",
       "      <td>0.09133797</td>\n",
       "      <td>0.04437930</td>\n",
       "      <td>0.00133469</td>\n",
       "      <td>0.06187261</td>\n",
       "      <td>0.00167964</td>\n",
       "      <td>0.00064629</td>\n",
       "      <td>...</td>\n",
       "      <td>0.00143729</td>\n",
       "      <td>0.00340581</td>\n",
       "      <td>0.00033204</td>\n",
       "      <td>0.00091909</td>\n",
       "      <td>0.00067381</td>\n",
       "      <td>0.00125946</td>\n",
       "      <td>0.00214298</td>\n",
       "      <td>0.00214601</td>\n",
       "      <td>0.00071063</td>\n",
       "      <td>0.00066734</td>\n",
       "    </tr>\n",
       "    <tr>\n",
       "      <th>Juliusz Słowacki</th>\n",
       "      <td>0.00932685</td>\n",
       "      <td>0.01962010</td>\n",
       "      <td>0.00174237</td>\n",
       "      <td>0.07150455</td>\n",
       "      <td>0.09007021</td>\n",
       "      <td>0.05661929</td>\n",
       "      <td>0.00330791</td>\n",
       "      <td>0.05384090</td>\n",
       "      <td>0.00101192</td>\n",
       "      <td>0.00004896</td>\n",
       "      <td>...</td>\n",
       "      <td>0.00045855</td>\n",
       "      <td>0.00083054</td>\n",
       "      <td>0.00010748</td>\n",
       "      <td>0.00054798</td>\n",
       "      <td>0.00000000</td>\n",
       "      <td>0.00068330</td>\n",
       "      <td>0.00170012</td>\n",
       "      <td>0.00000000</td>\n",
       "      <td>0.00000000</td>\n",
       "      <td>0.00000000</td>\n",
       "    </tr>\n",
       "  </tbody>\n",
       "</table>\n",
       "<p>3 rows × 195 columns</p>\n",
       "</div>"
      ],
      "text/plain": [
       "                        jest         to     między          w          i  \\\n",
       "labels                                                                     \n",
       "AdamMickiewicz    0.00760565 0.02120118 0.00211222 0.06591580 0.09050115   \n",
       "HenrykSienkiewicz 0.00849733 0.02796449 0.00227398 0.05194839 0.09133797   \n",
       "Juliusz Słowacki  0.00932685 0.01962010 0.00174237 0.07150455 0.09007021   \n",
       "\n",
       "                          na         ta        się     której   ponieważ  ...  \\\n",
       "labels                                                                    ...   \n",
       "AdamMickiewicz    0.05148240 0.00215030 0.05234316 0.00095217 0.00011530  ...   \n",
       "HenrykSienkiewicz 0.04437930 0.00133469 0.06187261 0.00167964 0.00064629  ...   \n",
       "Juliusz Słowacki  0.05661929 0.00330791 0.05384090 0.00101192 0.00004896  ...   \n",
       "\n",
       "                     dlatego     jednak  jakkolwiek   bardziej    również  \\\n",
       "labels                                                                      \n",
       "AdamMickiewicz    0.00043025 0.00038392  0.00016892 0.00021182 0.00007060   \n",
       "HenrykSienkiewicz 0.00143729 0.00340581  0.00033204 0.00091909 0.00067381   \n",
       "Juliusz Słowacki  0.00045855 0.00083054  0.00010748 0.00054798 0.00000000   \n",
       "\n",
       "                      bowiem       znów       gdyż  natomiast   jednakże  \n",
       "labels                                                                    \n",
       "AdamMickiewicz    0.00006142 0.00009805 0.00050066 0.00000000 0.00000000  \n",
       "HenrykSienkiewicz 0.00125946 0.00214298 0.00214601 0.00071063 0.00066734  \n",
       "Juliusz Słowacki  0.00068330 0.00170012 0.00000000 0.00000000 0.00000000  \n",
       "\n",
       "[3 rows x 195 columns]"
      ]
     },
     "execution_count": 98,
     "metadata": {},
     "output_type": "execute_result"
    }
   ],
   "source": [
    "data22 = frequency(data2).groupby('labels')\n",
    "data22.mean()"
   ]
  },
  {
   "cell_type": "code",
   "execution_count": 100,
   "id": "93d2938a",
   "metadata": {},
   "outputs": [
    {
     "data": {
      "text/html": [
       "<div>\n",
       "<style scoped>\n",
       "    .dataframe tbody tr th:only-of-type {\n",
       "        vertical-align: middle;\n",
       "    }\n",
       "\n",
       "    .dataframe tbody tr th {\n",
       "        vertical-align: top;\n",
       "    }\n",
       "\n",
       "    .dataframe thead th {\n",
       "        text-align: right;\n",
       "    }\n",
       "</style>\n",
       "<table border=\"1\" class=\"dataframe\">\n",
       "  <thead>\n",
       "    <tr style=\"text-align: right;\">\n",
       "      <th></th>\n",
       "      <th>jest</th>\n",
       "      <th>to</th>\n",
       "      <th>między</th>\n",
       "      <th>w</th>\n",
       "      <th>i</th>\n",
       "      <th>na</th>\n",
       "      <th>ta</th>\n",
       "      <th>się</th>\n",
       "      <th>której</th>\n",
       "      <th>ponieważ</th>\n",
       "      <th>...</th>\n",
       "      <th>dlatego</th>\n",
       "      <th>jednak</th>\n",
       "      <th>jakkolwiek</th>\n",
       "      <th>bardziej</th>\n",
       "      <th>również</th>\n",
       "      <th>bowiem</th>\n",
       "      <th>znów</th>\n",
       "      <th>gdyż</th>\n",
       "      <th>natomiast</th>\n",
       "      <th>jednakże</th>\n",
       "    </tr>\n",
       "    <tr>\n",
       "      <th>labels</th>\n",
       "      <th></th>\n",
       "      <th></th>\n",
       "      <th></th>\n",
       "      <th></th>\n",
       "      <th></th>\n",
       "      <th></th>\n",
       "      <th></th>\n",
       "      <th></th>\n",
       "      <th></th>\n",
       "      <th></th>\n",
       "      <th></th>\n",
       "      <th></th>\n",
       "      <th></th>\n",
       "      <th></th>\n",
       "      <th></th>\n",
       "      <th></th>\n",
       "      <th></th>\n",
       "      <th></th>\n",
       "      <th></th>\n",
       "      <th></th>\n",
       "      <th></th>\n",
       "    </tr>\n",
       "  </thead>\n",
       "  <tbody>\n",
       "    <tr>\n",
       "      <th>AdamMickiewicz</th>\n",
       "      <td>0.00000242</td>\n",
       "      <td>0.00006234</td>\n",
       "      <td>0.00000168</td>\n",
       "      <td>0.00015418</td>\n",
       "      <td>0.00029702</td>\n",
       "      <td>0.00015121</td>\n",
       "      <td>0.00000338</td>\n",
       "      <td>0.00009852</td>\n",
       "      <td>0.00000079</td>\n",
       "      <td>0.00000009</td>\n",
       "      <td>...</td>\n",
       "      <td>0.00000038</td>\n",
       "      <td>0.00000048</td>\n",
       "      <td>0.00000011</td>\n",
       "      <td>0.00000010</td>\n",
       "      <td>0.00000002</td>\n",
       "      <td>0.00000003</td>\n",
       "      <td>0.00000007</td>\n",
       "      <td>0.00000166</td>\n",
       "      <td>0.00000000</td>\n",
       "      <td>0.00000000</td>\n",
       "    </tr>\n",
       "    <tr>\n",
       "      <th>HenrykSienkiewicz</th>\n",
       "      <td>0.00002846</td>\n",
       "      <td>0.00002370</td>\n",
       "      <td>0.00000023</td>\n",
       "      <td>0.00001121</td>\n",
       "      <td>0.00010626</td>\n",
       "      <td>0.00002190</td>\n",
       "      <td>0.00000041</td>\n",
       "      <td>0.00001784</td>\n",
       "      <td>0.00000028</td>\n",
       "      <td>0.00000071</td>\n",
       "      <td>...</td>\n",
       "      <td>0.00000031</td>\n",
       "      <td>0.00000430</td>\n",
       "      <td>0.00000005</td>\n",
       "      <td>0.00000004</td>\n",
       "      <td>0.00000007</td>\n",
       "      <td>0.00000012</td>\n",
       "      <td>0.00000061</td>\n",
       "      <td>0.00000252</td>\n",
       "      <td>0.00000010</td>\n",
       "      <td>0.00000024</td>\n",
       "    </tr>\n",
       "    <tr>\n",
       "      <th>Juliusz Słowacki</th>\n",
       "      <td>0.00002749</td>\n",
       "      <td>0.00002845</td>\n",
       "      <td>0.00000135</td>\n",
       "      <td>0.00023104</td>\n",
       "      <td>0.00084209</td>\n",
       "      <td>0.00007669</td>\n",
       "      <td>0.00000112</td>\n",
       "      <td>0.00008348</td>\n",
       "      <td>0.00000150</td>\n",
       "      <td>0.00000001</td>\n",
       "      <td>...</td>\n",
       "      <td>0.00000019</td>\n",
       "      <td>0.00000058</td>\n",
       "      <td>0.00000009</td>\n",
       "      <td>0.00000034</td>\n",
       "      <td>0.00000000</td>\n",
       "      <td>0.00000072</td>\n",
       "      <td>0.00000307</td>\n",
       "      <td>0.00000000</td>\n",
       "      <td>0.00000000</td>\n",
       "      <td>0.00000000</td>\n",
       "    </tr>\n",
       "  </tbody>\n",
       "</table>\n",
       "<p>3 rows × 195 columns</p>\n",
       "</div>"
      ],
      "text/plain": [
       "                        jest         to     między          w          i  \\\n",
       "labels                                                                     \n",
       "AdamMickiewicz    0.00000242 0.00006234 0.00000168 0.00015418 0.00029702   \n",
       "HenrykSienkiewicz 0.00002846 0.00002370 0.00000023 0.00001121 0.00010626   \n",
       "Juliusz Słowacki  0.00002749 0.00002845 0.00000135 0.00023104 0.00084209   \n",
       "\n",
       "                          na         ta        się     której   ponieważ  ...  \\\n",
       "labels                                                                    ...   \n",
       "AdamMickiewicz    0.00015121 0.00000338 0.00009852 0.00000079 0.00000009  ...   \n",
       "HenrykSienkiewicz 0.00002190 0.00000041 0.00001784 0.00000028 0.00000071  ...   \n",
       "Juliusz Słowacki  0.00007669 0.00000112 0.00008348 0.00000150 0.00000001  ...   \n",
       "\n",
       "                     dlatego     jednak  jakkolwiek   bardziej    również  \\\n",
       "labels                                                                      \n",
       "AdamMickiewicz    0.00000038 0.00000048  0.00000011 0.00000010 0.00000002   \n",
       "HenrykSienkiewicz 0.00000031 0.00000430  0.00000005 0.00000004 0.00000007   \n",
       "Juliusz Słowacki  0.00000019 0.00000058  0.00000009 0.00000034 0.00000000   \n",
       "\n",
       "                      bowiem       znów       gdyż  natomiast   jednakże  \n",
       "labels                                                                    \n",
       "AdamMickiewicz    0.00000003 0.00000007 0.00000166 0.00000000 0.00000000  \n",
       "HenrykSienkiewicz 0.00000012 0.00000061 0.00000252 0.00000010 0.00000024  \n",
       "Juliusz Słowacki  0.00000072 0.00000307 0.00000000 0.00000000 0.00000000  \n",
       "\n",
       "[3 rows x 195 columns]"
      ]
     },
     "execution_count": 100,
     "metadata": {},
     "output_type": "execute_result"
    }
   ],
   "source": [
    "data22.var()"
   ]
  },
  {
   "cell_type": "markdown",
   "id": "b661c0d8",
   "metadata": {},
   "source": [
    "Już na tym poziomie widzmy pewne prawidłowości. Jak widać Sienkiewicz jako jedyny używa słowa 'jednakże' oraz 'natomiast', a mała wariancja dla tych słów implikuje, że autor ten używa tego słowa dość regularnie w swoich dziełach. Tą teze bardzo łatwo zweryfikować."
   ]
  },
  {
   "cell_type": "code",
   "execution_count": 103,
   "id": "f2d418da",
   "metadata": {},
   "outputs": [
    {
     "data": {
      "text/plain": [
       "Name\n",
       "DziadyII                             0\n",
       "DziadyIII                            0\n",
       "DziadyIV                             0\n",
       "Grażyna                              0\n",
       "KonradWallendrod                     0\n",
       "PanTadeusz                           0\n",
       "Żywila                               0\n",
       "Bez dogmatu                         16\n",
       "Co się raz stało w Sydonie           0\n",
       "Krzyżacy Tom I                      52\n",
       "Krzyżacy Tom II                     65\n",
       "OgniemIMieczemTom1                  19\n",
       "Pan Wołodyjowski                    37\n",
       "Potop Tom I                         20\n",
       "Potop Tom II                        36\n",
       "Potop Tom III                       13\n",
       "Quo vadis                           50\n",
       "W pustyni i w puszczy               66\n",
       "Anhelli                              0\n",
       "Balladyna                            0\n",
       "Beniowski dalsze pieśni              0\n",
       "Beniowski pięć pierwszych pieśni     0\n",
       "Hugo                                 0\n",
       "Kordian                              0\n",
       "Król Duch                            0\n",
       "Maria Stuart                         0\n",
       "Name: jednakże, dtype: int64"
      ]
     },
     "execution_count": 103,
     "metadata": {},
     "output_type": "execute_result"
    }
   ],
   "source": [
    "data2['jednakże']"
   ]
  },
  {
   "cell_type": "markdown",
   "id": "fa7ee56e",
   "metadata": {},
   "source": [
    "Obserwacja ta prowadzi nas do kolejnego etapu analizy jaką jest uczenie klasyfikatora."
   ]
  },
  {
   "cell_type": "markdown",
   "id": "7feb5e18",
   "metadata": {},
   "source": [
    "___"
   ]
  },
  {
   "cell_type": "markdown",
   "id": "388d57c8",
   "metadata": {},
   "source": [
    "Teraz musimy stworzyć model, który będzie klasyfikował do jakiego autora należy dany utwór."
   ]
  },
  {
   "cell_type": "code",
   "execution_count": 82,
   "id": "697dbeac",
   "metadata": {},
   "outputs": [],
   "source": [
    "from sklearn.model_selection import train_test_split\n",
    "from sklearn.neighbors import NearestNeighbors\n",
    "from sklearn.neighbors import KNeighborsClassifier\n",
    "from sklearn.neighbors import NearestCentroid\n",
    "from sklearn.naive_bayes import GaussianNB\n",
    "from sklearn.linear_model import LinearRegression\n",
    "from sklearn.metrics import confusion_matrix\n",
    "from sklearn import metrics\n",
    "from sklearn import tree\n",
    "\n",
    "import matplotlib.pyplot as plt\n",
    "import random\n",
    "import re"
   ]
  },
  {
   "cell_type": "markdown",
   "id": "3c7d22f6",
   "metadata": {},
   "source": [
    "Metoda get_learning_data dzieli naszą macierz danych na dane uczące oraz testowe w pewnej proporcji. Dzięki temu będziemy mogli zweryfikować jak dobry nasz model jest."
   ]
  },
  {
   "cell_type": "code",
   "execution_count": 83,
   "id": "52fd7542",
   "metadata": {},
   "outputs": [],
   "source": [
    "def get_learning_data(df, proporcja):\n",
    "    opis_ucz, opis_test, dec_ucz, dec_test = train_test_split(df.drop(columns='labels'), df['labels'].astype('category').cat.codes, test_size=proporcja)#, random_state=0)\n",
    "    return {\"opis_ucz\":opis_ucz, \"opis_test\":opis_test, \"dec_ucz\":dec_ucz, \"dec_test\":dec_test}"
   ]
  },
  {
   "cell_type": "code",
   "execution_count": 84,
   "id": "3038487f",
   "metadata": {},
   "outputs": [],
   "source": [
    "def weryfikuj(model, data, show=True):\n",
    "    model.fit(data['opis_ucz'], data['dec_ucz'])\n",
    "    \n",
    "    learn_s = model.score(data['opis_ucz'], data['dec_ucz'])\n",
    "    test_s  = model.score(data['opis_test'], data['dec_test'])\n",
    "    \n",
    "    if show:\n",
    "        print(\"\\tWynik dla danych uczących: \", end=\"\")\n",
    "        print(learn_s)\n",
    "        print(\"\\tWynik dla danych testowych: \", end=\"\")\n",
    "        print(test_s)\n",
    "    \n",
    "    return learn_s, test_s"
   ]
  },
  {
   "cell_type": "code",
   "execution_count": 85,
   "id": "6ca0b34d",
   "metadata": {},
   "outputs": [],
   "source": [
    "models = ((\"NS\", KNeighborsClassifier(n_neighbors=1)), \n",
    "          (\"KNS5\", KNeighborsClassifier(n_neighbors=5)),\n",
    "          (\"KNS10\", KNeighborsClassifier(n_neighbors=10)), \n",
    "          (\"BK\", GaussianNB()),\n",
    "          (\"DT5\", tree.DecisionTreeClassifier(max_depth=5)),\n",
    "          (\"DT10\", tree.DecisionTreeClassifier(max_depth=10)))"
   ]
  },
  {
   "cell_type": "markdown",
   "id": "fd363f33",
   "metadata": {},
   "source": [
    "Przeprowadzimy teraz klasyfikacje na danych testowych w pięciu wariantach:\n",
    "* Worek słów składa się wyłącznie z stop słów.   \n",
    "* Worek słów składa się ze słów, które nie są stop słowami.   \n",
    "* Worek słów będzie składał się ze wszystkich słów.  \n",
    "* Worek słów będzie sumą wszystkich słów używanych przez autora we wszystkich dziełach.   \n",
    "* Worek słów będzie sumą wszystkich stop słów używanych przez autora we wszystkich dziełach.   \n",
    "\n",
    "Do wykonania tego zadania posłużą nam metoday:"
   ]
  },
  {
   "cell_type": "code",
   "execution_count": 37,
   "id": "73402255",
   "metadata": {},
   "outputs": [],
   "source": [
    "def merge_author(df):\n",
    "    d = pd.concat([df['opis_ucz'], df['dec_ucz']], axis=1)\n",
    "    d.groupby('labels').sum()\n",
    "    df['dec_ucz'] = d.loc[:,'labels']\n",
    "    df['opis_ucz'] = d.drop(columns=['labels'])\n",
    "    return df"
   ]
  },
  {
   "cell_type": "code",
   "execution_count": 114,
   "id": "95602800",
   "metadata": {
    "scrolled": false
   },
   "outputs": [],
   "source": [
    "def test_classifiers(df_o, tfidf_arg=False, NS=False, tries=100):\n",
    "    res = {}\n",
    "    df = df_o.copy()\n",
    "    progress = len(models)*tries\n",
    "    if not tfidf_arg:\n",
    "        df = frequency(df)\n",
    "    for index, name_mod in enumerate(models):\n",
    "        name, mod = name_mod\n",
    "        if NS and name != 'NS': continue\n",
    "        if mod is None:\n",
    "            break\n",
    "        sum_t = 0\n",
    "        sum_l = 0\n",
    "        line = \"Ukończono w {pr:.2f}%\"\n",
    "        for i in range(tries):\n",
    "            data = get_learning_data(df, 0.3)\n",
    "            if tfidf_arg:\n",
    "                data['opis_ucz'] = tfidf(data['opis_ucz'])\n",
    "                data['opis_test'] = tfidf(data['opis_test'])\n",
    "            d_l, d_t= weryfikuj(mod, data, show=False)\n",
    "            sum_l += d_l\n",
    "            sum_t += d_t\n",
    "            if NS:\n",
    "                print(line.format(pr=(index*tries + i + 1)*100/tries,) , end='\\r')\n",
    "            else:\n",
    "                print(line.format(pr=(index*tries + i + 1)*100/progress,) , end='\\r')\n",
    "        res[name] = (sum_l/tries, sum_t/tries)\n",
    "    respd = pd.DataFrame(res, index=[\"uczące\", \"testowe\"])\n",
    "    \n",
    "    return respd.T.sort_values(by='testowe')"
   ]
  },
  {
   "cell_type": "markdown",
   "id": "39cd2387",
   "metadata": {},
   "source": [
    "Najpierw wykonamy klasyfikacje wyłącznie używając częstości wystąpień danych słów w danym dziele:"
   ]
  },
  {
   "cell_type": "code",
   "execution_count": 115,
   "id": "c0244d4a",
   "metadata": {
    "scrolled": false
   },
   "outputs": [
    {
     "name": "stdout",
     "output_type": "stream",
     "text": [
      "Klasyfickaja bez stop słów\n",
      "Ukończono w 100.00%\r"
     ]
    },
    {
     "data": {
      "text/plain": [
       "<AxesSubplot:>"
      ]
     },
     "execution_count": 115,
     "metadata": {},
     "output_type": "execute_result"
    },
    {
     "data": {
      "image/png": "[encoded data removed]",
      "text/plain": [
       "<Figure size 640x480 with 1 Axes>"
      ]
     },
     "metadata": {},
     "output_type": "display_data"
    }
   ],
   "source": [
    "print(\"Klasyfickaja bez stop słów\")\n",
    "respd1 = test_classifiers(data1, tries=100)\n",
    "respd1.plot(kind='bar', rot = 45,  ylim=[0,1])"
   ]
  },
  {
   "cell_type": "code",
   "execution_count": 151,
   "id": "d5b2286a",
   "metadata": {},
   "outputs": [
    {
     "name": "stdout",
     "output_type": "stream",
     "text": [
      "Klasyfickaja na stop słowach\n",
      "Ukończono w 100.00%\r"
     ]
    },
    {
     "data": {
      "text/plain": [
       "<AxesSubplot:>"
      ]
     },
     "execution_count": 151,
     "metadata": {},
     "output_type": "execute_result"
    },
    {
     "data": {
      "image/png": "[encoded data removed]",
      "text/plain": [
       "<Figure size 640x480 with 1 Axes>"
      ]
     },
     "metadata": {},
     "output_type": "display_data"
    }
   ],
   "source": [
    "print(\"Klasyfickaja na stop słowach\")\n",
    "respd2 = test_classifiers(data2, tries=100)\n",
    "respd2.plot(kind='bar', rot = 45,  ylim=[0,1])"
   ]
  },
  {
   "cell_type": "code",
   "execution_count": 142,
   "id": "f964eeaa",
   "metadata": {
    "scrolled": false
   },
   "outputs": [
    {
     "name": "stdout",
     "output_type": "stream",
     "text": [
      "Klasyfickaja na wszystkich słowach\n",
      "Ukończono w 100.00%\r"
     ]
    },
    {
     "data": {
      "text/plain": [
       "<AxesSubplot:>"
      ]
     },
     "execution_count": 142,
     "metadata": {},
     "output_type": "execute_result"
    },
    {
     "data": {
      "image/png": "[encoded data removed]",
      "text/plain": [
       "<Figure size 640x480 with 1 Axes>"
      ]
     },
     "metadata": {},
     "output_type": "display_data"
    }
   ],
   "source": [
    "print(\"Klasyfickaja na wszystkich słowach\")\n",
    "respd3 = test_classifiers(data3, tries=100)\n",
    "respd3.plot(kind='bar', rot = 45,  ylim=[0,1])"
   ]
  },
  {
   "cell_type": "code",
   "execution_count": 153,
   "id": "0591cb6a",
   "metadata": {},
   "outputs": [
    {
     "data": {
      "text/plain": [
       "<AxesSubplot:>"
      ]
     },
     "execution_count": 153,
     "metadata": {},
     "output_type": "execute_result"
    },
    {
     "data": {
      "image/png": "[encoded data removed]",
      "text/plain": [
       "<Figure size 640x480 with 1 Axes>"
      ]
     },
     "metadata": {},
     "output_type": "display_data"
    }
   ],
   "source": [
    "to_plot = pd.concat([respd1.drop(columns=['uczące']),\n",
    "                        respd2.drop(columns=['uczące']),\n",
    "                        respd3.drop(columns=['uczące'])], axis=1)\n",
    "to_plot.columns = ['testowe bez stop słów', 'testowe na stop słowach', 'testowe na wszystkich słowach']\n",
    "to_plot.plot(kind='bar', rot = 45, ylim=[0,1])"
   ]
  },
  {
   "cell_type": "markdown",
   "id": "7b87c955",
   "metadata": {},
   "source": [
    "Na podstawie tych klasyfikacji widzimy, że nie jesteśmy w stanie otrzymać bardzo wysokich wyników dla klasyfikatorów. Najlepsze wyniki otrzymujemy dla klasyfikatora Bayesa na stop słowach osiągając dokładność prawie 70%. "
   ]
  },
  {
   "cell_type": "markdown",
   "id": "106ef7a3",
   "metadata": {},
   "source": [
    "Następną klasyfikacje wykonamy przy pomocy metryki tfidf."
   ]
  },
  {
   "cell_type": "code",
   "execution_count": 134,
   "id": "f9772c8e",
   "metadata": {
    "scrolled": false
   },
   "outputs": [
    {
     "name": "stdout",
     "output_type": "stream",
     "text": [
      "Klasyfickaja bez stop słów z metryką TFIDF\n",
      "Ukończono w 100.00%\r"
     ]
    },
    {
     "data": {
      "text/plain": [
       "<AxesSubplot:>"
      ]
     },
     "execution_count": 134,
     "metadata": {},
     "output_type": "execute_result"
    },
    {
     "data": {
      "image/png": "[encoded data removed]",
      "text/plain": [
       "<Figure size 640x480 with 1 Axes>"
      ]
     },
     "metadata": {},
     "output_type": "display_data"
    }
   ],
   "source": [
    "print(\"Klasyfickaja bez stop słów z metryką TFIDF\")\n",
    "respdTF1 = test_classifiers(data1, tfidf_arg=True, tries=100)\n",
    "respdTF1.plot(kind='bar', rot = 45,  ylim=[0,1])"
   ]
  },
  {
   "cell_type": "code",
   "execution_count": 135,
   "id": "d09090dd",
   "metadata": {},
   "outputs": [
    {
     "name": "stdout",
     "output_type": "stream",
     "text": [
      "Klasyfickaja na stop słowach z metryką TFIDF\n",
      "Ukończono w 100.00%\r"
     ]
    },
    {
     "data": {
      "text/plain": [
       "<AxesSubplot:>"
      ]
     },
     "execution_count": 135,
     "metadata": {},
     "output_type": "execute_result"
    },
    {
     "data": {
      "image/png": "[encoded data removed]",
      "text/plain": [
       "<Figure size 640x480 with 1 Axes>"
      ]
     },
     "metadata": {},
     "output_type": "display_data"
    }
   ],
   "source": [
    "print(\"Klasyfickaja na stop słowach z metryką TFIDF\")\n",
    "respdTF2 = test_classifiers(data2, tfidf_arg=True, tries=100)\n",
    "respdTF2.plot(kind='bar', rot = 45,  ylim=[0,1])"
   ]
  },
  {
   "cell_type": "code",
   "execution_count": 144,
   "id": "d84dbadf",
   "metadata": {},
   "outputs": [
    {
     "name": "stdout",
     "output_type": "stream",
     "text": [
      "Klasyfickaja na wszyskich słowach z metryką TFIDF\n",
      "Ukończono w 100.00%\r"
     ]
    },
    {
     "data": {
      "text/plain": [
       "<AxesSubplot:>"
      ]
     },
     "execution_count": 144,
     "metadata": {},
     "output_type": "execute_result"
    },
    {
     "data": {
      "image/png": "[encoded data removed]",
      "text/plain": [
       "<Figure size 640x480 with 1 Axes>"
      ]
     },
     "metadata": {},
     "output_type": "display_data"
    }
   ],
   "source": [
    "print(\"Klasyfickaja na wszyskich słowach z metryką TFIDF\")\n",
    "respdTF3 = test_classifiers(data3, tfidf_arg=True, tries=100)\n",
    "respdTF3.plot(kind='bar', rot = 45,  ylim=[0,1])"
   ]
  },
  {
   "cell_type": "code",
   "execution_count": 149,
   "id": "9a126b72",
   "metadata": {},
   "outputs": [
    {
     "data": {
      "text/plain": [
       "<AxesSubplot:>"
      ]
     },
     "execution_count": 149,
     "metadata": {},
     "output_type": "execute_result"
    },
    {
     "data": {
      "image/png": "[encoded data removed]",
      "text/plain": [
       "<Figure size 640x480 with 1 Axes>"
      ]
     },
     "metadata": {},
     "output_type": "display_data"
    }
   ],
   "source": [
    "to_plot_TF = pd.concat([respdTF1.drop(columns=['uczące']),\n",
    "                        respdTF2.drop(columns=['uczące']),\n",
    "                        respdTF3.drop(columns=['uczące'])], axis=1)\n",
    "to_plot_TF.columns = ['testowe bez stop słów', 'testowe na stop słowach', 'testowe na wszystkich słowach']\n",
    "to_plot_TF.plot(kind='bar', rot = 45, ylim=[0,1])"
   ]
  },
  {
   "cell_type": "markdown",
   "id": "bf0f510a",
   "metadata": {},
   "source": [
    "Przy użyciu metryki TFIDF udało nam się trochę \"ulepszyć\" zbiór uczący. Jak widzimy teraz wyniki uzyskiwane przez poszczególne klasyfikatory są trochę lepsze"
   ]
  },
  {
   "cell_type": "markdown",
   "id": "0de7a88e",
   "metadata": {},
   "source": [
    "Klasyfikacja gdy łączymy wszystkie dzieła 1 autora."
   ]
  },
  {
   "cell_type": "code",
   "execution_count": 148,
   "id": "44ebddad",
   "metadata": {
    "scrolled": false
   },
   "outputs": [
    {
     "name": "stdout",
     "output_type": "stream",
     "text": [
      "Klasyfickaja na stop słowach\n",
      "Klasyfickaja bez stop słów\n",
      "Klasyfickaja na wszystkich słowach\n",
      "##################################\n"
     ]
    },
    {
     "data": {
      "text/plain": [
       "<AxesSubplot:>"
      ]
     },
     "execution_count": 148,
     "metadata": {},
     "output_type": "execute_result"
    },
    {
     "data": {
      "image/png": "[encoded data removed]",
      "text/plain": [
       "<Figure size 640x480 with 1 Axes>"
      ]
     },
     "metadata": {},
     "output_type": "display_data"
    }
   ],
   "source": [
    "print(\"Klasyfickaja na stop słowach\")\n",
    "respdNS1 = test_classifiers(data1, NS=True, tries=1000)\n",
    "print(\"Klasyfickaja bez stop słów\")\n",
    "respdNS2 = test_classifiers(data2, NS=True, tries=1000)\n",
    "print(\"Klasyfickaja na wszystkich słowach\")\n",
    "respdNS3 = test_classifiers(data3, NS=True, tries=1000)\n",
    "print(\"##################################\")"
   ]
  },
  {
   "cell_type": "code",
   "execution_count": 154,
   "id": "9dc4162c",
   "metadata": {
    "scrolled": false
   },
   "outputs": [
    {
     "data": {
      "text/plain": [
       "<AxesSubplot:>"
      ]
     },
     "execution_count": 154,
     "metadata": {},
     "output_type": "execute_result"
    },
    {
     "data": {
      "image/png": "[encoded data removed]",
      "text/plain": [
       "<Figure size 640x480 with 1 Axes>"
      ]
     },
     "metadata": {},
     "output_type": "display_data"
    }
   ],
   "source": [
    "to_plot_NS = pd.concat([respdNS1.drop(columns=['uczące']),\n",
    "                        respdNS2.drop(columns=['uczące']),\n",
    "                        respdNS3.drop(columns=['uczące'])], axis=1)\n",
    "to_plot_NS.columns = ['testowe bez stop słów', 'testowe na stop słowach', 'testowe na wszystkich słowach']\n",
    "to_plot_NS.plot(kind='bar', rot = 45,  ylim=[0,1])"
   ]
  },
  {
   "cell_type": "markdown",
   "id": "d5400496",
   "metadata": {},
   "source": [
    "Przy użwyaniu prototypu autora uzyskujemy podobne do siebie wyniki nie zależnie od przyjętej metody. Choć minimalnie lepszy okazały się być worki słów na wszystkich słowach, jednakże (żaden ze mnie Słowacki) różnica między danymi na stop słowach są znikome a oszczędność obliczeniowa jest duża, co może być ważną cechą do odnotowania."
   ]
  },
  {
   "cell_type": "code",
   "execution_count": 79,
   "id": "6f02f07e",
   "metadata": {},
   "outputs": [],
   "source": [
    "def test_for_lengths(model, traindf, files, mini=100, maxi=5100, step=1000, tries=10):\n",
    "    classificator = model\n",
    "    classificator.fit(traindf.drop(columns='labels'), traindf['labels'])\n",
    "    books = []\n",
    "    labels = []\n",
    "    index = []\n",
    "    results = []\n",
    "    sizes = []\n",
    "    nmin = np.Infinity\n",
    "    \n",
    "    for path, name, label in zip(files['FilePath'], files['Name of The work'], files['Author']):\n",
    "        labels.append(label)\n",
    "        index.append(name)\n",
    "        n, cont = get_text(path)\n",
    "        cont = normalize_text(cont)\n",
    "        cont = cont.replace('\\n', ' ')\n",
    "        words = cont.split(' ')\n",
    "        nmin = min(nmin, len(words))\n",
    "        books.append(words)\n",
    "        \n",
    "    line = \"Ukończono w {pr:.2f}%\"\n",
    "    s = (maxi - mini)//step\n",
    "    progress = s*tries\n",
    "    \n",
    "    for i in range(mini, maxi + 1, step):\n",
    "        sum = 0\n",
    "        if i >= nmin:\n",
    "            break\n",
    "        for t in range(tries):\n",
    "            print(line.format(pr=(((i - mini)//step*tries + t + 1)*100/progress)), end='\\r')         \n",
    "            bags = []\n",
    "            \n",
    "            for text in books:\n",
    "                start = random.randint(0, len(text) - i)\n",
    "                bags.append(bag_from_list(text[start:], mode=0, nwords=i))\n",
    "                \n",
    "            df = merge_dics_to_df(bags)\n",
    "            df = frequency(df)\n",
    "            df['labels'] = labels\n",
    "            df = df.merge(traindf, how='left')\n",
    "            df = df[traindf.columns]\n",
    "            df = df.fillna(0)\n",
    "            \n",
    "            sum += classificator.score(df.drop(columns='labels'), df['labels'])\n",
    "        results.append(sum / tries)\n",
    "        sizes.append(i)\n",
    "    return results, sizes"
   ]
  },
  {
   "cell_type": "code",
   "execution_count": 61,
   "id": "386653e9",
   "metadata": {},
   "outputs": [],
   "source": [
    "def test_for_lengths(model, traindf, files, mini=100, maxi=5100, step=1000, tries=10):\n",
    "    classificator = model\n",
    "    classificator.fit(traindf.drop(columns='labels'), traindf['labels'])\n",
    "    books = []\n",
    "    labels = []\n",
    "    index = []\n",
    "    results = []\n",
    "    sizes = []\n",
    "    nmin = np.Infinity\n",
    "    \n",
    "    for path, name, label in zip(files['FilePath'], files['Name of The work'], files['Author']):\n",
    "        labels.append(label)\n",
    "        index.append(name)\n",
    "        n, cont = get_text(path)\n",
    "        cont = normalize_text(cont)\n",
    "        cont = cont.replace('\\n', ' ')\n",
    "        words = cont.split(' ')\n",
    "        nmin = min(nmin, len(words))\n",
    "        books.append(words)\n",
    "        \n",
    "    line = \"Ukończono w {pr:.2f}%\"\n",
    "    s = (maxi - mini)//step\n",
    "    progress = s*tries\n",
    "    \n",
    "    gen = range(mini, maxi + 1, step)\n",
    "    sizes = [*gen]\n",
    "    \n",
    "    sum = [0] * len(sizes)\n",
    "\n",
    "    for t in range(tries):\n",
    "        print(line.format(pr=((t + 1)*100/tries)), end='\\r')         \n",
    "        bags = []\n",
    "\n",
    "        for text in books:\n",
    "            start = random.randint(0, len(text))\n",
    "            bags.append(bag_from_list(text[start:], mode=0, nwords=gen))\n",
    "\n",
    "        for batch in zip(bags):\n",
    "            df = merge_dics_to_df(batch)\n",
    "            df = frequency(df)\n",
    "            df['labels'] = labels\n",
    "            df = df.merge(traindf, how='left')\n",
    "            df = df[traindf.columns]\n",
    "            df = df.fillna(0)\n",
    "\n",
    "        sum += classificator.score(df.drop(columns='labels'), df['labels'])\n",
    "    results.append(sum / tries)\n",
    "        \n",
    "    return results, sizes"
   ]
  },
  {
   "cell_type": "code",
   "execution_count": 80,
   "id": "6df594d0",
   "metadata": {},
   "outputs": [],
   "source": [
    "def bag_from_list(lst, mode=0, nwords=0):\n",
    "    word_bag = {}\n",
    "    words_in_bag = 0\n",
    "    for word in lst:\n",
    "        if words_in_bag >= nwords:\n",
    "            break\n",
    "        if word == '':\n",
    "            continue\n",
    "        if (mode==0) or (mode==1 and not word in stop_word) or (mode==2 and word in stop_word):\n",
    "            words_in_bag += 1\n",
    "            if word in word_bag:\n",
    "                word_bag[word] += 1\n",
    "            else:\n",
    "                word_bag[word] = 1\n",
    "    return word_bag     "
   ]
  },
  {
   "cell_type": "code",
   "execution_count": 87,
   "id": "6812e65a",
   "metadata": {
    "scrolled": true
   },
   "outputs": [],
   "source": [
    "data = load(files.drop([0, 11, 23]), mode=0)\n",
    "fdata = frequency(data)"
   ]
  },
  {
   "cell_type": "code",
   "execution_count": 88,
   "id": "bdc8ab51",
   "metadata": {
    "scrolled": false
   },
   "outputs": [
    {
     "name": "stdout",
     "output_type": "stream",
     "text": [
      "Ukończono w 62.11%\r"
     ]
    },
    {
     "ename": "KeyboardInterrupt",
     "evalue": "",
     "output_type": "error",
     "traceback": [
      "\u001b[1;31m---------------------------------------------------------------------------\u001b[0m",
      "\u001b[1;31mKeyboardInterrupt\u001b[0m                         Traceback (most recent call last)",
      "\u001b[1;32m~\\AppData\\Local\\Temp\\ipykernel_20348\\2748548238.py\u001b[0m in \u001b[0;36m<module>\u001b[1;34m\u001b[0m\n\u001b[0;32m      8\u001b[0m \u001b[0mpr\u001b[0m\u001b[1;33m.\u001b[0m\u001b[0menable\u001b[0m\u001b[1;33m(\u001b[0m\u001b[1;33m)\u001b[0m\u001b[1;33m\u001b[0m\u001b[1;33m\u001b[0m\u001b[0m\n\u001b[0;32m      9\u001b[0m \u001b[1;33m\u001b[0m\u001b[0m\n\u001b[1;32m---> 10\u001b[1;33m \u001b[0mr\u001b[0m\u001b[1;33m,\u001b[0m \u001b[0ms\u001b[0m \u001b[1;33m=\u001b[0m \u001b[0mtest_for_lengths\u001b[0m\u001b[1;33m(\u001b[0m\u001b[0mtree\u001b[0m\u001b[1;33m.\u001b[0m\u001b[0mDecisionTreeClassifier\u001b[0m\u001b[1;33m(\u001b[0m\u001b[0mmax_depth\u001b[0m\u001b[1;33m=\u001b[0m\u001b[1;36m5\u001b[0m\u001b[1;33m)\u001b[0m\u001b[1;33m,\u001b[0m \u001b[0mfdata\u001b[0m\u001b[1;33m,\u001b[0m \u001b[0mfiles\u001b[0m\u001b[1;33m.\u001b[0m\u001b[0mloc\u001b[0m\u001b[1;33m[\u001b[0m\u001b[1;33m[\u001b[0m\u001b[1;36m0\u001b[0m\u001b[1;33m,\u001b[0m \u001b[1;36m11\u001b[0m\u001b[1;33m,\u001b[0m \u001b[1;36m23\u001b[0m\u001b[1;33m]\u001b[0m\u001b[1;33m,\u001b[0m\u001b[1;33m:\u001b[0m\u001b[1;33m]\u001b[0m\u001b[1;33m,\u001b[0m \u001b[0mmini\u001b[0m\u001b[1;33m=\u001b[0m\u001b[1;36m100\u001b[0m\u001b[1;33m,\u001b[0m \u001b[0mmaxi\u001b[0m\u001b[1;33m=\u001b[0m\u001b[1;36m2000\u001b[0m\u001b[1;33m,\u001b[0m \u001b[0mstep\u001b[0m\u001b[1;33m=\u001b[0m\u001b[1;36m100\u001b[0m\u001b[1;33m,\u001b[0m \u001b[0mtries\u001b[0m\u001b[1;33m=\u001b[0m\u001b[1;36m10\u001b[0m\u001b[1;33m)\u001b[0m\u001b[1;33m\u001b[0m\u001b[1;33m\u001b[0m\u001b[0m\n\u001b[0m\u001b[0;32m     11\u001b[0m \u001b[1;33m\u001b[0m\u001b[0m\n\u001b[0;32m     12\u001b[0m \u001b[0mpr\u001b[0m\u001b[1;33m.\u001b[0m\u001b[0mdisable\u001b[0m\u001b[1;33m(\u001b[0m\u001b[1;33m)\u001b[0m\u001b[1;33m\u001b[0m\u001b[1;33m\u001b[0m\u001b[0m\n",
      "\u001b[1;32m~\\AppData\\Local\\Temp\\ipykernel_20348\\1447650352.py\u001b[0m in \u001b[0;36mtest_for_lengths\u001b[1;34m(model, traindf, files, mini, maxi, step, tries)\u001b[0m\n\u001b[0;32m     38\u001b[0m             \u001b[0mdf\u001b[0m \u001b[1;33m=\u001b[0m \u001b[0mfrequency\u001b[0m\u001b[1;33m(\u001b[0m\u001b[0mdf\u001b[0m\u001b[1;33m)\u001b[0m\u001b[1;33m\u001b[0m\u001b[1;33m\u001b[0m\u001b[0m\n\u001b[0;32m     39\u001b[0m             \u001b[0mdf\u001b[0m\u001b[1;33m[\u001b[0m\u001b[1;34m'labels'\u001b[0m\u001b[1;33m]\u001b[0m \u001b[1;33m=\u001b[0m \u001b[0mlabels\u001b[0m\u001b[1;33m\u001b[0m\u001b[1;33m\u001b[0m\u001b[0m\n\u001b[1;32m---> 40\u001b[1;33m             \u001b[0mdf\u001b[0m \u001b[1;33m=\u001b[0m \u001b[0mdf\u001b[0m\u001b[1;33m.\u001b[0m\u001b[0mmerge\u001b[0m\u001b[1;33m(\u001b[0m\u001b[0mtraindf\u001b[0m\u001b[1;33m,\u001b[0m \u001b[0mhow\u001b[0m\u001b[1;33m=\u001b[0m\u001b[1;34m'left'\u001b[0m\u001b[1;33m)\u001b[0m\u001b[1;33m\u001b[0m\u001b[1;33m\u001b[0m\u001b[0m\n\u001b[0m\u001b[0;32m     41\u001b[0m             \u001b[0mdf\u001b[0m \u001b[1;33m=\u001b[0m \u001b[0mdf\u001b[0m\u001b[1;33m[\u001b[0m\u001b[0mtraindf\u001b[0m\u001b[1;33m.\u001b[0m\u001b[0mcolumns\u001b[0m\u001b[1;33m]\u001b[0m\u001b[1;33m\u001b[0m\u001b[1;33m\u001b[0m\u001b[0m\n\u001b[0;32m     42\u001b[0m             \u001b[0mdf\u001b[0m \u001b[1;33m=\u001b[0m \u001b[0mdf\u001b[0m\u001b[1;33m.\u001b[0m\u001b[0mfillna\u001b[0m\u001b[1;33m(\u001b[0m\u001b[1;36m0\u001b[0m\u001b[1;33m)\u001b[0m\u001b[1;33m\u001b[0m\u001b[1;33m\u001b[0m\u001b[0m\n",
      "\u001b[1;32m~\\Programy\\lib\\site-packages\\pandas\\core\\frame.py\u001b[0m in \u001b[0;36mmerge\u001b[1;34m(self, right, how, on, left_on, right_on, left_index, right_index, sort, suffixes, copy, indicator, validate)\u001b[0m\n\u001b[0;32m   9352\u001b[0m         \u001b[1;32mfrom\u001b[0m \u001b[0mpandas\u001b[0m\u001b[1;33m.\u001b[0m\u001b[0mcore\u001b[0m\u001b[1;33m.\u001b[0m\u001b[0mreshape\u001b[0m\u001b[1;33m.\u001b[0m\u001b[0mmerge\u001b[0m \u001b[1;32mimport\u001b[0m \u001b[0mmerge\u001b[0m\u001b[1;33m\u001b[0m\u001b[1;33m\u001b[0m\u001b[0m\n\u001b[0;32m   9353\u001b[0m \u001b[1;33m\u001b[0m\u001b[0m\n\u001b[1;32m-> 9354\u001b[1;33m         return merge(\n\u001b[0m\u001b[0;32m   9355\u001b[0m             \u001b[0mself\u001b[0m\u001b[1;33m,\u001b[0m\u001b[1;33m\u001b[0m\u001b[1;33m\u001b[0m\u001b[0m\n\u001b[0;32m   9356\u001b[0m             \u001b[0mright\u001b[0m\u001b[1;33m,\u001b[0m\u001b[1;33m\u001b[0m\u001b[1;33m\u001b[0m\u001b[0m\n",
      "\u001b[1;32m~\\Programy\\lib\\site-packages\\pandas\\core\\reshape\\merge.py\u001b[0m in \u001b[0;36mmerge\u001b[1;34m(left, right, how, on, left_on, right_on, left_index, right_index, sort, suffixes, copy, indicator, validate)\u001b[0m\n\u001b[0;32m    120\u001b[0m         \u001b[0mvalidate\u001b[0m\u001b[1;33m=\u001b[0m\u001b[0mvalidate\u001b[0m\u001b[1;33m,\u001b[0m\u001b[1;33m\u001b[0m\u001b[1;33m\u001b[0m\u001b[0m\n\u001b[0;32m    121\u001b[0m     )\n\u001b[1;32m--> 122\u001b[1;33m     \u001b[1;32mreturn\u001b[0m \u001b[0mop\u001b[0m\u001b[1;33m.\u001b[0m\u001b[0mget_result\u001b[0m\u001b[1;33m(\u001b[0m\u001b[1;33m)\u001b[0m\u001b[1;33m\u001b[0m\u001b[1;33m\u001b[0m\u001b[0m\n\u001b[0m\u001b[0;32m    123\u001b[0m \u001b[1;33m\u001b[0m\u001b[0m\n\u001b[0;32m    124\u001b[0m \u001b[1;33m\u001b[0m\u001b[0m\n",
      "\u001b[1;32m~\\Programy\\lib\\site-packages\\pandas\\core\\reshape\\merge.py\u001b[0m in \u001b[0;36mget_result\u001b[1;34m(self)\u001b[0m\n\u001b[0;32m    714\u001b[0m             \u001b[0mself\u001b[0m\u001b[1;33m.\u001b[0m\u001b[0mleft\u001b[0m\u001b[1;33m,\u001b[0m \u001b[0mself\u001b[0m\u001b[1;33m.\u001b[0m\u001b[0mright\u001b[0m \u001b[1;33m=\u001b[0m \u001b[0mself\u001b[0m\u001b[1;33m.\u001b[0m\u001b[0m_indicator_pre_merge\u001b[0m\u001b[1;33m(\u001b[0m\u001b[0mself\u001b[0m\u001b[1;33m.\u001b[0m\u001b[0mleft\u001b[0m\u001b[1;33m,\u001b[0m \u001b[0mself\u001b[0m\u001b[1;33m.\u001b[0m\u001b[0mright\u001b[0m\u001b[1;33m)\u001b[0m\u001b[1;33m\u001b[0m\u001b[1;33m\u001b[0m\u001b[0m\n\u001b[0;32m    715\u001b[0m \u001b[1;33m\u001b[0m\u001b[0m\n\u001b[1;32m--> 716\u001b[1;33m         \u001b[0mjoin_index\u001b[0m\u001b[1;33m,\u001b[0m \u001b[0mleft_indexer\u001b[0m\u001b[1;33m,\u001b[0m \u001b[0mright_indexer\u001b[0m \u001b[1;33m=\u001b[0m \u001b[0mself\u001b[0m\u001b[1;33m.\u001b[0m\u001b[0m_get_join_info\u001b[0m\u001b[1;33m(\u001b[0m\u001b[1;33m)\u001b[0m\u001b[1;33m\u001b[0m\u001b[1;33m\u001b[0m\u001b[0m\n\u001b[0m\u001b[0;32m    717\u001b[0m \u001b[1;33m\u001b[0m\u001b[0m\n\u001b[0;32m    718\u001b[0m         llabels, rlabels = _items_overlap_with_suffix(\n",
      "\u001b[1;32m~\\Programy\\lib\\site-packages\\pandas\\core\\reshape\\merge.py\u001b[0m in \u001b[0;36m_get_join_info\u001b[1;34m(self)\u001b[0m\n\u001b[0;32m    965\u001b[0m             )\n\u001b[0;32m    966\u001b[0m         \u001b[1;32melse\u001b[0m\u001b[1;33m:\u001b[0m\u001b[1;33m\u001b[0m\u001b[1;33m\u001b[0m\u001b[0m\n\u001b[1;32m--> 967\u001b[1;33m             \u001b[1;33m(\u001b[0m\u001b[0mleft_indexer\u001b[0m\u001b[1;33m,\u001b[0m \u001b[0mright_indexer\u001b[0m\u001b[1;33m)\u001b[0m \u001b[1;33m=\u001b[0m \u001b[0mself\u001b[0m\u001b[1;33m.\u001b[0m\u001b[0m_get_join_indexers\u001b[0m\u001b[1;33m(\u001b[0m\u001b[1;33m)\u001b[0m\u001b[1;33m\u001b[0m\u001b[1;33m\u001b[0m\u001b[0m\n\u001b[0m\u001b[0;32m    968\u001b[0m \u001b[1;33m\u001b[0m\u001b[0m\n\u001b[0;32m    969\u001b[0m             \u001b[1;32mif\u001b[0m \u001b[0mself\u001b[0m\u001b[1;33m.\u001b[0m\u001b[0mright_index\u001b[0m\u001b[1;33m:\u001b[0m\u001b[1;33m\u001b[0m\u001b[1;33m\u001b[0m\u001b[0m\n",
      "\u001b[1;32m~\\Programy\\lib\\site-packages\\pandas\\core\\reshape\\merge.py\u001b[0m in \u001b[0;36m_get_join_indexers\u001b[1;34m(self)\u001b[0m\n\u001b[0;32m    939\u001b[0m     \u001b[1;32mdef\u001b[0m \u001b[0m_get_join_indexers\u001b[0m\u001b[1;33m(\u001b[0m\u001b[0mself\u001b[0m\u001b[1;33m)\u001b[0m \u001b[1;33m->\u001b[0m \u001b[0mtuple\u001b[0m\u001b[1;33m[\u001b[0m\u001b[0mnpt\u001b[0m\u001b[1;33m.\u001b[0m\u001b[0mNDArray\u001b[0m\u001b[1;33m[\u001b[0m\u001b[0mnp\u001b[0m\u001b[1;33m.\u001b[0m\u001b[0mintp\u001b[0m\u001b[1;33m]\u001b[0m\u001b[1;33m,\u001b[0m \u001b[0mnpt\u001b[0m\u001b[1;33m.\u001b[0m\u001b[0mNDArray\u001b[0m\u001b[1;33m[\u001b[0m\u001b[0mnp\u001b[0m\u001b[1;33m.\u001b[0m\u001b[0mintp\u001b[0m\u001b[1;33m]\u001b[0m\u001b[1;33m]\u001b[0m\u001b[1;33m:\u001b[0m\u001b[1;33m\u001b[0m\u001b[1;33m\u001b[0m\u001b[0m\n\u001b[0;32m    940\u001b[0m         \u001b[1;34m\"\"\"return the join indexers\"\"\"\u001b[0m\u001b[1;33m\u001b[0m\u001b[1;33m\u001b[0m\u001b[0m\n\u001b[1;32m--> 941\u001b[1;33m         return get_join_indexers(\n\u001b[0m\u001b[0;32m    942\u001b[0m             \u001b[0mself\u001b[0m\u001b[1;33m.\u001b[0m\u001b[0mleft_join_keys\u001b[0m\u001b[1;33m,\u001b[0m \u001b[0mself\u001b[0m\u001b[1;33m.\u001b[0m\u001b[0mright_join_keys\u001b[0m\u001b[1;33m,\u001b[0m \u001b[0msort\u001b[0m\u001b[1;33m=\u001b[0m\u001b[0mself\u001b[0m\u001b[1;33m.\u001b[0m\u001b[0msort\u001b[0m\u001b[1;33m,\u001b[0m \u001b[0mhow\u001b[0m\u001b[1;33m=\u001b[0m\u001b[0mself\u001b[0m\u001b[1;33m.\u001b[0m\u001b[0mhow\u001b[0m\u001b[1;33m\u001b[0m\u001b[1;33m\u001b[0m\u001b[0m\n\u001b[0;32m    943\u001b[0m         )\n",
      "\u001b[1;32m~\\Programy\\lib\\site-packages\\pandas\\core\\reshape\\merge.py\u001b[0m in \u001b[0;36mget_join_indexers\u001b[1;34m(left_keys, right_keys, sort, how, **kwargs)\u001b[0m\n\u001b[0;32m   1490\u001b[0m \u001b[1;33m\u001b[0m\u001b[0m\n\u001b[0;32m   1491\u001b[0m     \u001b[1;31m# get flat i8 keys from label lists\u001b[0m\u001b[1;33m\u001b[0m\u001b[1;33m\u001b[0m\u001b[0m\n\u001b[1;32m-> 1492\u001b[1;33m     \u001b[0mlkey\u001b[0m\u001b[1;33m,\u001b[0m \u001b[0mrkey\u001b[0m \u001b[1;33m=\u001b[0m \u001b[0m_get_join_keys\u001b[0m\u001b[1;33m(\u001b[0m\u001b[0mllab\u001b[0m\u001b[1;33m,\u001b[0m \u001b[0mrlab\u001b[0m\u001b[1;33m,\u001b[0m \u001b[0mshape\u001b[0m\u001b[1;33m,\u001b[0m \u001b[0msort\u001b[0m\u001b[1;33m)\u001b[0m\u001b[1;33m\u001b[0m\u001b[1;33m\u001b[0m\u001b[0m\n\u001b[0m\u001b[0;32m   1493\u001b[0m \u001b[1;33m\u001b[0m\u001b[0m\n\u001b[0;32m   1494\u001b[0m     \u001b[1;31m# factorize keys to a dense i8 space\u001b[0m\u001b[1;33m\u001b[0m\u001b[1;33m\u001b[0m\u001b[0m\n",
      "\u001b[1;32m~\\Programy\\lib\\site-packages\\pandas\\core\\reshape\\merge.py\u001b[0m in \u001b[0;36m_get_join_keys\u001b[1;34m(llab, rlab, shape, sort)\u001b[0m\n\u001b[0;32m   2261\u001b[0m     \u001b[0mshape\u001b[0m \u001b[1;33m=\u001b[0m \u001b[1;33m[\u001b[0m\u001b[0mcount\u001b[0m\u001b[1;33m]\u001b[0m \u001b[1;33m+\u001b[0m \u001b[0mshape\u001b[0m\u001b[1;33m[\u001b[0m\u001b[0mnlev\u001b[0m\u001b[1;33m:\u001b[0m\u001b[1;33m]\u001b[0m\u001b[1;33m\u001b[0m\u001b[1;33m\u001b[0m\u001b[0m\n\u001b[0;32m   2262\u001b[0m \u001b[1;33m\u001b[0m\u001b[0m\n\u001b[1;32m-> 2263\u001b[1;33m     \u001b[1;32mreturn\u001b[0m \u001b[0m_get_join_keys\u001b[0m\u001b[1;33m(\u001b[0m\u001b[0mllab\u001b[0m\u001b[1;33m,\u001b[0m \u001b[0mrlab\u001b[0m\u001b[1;33m,\u001b[0m \u001b[0mshape\u001b[0m\u001b[1;33m,\u001b[0m \u001b[0msort\u001b[0m\u001b[1;33m)\u001b[0m\u001b[1;33m\u001b[0m\u001b[1;33m\u001b[0m\u001b[0m\n\u001b[0m\u001b[0;32m   2264\u001b[0m \u001b[1;33m\u001b[0m\u001b[0m\n\u001b[0;32m   2265\u001b[0m \u001b[1;33m\u001b[0m\u001b[0m\n",
      "\u001b[1;32m~\\Programy\\lib\\site-packages\\pandas\\core\\reshape\\merge.py\u001b[0m in \u001b[0;36m_get_join_keys\u001b[1;34m(llab, rlab, shape, sort)\u001b[0m\n\u001b[0;32m   2261\u001b[0m     \u001b[0mshape\u001b[0m \u001b[1;33m=\u001b[0m \u001b[1;33m[\u001b[0m\u001b[0mcount\u001b[0m\u001b[1;33m]\u001b[0m \u001b[1;33m+\u001b[0m \u001b[0mshape\u001b[0m\u001b[1;33m[\u001b[0m\u001b[0mnlev\u001b[0m\u001b[1;33m:\u001b[0m\u001b[1;33m]\u001b[0m\u001b[1;33m\u001b[0m\u001b[1;33m\u001b[0m\u001b[0m\n\u001b[0;32m   2262\u001b[0m \u001b[1;33m\u001b[0m\u001b[0m\n\u001b[1;32m-> 2263\u001b[1;33m     \u001b[1;32mreturn\u001b[0m \u001b[0m_get_join_keys\u001b[0m\u001b[1;33m(\u001b[0m\u001b[0mllab\u001b[0m\u001b[1;33m,\u001b[0m \u001b[0mrlab\u001b[0m\u001b[1;33m,\u001b[0m \u001b[0mshape\u001b[0m\u001b[1;33m,\u001b[0m \u001b[0msort\u001b[0m\u001b[1;33m)\u001b[0m\u001b[1;33m\u001b[0m\u001b[1;33m\u001b[0m\u001b[0m\n\u001b[0m\u001b[0;32m   2264\u001b[0m \u001b[1;33m\u001b[0m\u001b[0m\n\u001b[0;32m   2265\u001b[0m \u001b[1;33m\u001b[0m\u001b[0m\n",
      "\u001b[1;32m~\\Programy\\lib\\site-packages\\pandas\\core\\reshape\\merge.py\u001b[0m in \u001b[0;36m_get_join_keys\u001b[1;34m(llab, rlab, shape, sort)\u001b[0m\n\u001b[0;32m   2234\u001b[0m \u001b[1;33m\u001b[0m\u001b[0m\n\u001b[0;32m   2235\u001b[0m     \u001b[1;31m# how many levels can be done without overflow\u001b[0m\u001b[1;33m\u001b[0m\u001b[1;33m\u001b[0m\u001b[0m\n\u001b[1;32m-> 2236\u001b[1;33m     nlev = next(\n\u001b[0m\u001b[0;32m   2237\u001b[0m         \u001b[0mlev\u001b[0m\u001b[1;33m\u001b[0m\u001b[1;33m\u001b[0m\u001b[0m\n\u001b[0;32m   2238\u001b[0m         \u001b[1;32mfor\u001b[0m \u001b[0mlev\u001b[0m \u001b[1;32min\u001b[0m \u001b[0mrange\u001b[0m\u001b[1;33m(\u001b[0m\u001b[0mlen\u001b[0m\u001b[1;33m(\u001b[0m\u001b[0mshape\u001b[0m\u001b[1;33m)\u001b[0m\u001b[1;33m,\u001b[0m \u001b[1;36m0\u001b[0m\u001b[1;33m,\u001b[0m \u001b[1;33m-\u001b[0m\u001b[1;36m1\u001b[0m\u001b[1;33m)\u001b[0m\u001b[1;33m\u001b[0m\u001b[1;33m\u001b[0m\u001b[0m\n",
      "\u001b[1;32m~\\Programy\\lib\\site-packages\\pandas\\core\\reshape\\merge.py\u001b[0m in \u001b[0;36m<genexpr>\u001b[1;34m(.0)\u001b[0m\n\u001b[0;32m   2237\u001b[0m         \u001b[0mlev\u001b[0m\u001b[1;33m\u001b[0m\u001b[1;33m\u001b[0m\u001b[0m\n\u001b[0;32m   2238\u001b[0m         \u001b[1;32mfor\u001b[0m \u001b[0mlev\u001b[0m \u001b[1;32min\u001b[0m \u001b[0mrange\u001b[0m\u001b[1;33m(\u001b[0m\u001b[0mlen\u001b[0m\u001b[1;33m(\u001b[0m\u001b[0mshape\u001b[0m\u001b[1;33m)\u001b[0m\u001b[1;33m,\u001b[0m \u001b[1;36m0\u001b[0m\u001b[1;33m,\u001b[0m \u001b[1;33m-\u001b[0m\u001b[1;36m1\u001b[0m\u001b[1;33m)\u001b[0m\u001b[1;33m\u001b[0m\u001b[1;33m\u001b[0m\u001b[0m\n\u001b[1;32m-> 2239\u001b[1;33m         \u001b[1;32mif\u001b[0m \u001b[1;32mnot\u001b[0m \u001b[0mis_int64_overflow_possible\u001b[0m\u001b[1;33m(\u001b[0m\u001b[0mshape\u001b[0m\u001b[1;33m[\u001b[0m\u001b[1;33m:\u001b[0m\u001b[0mlev\u001b[0m\u001b[1;33m]\u001b[0m\u001b[1;33m)\u001b[0m\u001b[1;33m\u001b[0m\u001b[1;33m\u001b[0m\u001b[0m\n\u001b[0m\u001b[0;32m   2240\u001b[0m     )\n\u001b[0;32m   2241\u001b[0m \u001b[1;33m\u001b[0m\u001b[0m\n",
      "\u001b[1;32m~\\Programy\\lib\\site-packages\\pandas\\core\\sorting.py\u001b[0m in \u001b[0;36mis_int64_overflow_possible\u001b[1;34m(shape)\u001b[0m\n\u001b[0;32m    219\u001b[0m     \u001b[0mthe_prod\u001b[0m \u001b[1;33m=\u001b[0m \u001b[1;36m1\u001b[0m\u001b[1;33m\u001b[0m\u001b[1;33m\u001b[0m\u001b[0m\n\u001b[0;32m    220\u001b[0m     \u001b[1;32mfor\u001b[0m \u001b[0mx\u001b[0m \u001b[1;32min\u001b[0m \u001b[0mshape\u001b[0m\u001b[1;33m:\u001b[0m\u001b[1;33m\u001b[0m\u001b[1;33m\u001b[0m\u001b[0m\n\u001b[1;32m--> 221\u001b[1;33m         \u001b[0mthe_prod\u001b[0m \u001b[1;33m*=\u001b[0m \u001b[0mint\u001b[0m\u001b[1;33m(\u001b[0m\u001b[0mx\u001b[0m\u001b[1;33m)\u001b[0m\u001b[1;33m\u001b[0m\u001b[1;33m\u001b[0m\u001b[0m\n\u001b[0m\u001b[0;32m    222\u001b[0m \u001b[1;33m\u001b[0m\u001b[0m\n\u001b[0;32m    223\u001b[0m     \u001b[1;32mreturn\u001b[0m \u001b[0mthe_prod\u001b[0m \u001b[1;33m>=\u001b[0m \u001b[0mlib\u001b[0m\u001b[1;33m.\u001b[0m\u001b[0mi8max\u001b[0m\u001b[1;33m\u001b[0m\u001b[1;33m\u001b[0m\u001b[0m\n",
      "\u001b[1;31mKeyboardInterrupt\u001b[0m: "
     ]
    }
   ],
   "source": [
    "r, s = test_for_lengths(tree.DecisionTreeClassifier(max_depth=5), fdata, files.loc[[0, 11, 23],:], mini=100, maxi=2000, step=100, tries=10)\n",
    "print('rozmiary: ', s)\n",
    "print(r)"
   ]
  },
  {
   "cell_type": "code",
   "execution_count": null,
   "id": "16bdc08c",
   "metadata": {},
   "outputs": [],
   "source": [
    "so = io.StringIO()\n",
    "sortby = SortKey.CUM\n",
    "ps = pstats.Stats(pr, stream=so).sort_stats(sortby)\n",
    "ps.print_stats()\n",
    "print(so.getvalue())"
   ]
  },
  {
   "cell_type": "code",
   "execution_count": 40,
   "id": "f7e090df",
   "metadata": {
    "scrolled": false
   },
   "outputs": [
    {
     "data": {
      "text/plain": [
       "Text(0.5, 0, 'number of words')"
      ]
     },
     "execution_count": 40,
     "metadata": {},
     "output_type": "execute_result"
    },
    {
     "data": {
      "image/png": "[encoded data removed]",
      "text/plain": [
       "<Figure size 1000x1000 with 1 Axes>"
      ]
     },
     "metadata": {},
     "output_type": "display_data"
    }
   ],
   "source": [
    "plt.figure(figsize=(10, 10), dpi=100)\n",
    "plt.plot(s, r, marker='o')\n",
    "plt.title('Skuteczność w zależności od wielkości próbki')\n",
    "plt.ylim([0.3, 0.7])\n",
    "plt.ylabel('mean accuracy')\n",
    "plt.xlabel('number of words')"
   ]
  }
 ],
 "metadata": {
  "kernelspec": {
   "display_name": "Python 3 (ipykernel)",
   "language": "python",
   "name": "python3"
  },
  "language_info": {
   "codemirror_mode": {
    "name": "ipython",
    "version": 3
   },
   "file_extension": ".py",
   "mimetype": "text/x-python",
   "name": "python",
   "nbconvert_exporter": "python",
   "pygments_lexer": "ipython3",
   "version": "3.9.13"
  },
  "vscode": {
   "interpreter": {
    "hash": "b8dd5b33a86443fe513679c02cd28a92e41225ac53964ff0e7afc55cbcc9ed7e"
   }
  }
 },
 "nbformat": 4,
 "nbformat_minor": 5
}
