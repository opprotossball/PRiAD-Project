{
 "cells": [
  {
   "cell_type": "markdown",
   "id": "3343f13f",
   "metadata": {},
   "source": [
    "# Projekt PRIAD"
   ]
  },
  {
   "cell_type": "markdown",
   "id": "4b553490",
   "metadata": {},
   "source": [
    "## Rozpoznawanie autora utworu literackiego na podstawie treści utworu z wykorzystaniem worka słów."
   ]
  },
  {
   "cell_type": "markdown",
   "id": "1536703a",
   "metadata": {},
   "source": [
    "### Stanisław Maliński, Jan Stachurski"
   ]
  },
  {
   "cell_type": "markdown",
   "id": "c325b8c9",
   "metadata": {},
   "source": [
    "Importy"
   ]
  },
  {
   "cell_type": "code",
   "execution_count": 48,
   "id": "e83dca69",
   "metadata": {},
   "outputs": [],
   "source": [
    "import os\n",
    "import pandas as pd\n",
    "import numpy as np\n",
    "from math import log"
   ]
  },
  {
   "cell_type": "code",
   "execution_count": 49,
   "id": "1f5e80a9",
   "metadata": {},
   "outputs": [],
   "source": [
    "import warnings\n",
    "warnings.filterwarnings(\"ignore\")"
   ]
  },
  {
   "cell_type": "markdown",
   "id": "fe4ca9ad",
   "metadata": {},
   "source": [
    "Wczytywanie danych"
   ]
  },
  {
   "cell_type": "code",
   "execution_count": 50,
   "id": "760dae10",
   "metadata": {},
   "outputs": [],
   "source": [
    "data_path = \"./data/\"\n",
    "file_list = os.listdir(data_path)\n",
    "func = lambda  a : a.replace(\".txt\", \"\").split(\"-\")\n",
    "count_size = lambda a : os.stat(a).st_size\n",
    "data = [[func(title)[0], func(title)[1], data_path + title, count_size(data_path + title)] for title in file_list]\n",
    "files = pd.DataFrame(data, columns=['Author', 'Name of The work', 'FilePath', 'FileSize'])"
   ]
  },
  {
   "cell_type": "markdown",
   "id": "51f26f45",
   "metadata": {},
   "source": [
    "Przedstawiam zestaw uczący. Mamy tutaj pozycję kilku Polskich autorów."
   ]
  },
  {
   "cell_type": "code",
   "execution_count": 51,
   "id": "47b560c6",
   "metadata": {
    "scrolled": false
   },
   "outputs": [
    {
     "name": "stdout",
     "output_type": "stream",
     "text": [
      "                   FileSize\n",
      "Author                     \n",
      "AdamMickiewicz       784877\n",
      "HenrykSienkiewicz   9138403\n",
      "Juliusz Słowacki     329618\n"
     ]
    }
   ],
   "source": [
    "print(files.drop(columns=['Name of The work', 'FilePath']).groupby('Author').sum())"
   ]
  },
  {
   "cell_type": "markdown",
   "id": "57f33f82",
   "metadata": {},
   "source": [
    "Wczytanie stop-słów:"
   ]
  },
  {
   "cell_type": "code",
   "execution_count": 52,
   "id": "bd973fe1",
   "metadata": {},
   "outputs": [],
   "source": [
    "def get_stop_words():\n",
    "    delimeters = [\"\\\\n\", \"'\"]\n",
    "    stop_words = []\n",
    "    with open(\"./stopyPL.txt\", encoding=\"utf8\") as f:\n",
    "        for line in f:\n",
    "            word = repr(line)\n",
    "            for c in delimeters:\n",
    "                word = word.replace(c, \"\")\n",
    "            stop_words.append(word)\n",
    "    return stop_words"
   ]
  },
  {
   "cell_type": "markdown",
   "id": "093f8afd",
   "metadata": {},
   "source": [
    "Projekt ten używa worka słów, który to przechowuje informacje na temat częstości występowania słów w danym dokumencie. Definiujemy tu dwie funckje jedna do standaryzacji słów tzn. usunięcia ewentualnych znaków graficznych takich jak kropka czy przecinek oraz ustawienie wielkości liter na małe aby słowa \"Który\" oraz \"który\" były zliczane jako to same słowo.\n",
    "Druga funkcja służy do budowania worka słów. Zlicza najpierw pojedyńcze przypadki wystąpień, a następnie zlicza częstość wystąpień danego słowa."
   ]
  },
  {
   "cell_type": "code",
   "execution_count": 53,
   "id": "016f7a24",
   "metadata": {},
   "outputs": [],
   "source": [
    "special_char = [\".\", \",\", \"-\", \"?\", \"(\", \")\", \"!\", \"\\\\\", \"\\\"\", \":\", \";\", \"*\"]\n",
    "def normalize_text(word):\n",
    "    for char in special_char:\n",
    "        word = word.replace(char, \"\")\n",
    "    word = word.lower()\n",
    "    return word\n",
    "\n",
    "def get_text(FileName):\n",
    "    out = \"\"\n",
    "    n = 0\n",
    "    with open(FileName, \"r\", encoding=\"utf8\") as f:\n",
    "        for line in f:\n",
    "            out += line\n",
    "            n += 1\n",
    "        f.close()\n",
    "    return (n, out)\n",
    "        \n",
    "# 0 - generete bag with all words, 1 - bag without stopwords, 2 - bag with only stopwords\n",
    "stop_word = get_stop_words()\n",
    "def generate_word_bag(text, mode=0):\n",
    "    word_bag = {}\n",
    "    words_in_bag = 0\n",
    "    f = text.split(\"\\n\")\n",
    "    set_w = set()\n",
    "    for line in f:\n",
    "        words = line.split()\n",
    "        for word in words:\n",
    "            if word != '':\n",
    "                if (mode==0) or (mode==1 and not word in stop_word) or (mode==2 and word in stop_word):\n",
    "                    words_in_bag += 1\n",
    "                    if word in set_w:\n",
    "                        word_bag[word]['Count'] += 1\n",
    "                    else:\n",
    "                        word_bag[word] = {'Count':1, 'Frequent':1, 'Is stop word': word in stop_word}\n",
    "                        set_w.add(word)\n",
    "\n",
    "    for word in word_bag.keys():\n",
    "        word_bag[word]['Frequent'] = word_bag[word]['Count'] / words_in_bag\n",
    "    return (word_bag, set_w)                                                        "
   ]
  },
  {
   "cell_type": "code",
   "execution_count": 54,
   "id": "acc39f4e",
   "metadata": {
    "scrolled": true
   },
   "outputs": [
    {
     "name": "stdout",
     "output_type": "stream",
     "text": [
      "W pliku: \"./data/AdamMickiewicz-Ajudah.txt\" Słowo: \"poglądać\" występowało z częstością: 1.09e-02\n"
     ]
    }
   ],
   "source": [
    "file = files['FilePath'][0]\n",
    "dictionary = generate_word_bag(get_text(file)[1])[0]\n",
    "slowa = dictionary.keys()\n",
    "slowo = list(slowa)[2]\n",
    "\n",
    "print(\"W pliku: \\\"{}\\\" Słowo: \\\"{}\\\" występowało z częstością: {:.2e}\".format(file, slowo, dictionary[slowo]['Frequent']))"
   ]
  },
  {
   "cell_type": "code",
   "execution_count": 55,
   "id": "d2fb1c36",
   "metadata": {},
   "outputs": [],
   "source": [
    "def head(dictionary, start=0, end=None, step=1, fname=None):\n",
    "    words = list(dictionary.keys())\n",
    "    if end is None:\n",
    "        end = min(5, len(words))\n",
    "    if fname is not None:\n",
    "        print(\"W pliku\\\"{}\\\"\".format(fname), \":\")\n",
    "    for word in words[start:end:step]:\n",
    "        print(\"Słowo: \\\"{}\\\" występowało z częstością: {:.2e}\".format(word,dictionary[word]['Frequent']), sep=\"\")"
   ]
  },
  {
   "cell_type": "code",
   "execution_count": 56,
   "id": "9bb7eadc",
   "metadata": {
    "scrolled": true
   },
   "outputs": [
    {
     "name": "stdout",
     "output_type": "stream",
     "text": [
      "W pliku\"./data/AdamMickiewicz-Ałuszta w dzień.txt\" :\n",
      "Słowo: \"w\" występowało z częstością: 2.17e-01\n",
      "Słowo: \"z\" występowało z częstością: 2.17e-01\n",
      "Słowo: \"się\" występowało z częstością: 1.74e-01\n"
     ]
    }
   ],
   "source": [
    "file = files[\"FilePath\"][1]\n",
    "dictionary = generate_word_bag(get_text(file)[1], 2)[0]\n",
    "head(dictionary, end=3, fname=file)"
   ]
  },
  {
   "cell_type": "code",
   "execution_count": 57,
   "id": "67a3c21a",
   "metadata": {},
   "outputs": [
    {
     "name": "stdout",
     "output_type": "stream",
     "text": [
      "w -> 5\n",
      "z -> 5\n",
      "się -> 4\n",
      "i -> 4\n"
     ]
    }
   ],
   "source": [
    "def show_most_frequent(dic, threshold=0):\n",
    "    po_czestosci = dict(sorted(dic.items(), key=lambda x: int(x[1]['Count']), reverse = True))\n",
    "    for index, word in enumerate(po_czestosci.keys()):\n",
    "        if threshold == 0 and index < 10:\n",
    "            print(word + \" -> \" + str(po_czestosci[word]['Count']))\n",
    "        elif threshold == 0:\n",
    "            break\n",
    "        elif po_czestosci[word]['Count'] > threshold:\n",
    "            print(word + \" -> \" + str(po_czestosci[word]['Count']))\n",
    "        else:\n",
    "            break\n",
    "\n",
    "show_most_frequent(dictionary, 2)"
   ]
  },
  {
   "cell_type": "markdown",
   "id": "370ee410",
   "metadata": {},
   "source": [
    "Mamy już mały warsztat narzędzi do analizy utworów. Stworzymy teraz parę funckji, które pozwolą nam zgrabnie manipulować macierzą danych. \n",
    "merge_dics_to_df - łączy worki słów w ramkę danych, którą później wykorzystamy do nauki klasyfikatora.\n",
    "tf_idf - analiza TF_IDF."
   ]
  },
  {
   "cell_type": "code",
   "execution_count": 58,
   "id": "b7dc3536",
   "metadata": {},
   "outputs": [],
   "source": [
    "def merge_dics_to_df(dics_and_sets, labels=None, transform=lambda x:x):\n",
    "    tab = []\n",
    "    word_found = set()\n",
    "    index = []\n",
    "    for dic, _ in dics_and_sets:\n",
    "        words = list(dic.keys())\n",
    "        for word in words:\n",
    "            if not word in word_found:\n",
    "                word_found.add(word)\n",
    "                index.append(word)\n",
    "                rec = []\n",
    "                for dictionary, set_w in dics_and_sets:\n",
    "                    if word in set_w:\n",
    "                        rec.append(transform(dictionary[word]))\n",
    "                        del dictionary[word]\n",
    "                        set_w.remove(word)\n",
    "                    else:\n",
    "                        rec.append(0)\n",
    "                tab.append(rec)\n",
    "    \n",
    "    df = pd.DataFrame(tab, columns=labels, index=index)\n",
    "    \n",
    "    return df.T"
   ]
  },
  {
   "cell_type": "code",
   "execution_count": 59,
   "id": "b97c61bc",
   "metadata": {},
   "outputs": [],
   "source": [
    "def tfidf(data):\n",
    "    df = data.copy()\n",
    "    labels = data['labels']\n",
    "    df = df.drop(columns=['labels'])\n",
    "    nwords = df.shape[1]\n",
    "    nbooks = df.shape[0]\n",
    "    tf = np.empty((nbooks, nwords))\n",
    "    sm = df.sum(axis=1)\n",
    "    for i in range(nbooks):\n",
    "        tf[i,:] = np.array(df.iloc[i,: ] / sm[i])\n",
    "    inbooks = np.array((df > 0)*1).sum(axis=0)\n",
    "    idf = [log(nbooks / val, 10) for val in inbooks]\n",
    "    tfidf = pd.DataFrame((tf*np.array([idf,]*nbooks)*100), columns=df.columns)\n",
    "    tfidf['labels'] = labels\n",
    "    return tfidf"
   ]
  },
  {
   "cell_type": "code",
   "execution_count": 60,
   "id": "522177c1",
   "metadata": {},
   "outputs": [],
   "source": [
    "def frequency(data):\n",
    "    df = data.copy()\n",
    "    labels = data['labels']\n",
    "    df = df.drop(columns=['labels'])\n",
    "    nwords = df.shape[1]\n",
    "    nbooks = df.shape[0]\n",
    "    tf = np.empty((nbooks, nwords))\n",
    "    sm = df.sum(axis=1)\n",
    "    for i in range(nbooks):\n",
    "        tf[i,:] = np.array(df.iloc[i,: ] / sm[i])\n",
    "    fdf = pd.DataFrame(tf, columns=df.columns)\n",
    "    fdf['labels'] = labels\n",
    "    return fdf"
   ]
  },
  {
   "cell_type": "code",
   "execution_count": 61,
   "id": "0187ffbf",
   "metadata": {},
   "outputs": [],
   "source": [
    "def drop_threshold(df, threshold):\n",
    "    to_drop = []\n",
    "    labels = df['labels']\n",
    "    df = df.drop(columns='labels')\n",
    "    for col in df.columns:\n",
    "        if (df[col] < threshold).all():\n",
    "            to_drop.append(col)\n",
    "    df = df.drop(columns=to_drop)\n",
    "    df['labels'] = labels\n",
    "    return df"
   ]
  },
  {
   "cell_type": "markdown",
   "id": "388d57c8",
   "metadata": {},
   "source": [
    "Teraz musimy stworzyć model, który będzie klasyfikował do jakiego autora należy dany utwór."
   ]
  },
  {
   "attachments": {},
   "cell_type": "markdown",
   "id": "11331428",
   "metadata": {},
   "source": [
    "Wczytanie i obliczenie słowników dla wszystkich utworów."
   ]
  },
  {
   "cell_type": "code",
   "execution_count": 62,
   "id": "6b755729",
   "metadata": {},
   "outputs": [],
   "source": [
    "def load(files, mode=2):\n",
    "    word_bags = []\n",
    "    index = []\n",
    "    labels = []\n",
    "\n",
    "    for path, name, label in zip(files['FilePath'], files['Name of The work'], files['Author']):\n",
    "        n, cont = get_text(path)\n",
    "        cont = normalize_text(cont)\n",
    "        word_bags.append(generate_word_bag(cont, mode=mode))\n",
    "        index.append(name)\n",
    "        labels.append(label)\n",
    "        \n",
    "    df = merge_dics_to_df(word_bags, index, lambda x:x['Count'])\n",
    "    df['labels'] = labels\n",
    "        \n",
    "    return df       "
   ]
  },
  {
   "attachments": {},
   "cell_type": "markdown",
   "id": "6dc9424c",
   "metadata": {},
   "source": [
    "Połączenie wszystkich dzieł jednego autora w jeden wiersz w tabeli."
   ]
  },
  {
   "cell_type": "code",
   "execution_count": 63,
   "id": "ffcf2ebf",
   "metadata": {},
   "outputs": [],
   "source": [
    "def merge_author(data):\n",
    "    df = data.reset_index()\n",
    "    df = df.drop(columns='index')\n",
    "    newdf = pd.DataFrame(columns=df.columns)\n",
    "    for index, row in df.iterrows():\n",
    "        ind = newdf.index[newdf['labels']==row['labels']].tolist()\n",
    "        if len(ind) == 0:\n",
    "            newdf = newdf.append(row)\n",
    "        else:\n",
    "            label = row['labels']\n",
    "            newdf.loc[ind[0],] += row\n",
    "            newdf.loc[ind[0],'labels'] = label\n",
    "    newdf = newdf.reset_index()\n",
    "    newdf = newdf.drop(columns='index')\n",
    "    return newdf"
   ]
  },
  {
   "cell_type": "markdown",
   "id": "f174aa3e",
   "metadata": {},
   "source": [
    "Jak widzimy mamy już ramkę danych, w której każdym obiektem jest dzieło a wektorem atrybutów jest częstość wystąpień poszczególnych słów w każdym z dzieł. Dodaliśmy również atrybuty decyzyjny czyli nazwisko autora danego dzieła."
   ]
  },
  {
   "cell_type": "code",
   "execution_count": 81,
   "id": "697dbeac",
   "metadata": {},
   "outputs": [],
   "source": [
    "from sklearn.model_selection import train_test_split\n",
    "from sklearn.neighbors import NearestNeighbors\n",
    "from sklearn.neighbors import KNeighborsClassifier\n",
    "from sklearn.neighbors import NearestCentroid\n",
    "from sklearn.naive_bayes import GaussianNB\n",
    "from sklearn.linear_model import LinearRegression\n",
    "from sklearn.metrics import confusion_matrix\n",
    "from sklearn import metrics\n",
    "from sklearn import tree\n",
    "\n",
    "import random"
   ]
  },
  {
   "cell_type": "markdown",
   "id": "3c7d22f6",
   "metadata": {},
   "source": [
    "Metoda get_learning_data dzieli naszą macierz danych na dane uczące oraz testowe w pewnej proporcji. Dzięki temu będziemy mogli zweryfikować jak dobry nasz model jest."
   ]
  },
  {
   "cell_type": "code",
   "execution_count": 121,
   "id": "52fd7542",
   "metadata": {},
   "outputs": [],
   "source": [
    "# def get_learning_data(df, proporcja):\n",
    "#     opis_ucz, opis_test, dec_ucz, dec_test = train_test_split(df.iloc[:,0:-1], df.iloc[:,-1].astype('category').cat.codes, test_size=proporcja)#, random_state=0)\n",
    "#     return {\"opis_ucz\":opis_ucz, \"opis_test\":opis_test, \"dec_ucz\":dec_ucz, \"dec_test\":dec_test}\n",
    "def train_test_data(data, test_size=0.2, seed=None):\n",
    "    if seed is not None:\n",
    "        random.seed(seed)\n",
    "    df = data.reset_index()\n",
    "    df = df.drop(columns='index')\n",
    "    ntest = int(df.shape[0] * test_size)\n",
    "    testr = random.sample(range(df.shape[0]), ntest)\n",
    "    return df.drop(testr).reset_index().drop(columns='index'), df.loc[testr].reset_index().drop(columns='index')"
   ]
  },
  {
   "cell_type": "code",
   "execution_count": 66,
   "id": "3038487f",
   "metadata": {},
   "outputs": [],
   "source": [
    "def weryfikuj(model, traind, testd, show=True):\n",
    "    model.fit(traind.drop(columns='labels'), traind['labels'])\n",
    "    wynik_ucz = model.predict(traind.drop(columns='labels'))\n",
    "    wynik_test = model.predict(testd.drop(columns='labels'))\n",
    "\n",
    "    learn_s = model.score(traind.drop(columns='labels'), traind['labels'])\n",
    "    test_s = model.score(testd.drop(columns='labels'), testd['labels'])\n",
    "    \n",
    "    if show:\n",
    "        print(\"\\tWynik dla danych uczących: \", end=\"\")\n",
    "        print(learn_s)\n",
    "        print(\"\\tWynik dla danych testowych: \", end=\"\")\n",
    "        print(test_s)\n",
    "    \n",
    "    return learn_s, test_s"
   ]
  },
  {
   "cell_type": "code",
   "execution_count": 139,
   "id": "6ca0b34d",
   "metadata": {},
   "outputs": [],
   "source": [
    "models = ((\"NS\", KNeighborsClassifier(n_neighbors=1)), \n",
    "          #(\"KNS5\", KNeighborsClassifier(n_neighbors=5)),\n",
    "          #(\"KNS10\", KNeighborsClassifier(n_neighbors=10)), # dawało mi błąd że mniej sampli niż sąsiadów czy coś (merge_authors)\n",
    "          (\"BK\", GaussianNB()),\n",
    "          (\"DT5\", tree.DecisionTreeClassifier(max_depth=5)),\n",
    "          (\"DT10\", tree.DecisionTreeClassifier(max_depth=10)))\n"
   ]
  },
  {
   "attachments": {},
   "cell_type": "markdown",
   "id": "fd363f33",
   "metadata": {},
   "source": [
    "Przeprowadzimy teraz klasyfikacje na danych testowych w trzech wariantach:\n",
    "* Worek słów składa się wyłącznie z stop słów   \n",
    "* Worek słów składa się ze słów, które nie są stop słowami   \n",
    "* Worek słów będzie składał się ze wszystkich słów   \n",
    "\n",
    "Do wykonania tego zadania posłuży nam metoda:"
   ]
  },
  {
   "cell_type": "code",
   "execution_count": 72,
   "id": "95602800",
   "metadata": {
    "scrolled": false
   },
   "outputs": [],
   "source": [
    "def test_classifier(dlearn, dtest, tries=100):\n",
    "    res = {}\n",
    "    progress = len(models)*tries\n",
    "    l_space = max([len(str(model)) for model in models])\n",
    "    for index, name_mod in enumerate(models):\n",
    "        name, mod = name_mod\n",
    "        if mod is None:\n",
    "            break\n",
    "        sum_t = 0\n",
    "        sum_l = 0\n",
    "        ofs = str(l_space - len(str(mod)) - 10)\n",
    "        line = \"Ukończono w {pr:.2f}% - Sprawdzono model \\\"{m}\\\"{o:<\" + ofs + \"} razy {t}##\"\n",
    "        for i in range(1, tries + 1):\n",
    "            d_l, d_t= weryfikuj(mod, dlearn, dtest, show=False)\n",
    "            sum_l += d_l\n",
    "            sum_t += d_t\n",
    "            print(line.format(pr=(index*tries + i)*100/progress,\n",
    "                              m=str(mod), \n",
    "                              o=\"\",\n",
    "                              t=i) , end='\\r')\n",
    "        res[name] = (sum_l/tries, sum_t/tries)\n",
    "    respd = pd.DataFrame(res, index=[\"uczące\", \"testowe\"])\n",
    "    \n",
    "    return respd.T"
   ]
  },
  {
   "cell_type": "code",
   "execution_count": 155,
   "id": "e9a14d2b",
   "metadata": {},
   "outputs": [],
   "source": [
    "data1 = load(files, mode=1)\n",
    "data2 = load(files, mode=2)"
   ]
  },
  {
   "cell_type": "code",
   "execution_count": 144,
   "id": "c0244d4a",
   "metadata": {},
   "outputs": [
    {
     "name": "stdout",
     "output_type": "stream",
     "text": [
      "Klasyfickaja bez stop słów\n",
      "Ukończono w 100.00% - Sprawdzono model \"DecisionTreeClassifier(max_depth=10)\" razy 1##\r"
     ]
    },
    {
     "data": {
      "text/plain": [
       "<AxesSubplot:>"
      ]
     },
     "execution_count": 144,
     "metadata": {},
     "output_type": "execute_result"
    },
    {
     "data": {
      "image/png": "[encoded data removed]",
      "text/plain": [
       "<Figure size 640x480 with 1 Axes>"
      ]
     },
     "metadata": {},
     "output_type": "display_data"
    }
   ],
   "source": [
    "d1 = drop_threshold(data1, 50)\n",
    "splitd = train_test_data(d1, 0.2, seed=8)\n",
    "dlearn = tfidf(splitd[0])\n",
    "dlearn = splitd[0]\n",
    "print(\"Klasyfickaja bez stop słów\")\n",
    "respd1 = test_classifier(dlearn, splitd[1], tries=1)\n",
    "respd1.plot(kind='bar', rot = 45)"
   ]
  },
  {
   "cell_type": "code",
   "execution_count": 156,
   "id": "d5b2286a",
   "metadata": {},
   "outputs": [
    {
     "name": "stdout",
     "output_type": "stream",
     "text": [
      "Klasyfickaja na stop słowach\n",
      "Ukończono w 100.00% - Sprawdzono model \"DecisionTreeClassifier(max_depth=10)\" razy 100##\r"
     ]
    },
    {
     "data": {
      "text/plain": [
       "<AxesSubplot:>"
      ]
     },
     "execution_count": 156,
     "metadata": {},
     "output_type": "execute_result"
    },
    {
     "data": {
      "image/png": "[encoded data removed]",
      "text/plain": [
       "<Figure size 640x480 with 1 Axes>"
      ]
     },
     "metadata": {},
     "output_type": "display_data"
    }
   ],
   "source": [
    "d2 = drop_threshold(data2, 50)\n",
    "splitd = train_test_data(d2, 0.2, seed=8)\n",
    "dlearn = frequency(splitd[0])\n",
    "print(\"Klasyfickaja na stop słowach\")\n",
    "respd2 = test_classifier(dlearn, splitd[1])\n",
    "respd2.plot(kind='bar', rot = 45)"
   ]
  },
  {
   "attachments": {},
   "cell_type": "markdown",
   "id": "76572d80",
   "metadata": {},
   "source": [
    "Wygląda na to że klasyfikacja z użyciem częstości występowania stop-słów daje lepsze rezultaty niż klasyfikacja po metryka tfidf dla nie-stop słów, należy jednak zauważyć, że skuteczność modelu zależy też od podziału danych na uczące i testowe. Przykładowo, klasyfikacja na podstawie stop-słów dla innej wartości seed:"
   ]
  },
  {
   "cell_type": "code",
   "execution_count": 158,
   "id": "38e971b8",
   "metadata": {},
   "outputs": [
    {
     "name": "stdout",
     "output_type": "stream",
     "text": [
      "Klasyfickaja na stop słowach\n",
      "Ukończono w 100.00% - Sprawdzono model \"DecisionTreeClassifier(max_depth=10)\" razy 100##\r"
     ]
    },
    {
     "data": {
      "text/plain": [
       "<AxesSubplot:>"
      ]
     },
     "execution_count": 158,
     "metadata": {},
     "output_type": "execute_result"
    },
    {
     "data": {
      "image/png": "[encoded data removed]",
      "text/plain": [
       "<Figure size 640x480 with 1 Axes>"
      ]
     },
     "metadata": {},
     "output_type": "display_data"
    }
   ],
   "source": [
    "d2 = drop_threshold(data2, 50)\n",
    "splitd = train_test_data(d2, 0.2, seed=1)\n",
    "dlearn = frequency(splitd[0])\n",
    "print(\"Klasyfickaja na stop słowach\")\n",
    "respd2 = test_classifier(dlearn, splitd[1])\n",
    "respd2.plot(kind='bar', rot = 45)"
   ]
  },
  {
   "attachments": {},
   "cell_type": "markdown",
   "id": "0de7a88e",
   "metadata": {},
   "source": [
    "Klasyfikacja po stop-słowach kiedy łączymy wszystkie dzieła 1 autora daje jak widać podobne rezultaty."
   ]
  },
  {
   "cell_type": "code",
   "execution_count": 160,
   "id": "44ebddad",
   "metadata": {},
   "outputs": [
    {
     "name": "stdout",
     "output_type": "stream",
     "text": [
      "Klasyfickaja na stop słowach\n",
      "Ukończono w 100.00% - Sprawdzono model \"DecisionTreeClassifier(max_depth=10)\" razy 100##\r"
     ]
    },
    {
     "data": {
      "text/plain": [
       "<AxesSubplot:>"
      ]
     },
     "execution_count": 160,
     "metadata": {},
     "output_type": "execute_result"
    },
    {
     "data": {
      "image/png": "[encoded data removed]",
      "text/plain": [
       "<Figure size 640x480 with 1 Axes>"
      ]
     },
     "metadata": {},
     "output_type": "display_data"
    }
   ],
   "source": [
    "d2 = drop_threshold(data2, 50)\n",
    "splitd = train_test_data(d2, 0.2, seed=8)\n",
    "dlearn = merge_author(splitd[0])\n",
    "dlearn = frequency(dlearn)\n",
    "print(\"Klasyfickaja na stop słowach\")\n",
    "respd2 = test_classifier(dlearn, splitd[1])\n",
    "respd2.plot(kind='bar', rot = 45)"
   ]
  },
  {
   "cell_type": "code",
   "execution_count": 170,
   "id": "f9c6544d",
   "metadata": {},
   "outputs": [
    {
     "name": "stdout",
     "output_type": "stream",
     "text": [
      "Klasyfickaja bez stop słów\n",
      "Ukończono w 100.00% - Sprawdzono model \"DecisionTreeClassifier(max_depth=10)\" razy 100##\r"
     ]
    },
    {
     "data": {
      "text/plain": [
       "<AxesSubplot:>"
      ]
     },
     "execution_count": 170,
     "metadata": {},
     "output_type": "execute_result"
    },
    {
     "data": {
      "image/png": "[encoded data removed]",
      "text/plain": [
       "<Figure size 640x480 with 1 Axes>"
      ]
     },
     "metadata": {},
     "output_type": "display_data"
    }
   ],
   "source": [
    "d1 = drop_threshold(data1, 50)\n",
    "splitd = train_test_data(d1, 0.2, seed=8)\n",
    "dlearn = merge_author(splitd[0])\n",
    "dlearn = tfidf(dlearn)\n",
    "dlearn = dlearn.fillna(0) # nwm czemu się pojawiają\n",
    "print(\"Klasyfickaja bez stop słów\")\n",
    "respd1 = test_classifier(dlearn, splitd[1])\n",
    "respd1.plot(kind='bar', rot = 45)"
   ]
  }
 ],
 "metadata": {
  "kernelspec": {
   "display_name": "Python 3 (ipykernel)",
   "language": "python",
   "name": "python3"
  },
  "language_info": {
   "codemirror_mode": {
    "name": "ipython",
    "version": 3
   },
   "file_extension": ".py",
   "mimetype": "text/x-python",
   "name": "python",
   "nbconvert_exporter": "python",
   "pygments_lexer": "ipython3",
   "version": "3.9.13"
  },
  "vscode": {
   "interpreter": {
    "hash": "b8dd5b33a86443fe513679c02cd28a92e41225ac53964ff0e7afc55cbcc9ed7e"
   }
  }
 },
 "nbformat": 4,
 "nbformat_minor": 5
}
